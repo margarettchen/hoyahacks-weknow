{
 "cells": [
  {
   "cell_type": "markdown",
   "metadata": {},
   "source": [
    "# Introduction to NumPy and Pandas\n",
    "\n",
    "## What is NumPy?\n",
    "\n",
    "NumPy is a package in Python used for powerful, scalable computation. NumPy has a special array object that allows it store data in a smaller memory size and have faster access/edit times than ordinary Python list objects. It also has a large number of useful mathematical functions for linear algebra, fourier transforms, etc. We're going to mainly focus on the array objects today.\n",
    "\n",
    "## Installation of Packages\n",
    "Before we dive into Numpy, we need to first install the package and then import it. First, you want to make sure that you have pip3 installed. This is a tool that makes it really easy to install the numerous packages that are found on the Python Package Index. Chances are that your computer already has pip installed but you need pip3, since we're working in Python 3. \n",
    "\n",
    "Go to your terminal and type:\n",
    "\n",
    "```terminal\n",
    "sudo easy_install pip\n",
    "\n",
    "```\n",
    "After you enter your login password, you have successfully installed the most recent version of pip and pip3! Now anytime you want to install a package, you type in the terminal: \n",
    "\n",
    "```terminal\n",
    "pip3 install insert_package_name_here\n",
    "```\n",
    "Or if you just want to do it within the Jupyter Notebook, just type: \n",
    "```terminal\n",
    "!pip3 install insert_package_name_here\n",
    "```\n",
    "Try installing 'numpy' on your own!\n",
    "\n",
    "## Importing Packages\n",
    "\n",
    "You only have to install a new package once using terminal. However, the package is not automatically added into your program; you need to first import it. We are going to import NumPy's contents into our program. Anytime we use a NumPy array or function, we can call it using an abbreviated name like np instead of typing the whole name (numpy). "
   ]
  },
  {
   "cell_type": "code",
   "execution_count": 2,
   "metadata": {
    "collapsed": true
   },
   "outputs": [],
   "source": [
    "# Note that there is no output when you import a package\n",
    "import numpy as np"
   ]
  },
  {
   "cell_type": "markdown",
   "metadata": {},
   "source": [
    "## NumPy Arrays\n",
    "The NumPy array is a homogeneous, multidimensional array. Let's break that down. \n",
    "\n",
    "1. Homogeneous \n",
    "    * Every element in a NumPy array is of the same datatype. \n",
    "        * The result is that you can save much more memory than storing the data in a List\n",
    "    * They can be all integers, all floats, or all strings. \n",
    "    * What happens if there's a mix of datatypes in your NumPy array? \n",
    "        * You'll experiment shortly and see what happens.\n",
    "\n",
    "2. Multidimensional\n",
    "    * You can have 1D NumPy arrays, 2D NumPy matrices, and more! \n",
    "    * Multidimensional NumPy arrays are much more easy to work with than multidimensional Python Lists, as you will see\n",
    "\n",
    "3. Array\n",
    "    * An array is an ordered group of elements stored in contiguous memory. \n",
    "    * Python actually does not have a native array data structure. \n",
    "        * Python only has lists which have its elements scattered all across memory!\n",
    "    * NumPy arrays have their elements stored in one continuous block of memory. \n",
    "        * The result is much faster access to elements!\n",
    "       \n",
    "       \n",
    "\n",
    "![NUMPY ARRAY VS. PYTHON LIST](array_vs_list.png)\n",
    "\n",
    "\n",
    "For more information on how Numpy Arrays work \"under the hood\" check out its [documentation](https://docs.scipy.org/doc/numpy/reference/internals.html)\n",
    "\n",
    "Jake VanderPlas, one of the core contributors to the machine learning package Sci-kit Learn, created the image above, and he wrote a really great article explaining why Python is generally slow, linked [here](https://jakevdp.github.io/blog/2014/05/09/why-python-is-slow/). \n",
    "\n",
    "\n",
    "Let's actually get started!\n",
    "\n",
    "## Creating a NumPy Array"
   ]
  },
  {
   "cell_type": "code",
   "execution_count": null,
   "metadata": {},
   "outputs": [],
   "source": [
    "# There are many ways to create an array! \n",
    "\n",
    "# Creating an array from a list\n",
    "lis = [[1,2,3],[4,5,6]]\n",
    "arr = np.array(lis)\n",
    "print(arr)\n",
    "print(type(arr))\n",
    "\n",
    "print(\"\\n\")  # \\n creates a new line break\n",
    "print() # same with just an empty print function\n",
    "\n",
    "# Or creating an array using the arange function\n",
    "arr2 = np.arange(8)\n",
    "print(arr2)\n",
    "arr2 = np.arange(1, 9)\n",
    "print(arr2)\n",
    "arr2 = np.arange(1, 9, 2) \n",
    "print(arr2)\n"
   ]
  },
  {
   "cell_type": "markdown",
   "metadata": {},
   "source": [
    "The **shape** of a 2D array is the number of rows by the number of columns in the array. \n",
    "\n",
    "The shape is a property of a NumPy array object. That means you can get its value by the dot notation or a function\n"
   ]
  },
  {
   "cell_type": "code",
   "execution_count": null,
   "metadata": {},
   "outputs": [],
   "source": [
    "print(\"The shape of a 2D array is \" + str(arr.shape))\n",
    "# In the print statement, substitute 'arr.shape' for 'np.shape(arr)'\n"
   ]
  },
  {
   "cell_type": "markdown",
   "metadata": {},
   "source": [
    "If we want to change the shape of an array, we can use the **reshape** function."
   ]
  },
  {
   "cell_type": "code",
   "execution_count": null,
   "metadata": {},
   "outputs": [],
   "source": [
    "arr2 = np.arange(1,9).reshape(2,4)\n",
    "print(arr2)\n",
    "print()\n",
    "arr2 = np.arange(1,9).reshape(2,-1) # What happens if one dimension is -1?\n",
    "print(arr2)"
   ]
  },
  {
   "cell_type": "markdown",
   "metadata": {},
   "source": [
    "You can use the **zeros** function to create an array of place-holder zeros with a certain shape"
   ]
  },
  {
   "cell_type": "code",
   "execution_count": null,
   "metadata": {},
   "outputs": [],
   "source": [
    "arr3 = np.zeros((3,5))\n",
    "print(arr3)"
   ]
  },
  {
   "cell_type": "markdown",
   "metadata": {},
   "source": [
    "### Explore:\n",
    " Use the next cell to briefly experiment with the shape of different 1D arrays and 3D arrays. \n",
    " Also figure out what the properties 'size' and 'ndim' do without looking it up on the documentation. "
   ]
  },
  {
   "cell_type": "code",
   "execution_count": null,
   "metadata": {},
   "outputs": [],
   "source": [
    "# Practice"
   ]
  },
  {
   "cell_type": "code",
   "execution_count": null,
   "metadata": {},
   "outputs": [],
   "source": [
    "# We can also stack arrays on top of each other or next to each other\n",
    "x = np.arange(0,10,2)                     \n",
    "y = np.arange(5)   \n",
    "print(x)\n",
    "print(y)\n",
    "print()\n",
    "\n",
    "# Dimensions of arguments must match exactly\n",
    "xTopOfY = np.vstack([x,y])  \n",
    "print(xTopOfY)\n",
    "print() \n",
    "xNextToY = np.hstack([x,y])   \n",
    "print(xNextToY)"
   ]
  },
  {
   "cell_type": "markdown",
   "metadata": {},
   "source": [
    "## NumPy Array Datatypes"
   ]
  },
  {
   "cell_type": "markdown",
   "metadata": {},
   "source": [
    "An important part of NumPy arrays are that every element is of the same data type.\n",
    "We can use the property **dtype** to figure out what datatype it holds"
   ]
  },
  {
   "cell_type": "code",
   "execution_count": 3,
   "metadata": {},
   "outputs": [
    {
     "name": "stdout",
     "output_type": "stream",
     "text": [
      "[[1 2 3 4]\n",
      " [5 6 7 8]]\n",
      "Every element in the array has datatype: int64\n"
     ]
    }
   ],
   "source": [
    "arr = np.arange(1,9).reshape(2,4)\n",
    "print(arr)\n",
    "print(\"Every element in the array has datatype: \" + str(arr.dtype))"
   ]
  },
  {
   "cell_type": "markdown",
   "metadata": {},
   "source": [
    "You can also force cast each element to be the same type by adding another argument"
   ]
  },
  {
   "cell_type": "code",
   "execution_count": 4,
   "metadata": {},
   "outputs": [
    {
     "name": "stdout",
     "output_type": "stream",
     "text": [
      "[[ 1.  2.]\n",
      " [ 3.  4.]]\n",
      "Every element in the array has datatype: float64\n"
     ]
    }
   ],
   "source": [
    "arr = np.array([[1,2], [3,4]], float)\n",
    "print(arr)\n",
    "print(\"Every element in the array has datatype: \" + str(arr.dtype))"
   ]
  },
  {
   "cell_type": "markdown",
   "metadata": {},
   "source": [
    "### Explore:\n",
    "Use the next cell to figure out what happens if you have an array with a mixture of types (float and int), (int and string), etc. What is the resulting datatype of the array? The behavior that you will observe is called **upcasting**. "
   ]
  },
  {
   "cell_type": "code",
   "execution_count": null,
   "metadata": {},
   "outputs": [],
   "source": [
    "# Explore code here"
   ]
  },
  {
   "cell_type": "markdown",
   "metadata": {},
   "source": [
    "# Iterating through NumPy Arrays"
   ]
  },
  {
   "cell_type": "code",
   "execution_count": 5,
   "metadata": {},
   "outputs": [
    {
     "name": "stdout",
     "output_type": "stream",
     "text": [
      "[[ 1.  2.]\n",
      " [ 3.  4.]]\n",
      "\n",
      "\n",
      "[ 1.  2.]\n",
      "[ 3.  4.]\n",
      "\n",
      "\n",
      "[ 1.  3.]\n",
      "[ 2.  4.]\n",
      "\n",
      "\n",
      "1.0\n",
      "2.0\n",
      "3.0\n",
      "4.0\n"
     ]
    }
   ],
   "source": [
    "# Now let's iterate through a NumPy array\n",
    "print(arr)\n",
    "print(\"\\n\")\n",
    "\n",
    "for row in arr:\n",
    "    print(row)\n",
    "print(\"\\n\")\n",
    "\n",
    "for col in arr.T: # T means transpose (switching rows and columns)\n",
    "    print(col)\n",
    "print(\"\\n\")\n",
    " \n",
    "for element in arr.flatten(): # flatten function basically takes multi-dim array and returns a 1D array representation\n",
    "    print(element)\n"
   ]
  },
  {
   "cell_type": "markdown",
   "metadata": {},
   "source": [
    "Arithemtic operations on NumPy arrays are applied element to element"
   ]
  },
  {
   "cell_type": "code",
   "execution_count": 6,
   "metadata": {},
   "outputs": [
    {
     "name": "stdout",
     "output_type": "stream",
     "text": [
      "[[ 5 10 15]\n",
      " [20 25 30]] \n",
      "\n",
      "[[ 3  2  4]\n",
      " [ 8  7 14]] \n",
      "\n",
      "[[ 2  8 11]\n",
      " [12 18 16]]\n",
      "\n",
      "\n",
      "[[False False False]\n",
      " [ True  True  True]]\n"
     ]
    }
   ],
   "source": [
    "a = np.arange(5, 35, 5).reshape((2,3))\n",
    "print(a, \"\\n\")\n",
    "\n",
    "b = np.array([[3, 2, 4], [8, 7, 14]])\n",
    "print(b, \"\\n\")\n",
    "\n",
    "print(a-b)\n",
    "\n",
    "print(\"\\n\")\n",
    "\n",
    "print(a>15)"
   ]
  },
  {
   "cell_type": "markdown",
   "metadata": {},
   "source": [
    "## NumPy Indexing "
   ]
  },
  {
   "cell_type": "markdown",
   "metadata": {},
   "source": [
    "My favorite part of NumPy is the powerful indexing you can do when selecting in an array.\n",
    "\n",
    "Creating a list of squares from 1 to 12 inclusive using **list comprehension** (abbreviated way of making a list)\n",
    "\n"
   ]
  },
  {
   "cell_type": "code",
   "execution_count": 7,
   "metadata": {},
   "outputs": [
    {
     "data": {
      "text/plain": [
       "[1, 4, 9, 16, 25, 36, 49, 64, 81, 100, 121, 144]"
      ]
     },
     "execution_count": 7,
     "metadata": {},
     "output_type": "execute_result"
    }
   ],
   "source": [
    "# somelist = [5, 10, 15, 20, 25, 30]\n",
    "\n",
    "squares = [(i+1)**2 for i in range(12)]\n",
    "squares"
   ]
  },
  {
   "cell_type": "markdown",
   "metadata": {},
   "source": [
    "In Python, selecting squares with multiple indices is a bit complex\n",
    "\n",
    "Say we want to print the first, fifth, ninth, and fourth elements in that order. "
   ]
  },
  {
   "cell_type": "code",
   "execution_count": 8,
   "metadata": {},
   "outputs": [
    {
     "name": "stdout",
     "output_type": "stream",
     "text": [
      "[1, 25, 81, 16]\n"
     ]
    }
   ],
   "source": [
    "print([squares[0], squares[4], squares[8], squares[3]]) "
   ]
  },
  {
   "cell_type": "markdown",
   "metadata": {},
   "source": [
    "In NumPy, we can use an array of indices to select for certain values in an array."
   ]
  },
  {
   "cell_type": "code",
   "execution_count": 9,
   "metadata": {},
   "outputs": [
    {
     "name": "stdout",
     "output_type": "stream",
     "text": [
      "[ 1 25 81 16]\n"
     ]
    }
   ],
   "source": [
    "squares_arr = np.array(squares)\n",
    "indices = np.array([0,4,8,3]) # indices is just an array of integers\n",
    "print(squares_arr[indices])"
   ]
  },
  {
   "cell_type": "markdown",
   "metadata": {},
   "source": [
    "We can use **Boolean Indexing** to select squares_array values which are greater than 20"
   ]
  },
  {
   "cell_type": "code",
   "execution_count": 11,
   "metadata": {},
   "outputs": [
    {
     "name": "stdout",
     "output_type": "stream",
     "text": [
      "[False False False False  True  True  True  True  True  True  True  True]\n",
      "[ 25  36  49  64  81 100 121 144]\n"
     ]
    }
   ],
   "source": [
    "print(squares_arr>20)\n",
    "\n",
    "# Boolean indexing is when you select only values that are True\n",
    "print(squares_arr[squares_arr>20])\n"
   ]
  },
  {
   "cell_type": "markdown",
   "metadata": {},
   "source": [
    "If the values are all next to each other, we can use slicing to get the values too! "
   ]
  },
  {
   "cell_type": "code",
   "execution_count": 12,
   "metadata": {},
   "outputs": [
    {
     "name": "stdout",
     "output_type": "stream",
     "text": [
      "[ 9 16 25 36 49]\n"
     ]
    }
   ],
   "source": [
    "print(squares_arr[2:7])"
   ]
  },
  {
   "cell_type": "code",
   "execution_count": 15,
   "metadata": {},
   "outputs": [
    {
     "name": "stdout",
     "output_type": "stream",
     "text": [
      "[49, 81, 16]\n"
     ]
    }
   ],
   "source": [
    "# squares_arr = squares_arr.reshape((3,4))\n",
    "# print(squares_arr)\n",
    "# print(\"\\n\")\n",
    "\n",
    "# # Remember everything is 0 indexed\n",
    "# # 3rd row, 3rd col\n",
    "# print(squares_arr[2,2])\n",
    "# print(\"\\n\")\n",
    "\n",
    "# # printing all entries in the fourth column\n",
    "# print(squares_arr[:,3])\n",
    "# print()\n",
    "\n",
    "# row_indices = np.array([0,2])\n",
    "# col_indices = np.array([1,2])\n",
    "# print(squares_arr[row_indices, col_indices])\n",
    "\n",
    "# Try printing 49, 81, 16 in one list using the above array indexing technique\n",
    "row_indices = np.array([1, 2, 0])\n",
    "col_indices = np.array([2, 0, 3])\n",
    "print(list(squares_arr[row_indices, col_indices]))"
   ]
  },
  {
   "cell_type": "markdown",
   "metadata": {},
   "source": [
    "## Wrapping Up NumPy\n",
    "\n",
    "We just finished up the basics of NumPy. Although we didn't cover all that NumPy has to offer, you can see that it's more powerful than a list in speed, memory, and flexibility. Now, we move onto Pandas, which is heavily based off NumPy. Having a good knowledge of NumPy is helpful to understanding how Pandas works. \n",
    "\n",
    "## What is Pandas? \n",
    "Pandas is a  package that makes it easy to use for data manipulation and analysis within Python through its use of two data structures: Series (1D) and DataFrames (2D). Pandas is fast and powerful because it is built on the NumPy arrays we learned about earlier. \n",
    "\n",
    "Let's start!\n",
    "\n",
    "## Series\n",
    "\n",
    "A **Series** is a one-dimensional NumPy array with indices. The data in the array can be of any type (integers, strings, dictionaries, etc.), and the indices should be unique values. In most cases, indices are strings, integers, or dates. Series are used to build DataFrames, which we'll talk about very soon.\n",
    "\n",
    "Here we'll show a couple of ways to create a Series object. \n",
    "\n",
    "### Creating a Series from a list\n",
    "In Pandas, the data type of strings, or values that contain characters and numbers, are called **objects**\n",
    "\n",
    "If you have a mix of numbers and strings within a Series, then the datatypes of the Series will be objects"
   ]
  },
  {
   "cell_type": "code",
   "execution_count": 16,
   "metadata": {},
   "outputs": [
    {
     "name": "stdout",
     "output_type": "stream",
     "text": [
      "0     First\n",
      "1    Second\n",
      "2     Third\n",
      "3    Fourth\n",
      "dtype: object\n"
     ]
    }
   ],
   "source": [
    "import pandas as pd\n",
    "\n",
    "s1 = pd.Series([\"First\", \"Second\", \"Third\", \"Fourth\"])\n",
    "print(s1)"
   ]
  },
  {
   "cell_type": "code",
   "execution_count": 17,
   "metadata": {},
   "outputs": [
    {
     "name": "stdout",
     "output_type": "stream",
     "text": [
      "a    1\n",
      "b    2\n",
      "c    3\n",
      "d    4\n",
      "Name: Sample, dtype: int64\n"
     ]
    }
   ],
   "source": [
    "# Notice how the default indices are integers that start from 0, unless we specify it\n",
    "\n",
    "s2 = pd.Series([1,2,3,4], index = [\"a\", \"b\", \"c\",\"d\"], name=\"Sample\")\n",
    "print(s2)"
   ]
  },
  {
   "cell_type": "markdown",
   "metadata": {},
   "source": [
    "### Creating a Series from a dictionary\n",
    "\n",
    "When we have an index with no associated value, it will be assigned '**NaN**', not a number\n",
    "\n",
    "This means this value is missing, since it doesn't exist"
   ]
  },
  {
   "cell_type": "code",
   "execution_count": 18,
   "metadata": {},
   "outputs": [
    {
     "name": "stdout",
     "output_type": "stream",
     "text": [
      "\n",
      "even1    2.0\n",
      "even2    4.0\n",
      "even3    6.0\n",
      "even4    NaN\n",
      "dtype: float64\n"
     ]
    }
   ],
   "source": [
    "d = {'even1' : 2, 'even2' : 4, 'even3' : 6}\n",
    "s3 = pd.Series(d, index=['even1', 'even2', 'even3', 'even4'])\n",
    "print()\n",
    "print(s3)"
   ]
  },
  {
   "cell_type": "markdown",
   "metadata": {},
   "source": [
    "Notice how there were only three items in the dictionary, but that I made four indices even though there wasn't a value for the fourth index. Pandas fills any unknown values with \"NaN\". This is important because you will likely have to deal with missing \"NaN\" values when cleaning datasets."
   ]
  },
  {
   "cell_type": "code",
   "execution_count": 28,
   "metadata": {},
   "outputs": [
    {
     "name": "stdout",
     "output_type": "stream",
     "text": [
      "c    3\n",
      "d    4\n",
      "Name: Sample, dtype: int64\n"
     ]
    }
   ],
   "source": [
    "# print(s2[:3])\n",
    "# print()\n",
    "# print(s2[['a', 'c']])\n",
    "# print()\n",
    "print(s2[s2 > s2.mean()])"
   ]
  },
  {
   "cell_type": "markdown",
   "metadata": {},
   "source": [
    "The way that Series differs from NumPy arrays is that Series always match on indices for operations. If an index doesn't exist for an operation, then you will get NaN, not a number. Pandas operates on the **union** of indices."
   ]
  },
  {
   "cell_type": "code",
   "execution_count": 29,
   "metadata": {},
   "outputs": [
    {
     "name": "stdout",
     "output_type": "stream",
     "text": [
      "a     NaN\n",
      "b     7.0\n",
      "c     9.0\n",
      "d    11.0\n",
      "e     NaN\n",
      "dtype: float64\n"
     ]
    }
   ],
   "source": [
    "x = pd.Series([1,2,3,4], index = [\"a\", \"b\", \"c\",\"d\"])\n",
    "y = pd.Series([5,6,7,8], index = [\"b\", \"c\", \"d\",\"e\"])\n",
    "z = x + y # Adds based on the index \n",
    "print(z)"
   ]
  },
  {
   "cell_type": "markdown",
   "metadata": {},
   "source": [
    "## DataFrames\n",
    "A DataFrame is a 2-Dimensional Pandas data structure with labeled rows and columns. Each row shares a common index value. Each column of a DataFrame is a Series itself. There are many, many ways of creating a DataFrame. We'll go over one way, and you'll learn more as you use Pandas. \n",
    "\n",
    "Let's create a DataFrame using a dictionary of Series"
   ]
  },
  {
   "cell_type": "code",
   "execution_count": 30,
   "metadata": {},
   "outputs": [
    {
     "name": "stdout",
     "output_type": "stream",
     "text": [
      "     Model   Price\n",
      "0    Civic  699.99\n",
      "1    Camry  999.99\n",
      "2  Elantra  799.99\n",
      "\n",
      "           Model   Price\n",
      "Honda      Civic  699.99\n",
      "Toyota     Camry  999.99\n",
      "Hyundai  Elantra  799.99\n"
     ]
    }
   ],
   "source": [
    "# Dictionary containing the data\n",
    "# Keys will be the column names and the values will be the Series \n",
    "d = {'Model':pd.Series([\"Civic\", \"Camry\", \"Elantra\"]),'Price':pd.Series([699.99, 999.99, 799.99]) }\n",
    "cars_df = pd.DataFrame(d)\n",
    "print(cars_df)\n",
    "print()\n",
    "\n",
    "# The car company names are now the indices\n",
    "# Each Series must explicitly have its own index\n",
    "d = {'Model':pd.Series([\"Civic\", \"Camry\", \"Elantra\"], index=[\"Honda\", \"Toyota\", \"Hyundai\"]),\n",
    "         \"Price\":pd.Series([699.99, 999.99, 799.99], index=[\"Honda\", \"Toyota\", \"Hyundai\"])}\n",
    "\n",
    "cars_df = pd.DataFrame(d)\n",
    "\n",
    "print(cars_df)"
   ]
  },
  {
   "cell_type": "code",
   "execution_count": 34,
   "metadata": {},
   "outputs": [
    {
     "name": "stdout",
     "output_type": "stream",
     "text": [
      "           Model   Price\n",
      "Honda      Civic  699.99\n",
      "Toyota     Camry  999.99\n",
      "Hyundai  Elantra  799.99\n"
     ]
    }
   ],
   "source": [
    "# You can also create a DataFrame using a dictionary of NumPy arrays or lists too!\n",
    "d = {'Model':[\"Civic\", \"Camry\", \"Elantra\"], \"Price\":[699.99, 999.99, 799.99]}\n",
    "\n",
    "cars_df = pd.DataFrame(d, index = [\"Honda\", \"Toyota\", \"Hyundai\"])\n",
    "\n",
    "print(cars_df)"
   ]
  },
  {
   "cell_type": "code",
   "execution_count": 41,
   "metadata": {},
   "outputs": [
    {
     "name": "stdout",
     "output_type": "stream",
     "text": [
      "           Model   Price\n",
      "Honda      Civic  699.99\n",
      "Toyota     Camry  999.99\n",
      "Hyundai  Elantra  799.99\n",
      "Ford       Focus  899.99\n"
     ]
    }
   ],
   "source": [
    "# You can add rows by using the loc function\n",
    "cars_df.loc[\"Ford\"] = [\"Focus\", 899.99]\n",
    "print(cars_df)"
   ]
  },
  {
   "cell_type": "code",
   "execution_count": 42,
   "metadata": {},
   "outputs": [
    {
     "name": "stdout",
     "output_type": "stream",
     "text": [
      "           Model   Price\n",
      "Honda      Civic  699.99\n",
      "Toyota     Camry  999.99\n",
      "Hyundai  Elantra  799.99\n",
      "           Model   Price\n",
      "Honda      Civic  699.99\n",
      "Toyota     Camry  999.99\n",
      "Hyundai  Elantra  799.99\n",
      "Ford       Focus  899.99\n"
     ]
    }
   ],
   "source": [
    "# # You can delete rows by using the drop function, which returns a DF without the selected row\n",
    "# print(cars_df)\n",
    "# print()\n",
    "print(cars_df.drop('Ford'))\n",
    "print(cars_df)"
   ]
  },
  {
   "cell_type": "code",
   "execution_count": null,
   "metadata": {},
   "outputs": [],
   "source": [
    "# Inplace as true will change the DataFrame itself and returns nothing\n",
    "cars_df.drop('Ford', inplace=True)\n",
    "print(cars_df)"
   ]
  },
  {
   "cell_type": "markdown",
   "metadata": {},
   "source": [
    "Let's add some more cars to the dataframe\n"
   ]
  },
  {
   "cell_type": "code",
   "execution_count": 44,
   "metadata": {},
   "outputs": [
    {
     "name": "stdout",
     "output_type": "stream",
     "text": [
      "           Model   Price\n",
      "Honda      Civic  699.99\n",
      "Toyota     Camry  999.99\n",
      "Hyundai  Elantra  799.99\n",
      "\n",
      "            Model    Price\n",
      "Ford        Focus   899.99\n",
      "Mercedes  S Class  1299.99\n",
      "Infiniti      Q60  1099.99\n",
      "Nissan       370Z  1499.99\n",
      "\n",
      "            Model    Price\n",
      "Honda       Civic   699.99\n",
      "Toyota      Camry   999.99\n",
      "Hyundai   Elantra   799.99\n",
      "Ford        Focus   899.99\n",
      "Mercedes  S Class  1299.99\n",
      "Infiniti      Q60  1099.99\n",
      "Nissan       370Z  1499.99\n"
     ]
    }
   ],
   "source": [
    "cars_df.loc[\"Ford\"] = [\"Focus\", 899.99]\n",
    "cars_df.loc[\"Mercedes\"] = [\"S Class\", 1299.99]\n",
    "cars_df.loc[\"Infiniti\"] = [\"Q60\", 1099.99]\n",
    "cars_df.loc[\"Nissan\"] = [\"370Z\", 1499.99]\n",
    "\n",
    "# Print first 5\n",
    "print(cars_df.head(3)) \n",
    "print()\n",
    "\n",
    "# Print last 5\n",
    "print(cars_df.tail(4))\n",
    "print()\n",
    "\n",
    "# Print all\n",
    "print(cars_df)\n"
   ]
  },
  {
   "cell_type": "markdown",
   "metadata": {},
   "source": [
    "Adding, setting, and deleting columns are like operating with dictionaries\n"
   ]
  },
  {
   "cell_type": "code",
   "execution_count": 45,
   "metadata": {},
   "outputs": [
    {
     "name": "stdout",
     "output_type": "stream",
     "text": [
      "            Model    Price  Quantity Door_Style   Revenue\n",
      "Honda       Civic   699.99       100      Sedan   69999.0\n",
      "Toyota      Camry   999.99       200      Sedan  199998.0\n",
      "Hyundai   Elantra   799.99       300      Sedan  239997.0\n",
      "Ford        Focus   899.99       400      Sedan  359996.0\n",
      "Mercedes  S Class  1299.99       300      Coupe  389997.0\n",
      "Infiniti      Q60  1099.99       100      Coupe  109999.0\n",
      "Nissan       370Z  1499.99       200      Coupe  299998.0\n"
     ]
    }
   ],
   "source": [
    "cars_df[\"Quantity\"] = [100, 200, 300, 400, 300, 100, 200]\n",
    "cars_df[\"Door_Style\"] = [\"Sedan\", \"Sedan\", \"Sedan\", \"Sedan\", \"Coupe\", \"Coupe\", \"Coupe\"]\n",
    "cars_df[\"Revenue\"] = cars_df[\"Price\"]*cars_df[\"Quantity\"]\n",
    "print(cars_df)"
   ]
  },
  {
   "cell_type": "code",
   "execution_count": 46,
   "metadata": {},
   "outputs": [
    {
     "name": "stdout",
     "output_type": "stream",
     "text": [
      "            Price  Quantity Door_Style   Revenue\n",
      "Honda      699.99       100      Sedan   69999.0\n",
      "Toyota     999.99       200      Sedan  199998.0\n",
      "Hyundai    799.99       300      Sedan  239997.0\n",
      "Ford       899.99       400      Sedan  359996.0\n",
      "Mercedes  1299.99       300      Coupe  389997.0\n",
      "Infiniti  1099.99       100      Coupe  109999.0\n",
      "Nissan    1499.99       200      Coupe  299998.0\n",
      "\n",
      "            Model    Price  Quantity Door_Style   Revenue\n",
      "Honda       Civic   699.99       100      Sedan   69999.0\n",
      "Toyota      Camry   999.99       200      Sedan  199998.0\n",
      "Hyundai   Elantra   799.99       300      Sedan  239997.0\n",
      "Ford        Focus   899.99       400      Sedan  359996.0\n",
      "Mercedes  S Class  1299.99       300      Coupe  389997.0\n",
      "Infiniti      Q60  1099.99       100      Coupe  109999.0\n",
      "Nissan       370Z  1499.99       200      Coupe  299998.0\n"
     ]
    }
   ],
   "source": [
    "# let's drop the 'Model' column \n",
    "del cars_df[\"Model\"]\n",
    "# can also use: cars_df.drop('Model', 1, inplace = True)\n",
    "print(cars_df)\n",
    "print()\n",
    "# Let's reinsert the Model column again back in its original position\n",
    "cars_df.insert(0, \"Model\",[\"Civic\", \"Camry\", \"Elantra\", \"Focus\", \"S Class\", \"Q60\", \"370Z\"]) \n",
    "print(cars_df)"
   ]
  },
  {
   "cell_type": "code",
   "execution_count": 47,
   "metadata": {},
   "outputs": [
    {
     "name": "stdout",
     "output_type": "stream",
     "text": [
      "            Model    Price  Quantity   Revenue Door_Style\n",
      "Honda       Civic   699.99       100   69999.0      Sedan\n",
      "Toyota      Camry   999.99       200  199998.0      Sedan\n",
      "Hyundai   Elantra   799.99       300  239997.0      Sedan\n",
      "Ford        Focus   899.99       400  359996.0      Sedan\n",
      "Mercedes  S Class  1299.99       300  389997.0      Coupe\n",
      "Infiniti      Q60  1099.99       100  109999.0      Coupe\n",
      "Nissan       370Z  1499.99       200  299998.0      Coupe\n"
     ]
    }
   ],
   "source": [
    "# Moving a column to a different position\n",
    "\n",
    "rev = cars_df.pop(\"Revenue\") # returns a column, which is removed from the data frame (Think CTRL-X)\n",
    "cars_df.insert(3, \"Revenue\", rev) # CTRL-V\n",
    "print(cars_df)"
   ]
  },
  {
   "cell_type": "markdown",
   "metadata": {},
   "source": [
    "## Indexing a DataFrame\n",
    "There are multiple ways of indexing a DataFrame. \n",
    "\n",
    "To get a column, we just put the column name within square brackets, or use '.' notation"
   ]
  },
  {
   "cell_type": "code",
   "execution_count": 48,
   "metadata": {},
   "outputs": [
    {
     "name": "stdout",
     "output_type": "stream",
     "text": [
      "Honda         Civic\n",
      "Toyota        Camry\n",
      "Hyundai     Elantra\n",
      "Ford          Focus\n",
      "Mercedes    S Class\n",
      "Infiniti        Q60\n",
      "Nissan         370Z\n",
      "Name: Model, dtype: object\n",
      "\n",
      "Honda         Civic\n",
      "Toyota        Camry\n",
      "Hyundai     Elantra\n",
      "Ford          Focus\n",
      "Mercedes    S Class\n",
      "Infiniti        Q60\n",
      "Nissan         370Z\n",
      "Name: Model, dtype: object\n"
     ]
    }
   ],
   "source": [
    "print(cars_df[\"Model\"])\n",
    "print()\n",
    "print(cars_df.Model)\n",
    "\n",
    "# The output is a Series with the left-hand column as the index, and the right hand column as the column values"
   ]
  },
  {
   "cell_type": "markdown",
   "metadata": {},
   "source": [
    "To get a row or index, there are two ways. \n",
    "* .loc[label] will select the row by its label \n",
    "* .iloc[integer_location] will select the row by its integer location of the index\n"
   ]
  },
  {
   "cell_type": "code",
   "execution_count": 50,
   "metadata": {},
   "outputs": [
    {
     "name": "stdout",
     "output_type": "stream",
     "text": [
      "Model          Camry\n",
      "Price         999.99\n",
      "Quantity         200\n",
      "Revenue       199998\n",
      "Door_Style     Sedan\n",
      "Name: Toyota, dtype: object\n",
      "\n",
      "Model          Camry\n",
      "Price         999.99\n",
      "Quantity         200\n",
      "Revenue       199998\n",
      "Door_Style     Sedan\n",
      "Name: Toyota, dtype: object\n"
     ]
    }
   ],
   "source": [
    "print(cars_df.loc[\"Toyota\"])\n",
    "\n",
    "print()\n",
    "\n",
    "# In cars_df, the Toyota is the 2nd index in the df, so it corresponds to \"1\" in indexing (Indexing starts at 0)\n",
    "print(cars_df.iloc[1])\n"
   ]
  },
  {
   "cell_type": "markdown",
   "metadata": {},
   "source": [
    "We can also print multiple rows by taking an index list argument.\n",
    "\n",
    "Suppose we want info on just Honda and Toyota…"
   ]
  },
  {
   "cell_type": "code",
   "execution_count": 51,
   "metadata": {},
   "outputs": [
    {
     "name": "stdout",
     "output_type": "stream",
     "text": [
      "        Model   Price  Quantity   Revenue Door_Style\n",
      "Honda   Civic  699.99       100   69999.0      Sedan\n",
      "Toyota  Camry  999.99       200  199998.0      Sedan\n",
      "\n",
      "        Model   Price  Quantity   Revenue Door_Style\n",
      "Honda   Civic  699.99       100   69999.0      Sedan\n",
      "Toyota  Camry  999.99       200  199998.0      Sedan\n",
      "\n",
      "        Model   Price  Quantity   Revenue Door_Style\n",
      "Honda   Civic  699.99       100   69999.0      Sedan\n",
      "Toyota  Camry  999.99       200  199998.0      Sedan\n"
     ]
    }
   ],
   "source": [
    "# Notice that the output is a DataFrame\n",
    "print(cars_df.loc[ [\"Honda\", \"Toyota\"] ])\n",
    "print()\n",
    "# We can also do the same with .iloc[], except use slicing\n",
    "print(cars_df.iloc[0:2])\n",
    "print()\n",
    "# A more convenient way of doing this is:\n",
    "print(cars_df[0:2])"
   ]
  },
  {
   "cell_type": "markdown",
   "metadata": {},
   "source": [
    "Lastly, we can select rows using boolean indexing"
   ]
  },
  {
   "cell_type": "code",
   "execution_count": 52,
   "metadata": {},
   "outputs": [
    {
     "name": "stdout",
     "output_type": "stream",
     "text": [
      "            Model    Price  Quantity   Revenue Door_Style  High_rev\n",
      "Honda       Civic   699.99       100   69999.0      Sedan     False\n",
      "Toyota      Camry   999.99       200  199998.0      Sedan      True\n",
      "Hyundai   Elantra   799.99       300  239997.0      Sedan      True\n",
      "Ford        Focus   899.99       400  359996.0      Sedan      True\n",
      "Mercedes  S Class  1299.99       300  389997.0      Coupe      True\n",
      "Infiniti      Q60  1099.99       100  109999.0      Coupe     False\n",
      "Nissan       370Z  1499.99       200  299998.0      Coupe      True\n",
      "\n",
      "            Model    Price  Quantity   Revenue Door_Style  High_rev\n",
      "Toyota      Camry   999.99       200  199998.0      Sedan      True\n",
      "Hyundai   Elantra   799.99       300  239997.0      Sedan      True\n",
      "Ford        Focus   899.99       400  359996.0      Sedan      True\n",
      "Mercedes  S Class  1299.99       300  389997.0      Coupe      True\n",
      "Nissan       370Z  1499.99       200  299998.0      Coupe      True\n",
      "\n",
      "          Model    Price  Quantity   Revenue Door_Style  High_rev\n",
      "Honda     Civic   699.99       100   69999.0      Sedan     False\n",
      "Infiniti    Q60  1099.99       100  109999.0      Coupe     False\n"
     ]
    }
   ],
   "source": [
    "cars_df[\"High_rev\"] = cars_df[\"Revenue\"]>150000\n",
    "print(cars_df)\n",
    "print()\n",
    "\n",
    "# Let's select cars that only earn high revenues\n",
    "print(cars_df.loc[(cars_df[\"High_rev\"])])\n",
    "print() \n",
    "\n",
    "# Let's select cars that only earn low revenues\n",
    "print(cars_df.loc[-(cars_df[\"High_rev\"])])"
   ]
  },
  {
   "cell_type": "code",
   "execution_count": 53,
   "metadata": {},
   "outputs": [
    {
     "data": {
      "text/html": [
       "<div>\n",
       "<style>\n",
       "    .dataframe thead tr:only-child th {\n",
       "        text-align: right;\n",
       "    }\n",
       "\n",
       "    .dataframe thead th {\n",
       "        text-align: left;\n",
       "    }\n",
       "\n",
       "    .dataframe tbody tr th {\n",
       "        vertical-align: top;\n",
       "    }\n",
       "</style>\n",
       "<table border=\"1\" class=\"dataframe\">\n",
       "  <thead>\n",
       "    <tr style=\"text-align: right;\">\n",
       "      <th></th>\n",
       "      <th>Model</th>\n",
       "      <th>Price</th>\n",
       "      <th>Quantity</th>\n",
       "      <th>Revenue</th>\n",
       "      <th>Door_Style</th>\n",
       "      <th>High_rev</th>\n",
       "    </tr>\n",
       "  </thead>\n",
       "  <tbody>\n",
       "    <tr>\n",
       "      <th>Toyota</th>\n",
       "      <td>Camry</td>\n",
       "      <td>999.99</td>\n",
       "      <td>200</td>\n",
       "      <td>199998.0</td>\n",
       "      <td>Sedan</td>\n",
       "      <td>True</td>\n",
       "    </tr>\n",
       "    <tr>\n",
       "      <th>Hyundai</th>\n",
       "      <td>Elantra</td>\n",
       "      <td>799.99</td>\n",
       "      <td>300</td>\n",
       "      <td>239997.0</td>\n",
       "      <td>Sedan</td>\n",
       "      <td>True</td>\n",
       "    </tr>\n",
       "    <tr>\n",
       "      <th>Ford</th>\n",
       "      <td>Focus</td>\n",
       "      <td>899.99</td>\n",
       "      <td>400</td>\n",
       "      <td>359996.0</td>\n",
       "      <td>Sedan</td>\n",
       "      <td>True</td>\n",
       "    </tr>\n",
       "    <tr>\n",
       "      <th>Mercedes</th>\n",
       "      <td>S Class</td>\n",
       "      <td>1299.99</td>\n",
       "      <td>300</td>\n",
       "      <td>389997.0</td>\n",
       "      <td>Coupe</td>\n",
       "      <td>True</td>\n",
       "    </tr>\n",
       "    <tr>\n",
       "      <th>Nissan</th>\n",
       "      <td>370Z</td>\n",
       "      <td>1499.99</td>\n",
       "      <td>200</td>\n",
       "      <td>299998.0</td>\n",
       "      <td>Coupe</td>\n",
       "      <td>True</td>\n",
       "    </tr>\n",
       "  </tbody>\n",
       "</table>\n",
       "</div>"
      ],
      "text/plain": [
       "            Model    Price  Quantity   Revenue Door_Style  High_rev\n",
       "Toyota      Camry   999.99       200  199998.0      Sedan      True\n",
       "Hyundai   Elantra   799.99       300  239997.0      Sedan      True\n",
       "Ford        Focus   899.99       400  359996.0      Sedan      True\n",
       "Mercedes  S Class  1299.99       300  389997.0      Coupe      True\n",
       "Nissan       370Z  1499.99       200  299998.0      Coupe      True"
      ]
     },
     "execution_count": 53,
     "metadata": {},
     "output_type": "execute_result"
    }
   ],
   "source": [
    "# We can also accomplish the same task as in the previous cell in a single line:\n",
    "cars_df.loc[cars_df.Revenue > 150000]"
   ]
  },
  {
   "cell_type": "markdown",
   "metadata": {},
   "source": [
    "We can select for rows and columns at the same time"
   ]
  },
  {
   "cell_type": "code",
   "execution_count": 54,
   "metadata": {},
   "outputs": [
    {
     "name": "stdout",
     "output_type": "stream",
     "text": [
      "The number of Toyotas is: 200\n",
      "\n",
      "           Model   Price\n",
      "Hyundai  Elantra  799.99\n",
      "\n",
      "        Model   Price  Quantity\n",
      "Honda   Civic  699.99       100\n",
      "Toyota  Camry  999.99       200\n"
     ]
    }
   ],
   "source": [
    "print(\"The number of Toyotas is: \" + str(cars_df.loc[\"Toyota\"][\"Quantity\"]))\n",
    "print()\n",
    "\n",
    "# Printing Hyundai's model and price\n",
    "print(cars_df.loc[[\"Hyundai\"],[\"Model\", \"Price\"]])\n",
    "print()\n",
    "\n",
    "# Printing the first two cars and the first three columns with iloc\n",
    "print(cars_df.iloc[:2,:3])"
   ]
  },
  {
   "cell_type": "markdown",
   "metadata": {},
   "source": [
    "The fastest way to get and set single (non-array) values is using the **at** or **iat** functions\n",
    "* at function is for label lookups (like loc)\n",
    "* iat function is for integer-based label lookups (like iloc)\n"
   ]
  },
  {
   "cell_type": "code",
   "execution_count": 55,
   "metadata": {},
   "outputs": [
    {
     "name": "stdout",
     "output_type": "stream",
     "text": [
      "The number of Toyotas is: 200\n",
      "\n",
      "The number of Toyotas is: 300\n",
      "\n",
      "            Model    Price  Quantity   Revenue Door_Style  High_rev\n",
      "Honda       Civic   699.99       100   69999.0      Sedan     False\n",
      "Toyota      Camry   999.99       300  199998.0      Sedan      True\n",
      "Hyundai   Elantra   799.99       300  239997.0      Sedan      True\n",
      "Ford        Focus   899.99       400  359996.0      Sedan      True\n",
      "Mercedes  S Class  1299.99       300  389997.0      Coupe      True\n"
     ]
    }
   ],
   "source": [
    "print(\"The number of Toyotas is: \" + str(cars_df.at[\"Toyota\",\"Quantity\"]))\n",
    "print()\n",
    "\n",
    "# we can change the value of a specific cell:\n",
    "cars_df.iat[1, 2] = 300\n",
    "\n",
    "print(\"The number of Toyotas is: \" + str(cars_df.iat[1,2]))\n",
    "print()\n",
    "print(cars_df.head())"
   ]
  },
  {
   "cell_type": "markdown",
   "metadata": {},
   "source": [
    "Let's wrap up today by outputing our cars dataframe to a CSV file. "
   ]
  },
  {
   "cell_type": "code",
   "execution_count": 56,
   "metadata": {
    "collapsed": true
   },
   "outputs": [],
   "source": [
    "output = cars_df.to_csv(\"cars.csv\")"
   ]
  },
  {
   "cell_type": "markdown",
   "metadata": {},
   "source": [
    "## Other Operations"
   ]
  },
  {
   "cell_type": "code",
   "execution_count": null,
   "metadata": {
    "collapsed": true
   },
   "outputs": [],
   "source": [
    "# Importing data from a csv"
   ]
  },
  {
   "cell_type": "code",
   "execution_count": null,
   "metadata": {},
   "outputs": [],
   "source": [
    "# Prints the mean of all the numeric columns\n",
    "print(cars_df.mean())\n",
    "print()\n",
    "\n",
    "# Print summary statistics\n",
    "# Very useful for exploratory data analysis! \n",
    "print(cars_df.describe())\n",
    "?pd.DataFrame.describe()\n",
    "print()\n",
    "\n",
    "# You can apply lambda(anonymous) functions to certain columns in your dataframe for quick manipulations\n",
    "print(cars_df[\"Model\"].apply(lambda x: x.upper()))"
   ]
  },
  {
   "cell_type": "code",
   "execution_count": null,
   "metadata": {},
   "outputs": [],
   "source": [
    "# Querying / Filtering\n",
    "print(cars_df)\n",
    "print()\n",
    "# Select car models that are 'coupe' styled and earn high revenue\n",
    "print(cars_df.query('Door_Style==\"Coupe\" & High_rev'))\n",
    "print()"
   ]
  },
  {
   "cell_type": "code",
   "execution_count": null,
   "metadata": {},
   "outputs": [],
   "source": [
    "# Grouping summaries\n",
    "print(cars_df.groupby('Door_Style').mean())\n",
    "print()\n",
    "\n",
    "# Just the mean of the revenues for each door_style\n",
    "print(cars_df.groupby('Door_Style')[\"Revenue\"].mean())\n",
    "print()\n",
    "\n",
    "# Multiple grouping options\n",
    "print(cars_df.groupby(['Door_Style', \"High_rev\"]).mean())\n",
    "print()\n",
    "\n",
    "# Multiple grouping and selecting specific columns\n",
    "print(cars_df.groupby(['Door_Style', \"High_rev\"])['Price', 'Quantity'].mean())"
   ]
  },
  {
   "cell_type": "code",
   "execution_count": null,
   "metadata": {},
   "outputs": [],
   "source": [
    "# Binning data into categories\n",
    "percentiles = [0, cars_df[\"Price\"].quantile(0.25), cars_df[\"Price\"].quantile(0.75), cars_df[\"Price\"].max()]\n",
    "price_type = [\"Inexpensive\", \"Midrange\", \"Luxury\"]\n",
    "\n",
    "# The cut function is useful for taking continuous variables, like price, and making them categorical!\n",
    "cars_df[\"Price_type\"] = pd.cut(cars_df['Price'], percentiles, labels=price_type)\n",
    "print(cars_df)\n",
    "\n",
    "# But the values in \"Price_type\" aren't true categories yet..."
   ]
  },
  {
   "cell_type": "code",
   "execution_count": null,
   "metadata": {},
   "outputs": [],
   "source": [
    "# Take the price_type values and turn them into categories (faster operations under the hood)\n",
    "# Notice the order of the categoricals\n",
    "cars_df[\"Price_type\"] = cars_df[\"Price_type\"].astype(\"category\")\n",
    "print(cars_df[\"Price_type\"])\n",
    "print()\n",
    "print(\"Is the Series ordered? \" + str(cars_df[\"Price_type\"].cat.ordered))\n",
    "\n",
    "cars_df[\"Price_type\"] = cars_df[\"Price_type\"].cat.as_unordered()\n",
    "print(\"Is the Series ordered? \" + str(cars_df[\"Price_type\"].cat.ordered))"
   ]
  },
  {
   "cell_type": "code",
   "execution_count": null,
   "metadata": {},
   "outputs": [],
   "source": [
    "# We are currently in the wrong order! \n",
    "    # Inexpensive < Luxury < Midrange\n",
    "# Let's change it to the right order:\n",
    "    # Inexpensive < Midrange < Luxury\n",
    "cars_df[\"Price_type\"] = cars_df[\"Price_type\"].cat.reorder_categories([\"Inexpensive\",\"Midrange\",\"Luxury\"], ordered=True)\n",
    "\n",
    "print(cars_df[\"Price_type\"])\n",
    "print()\n",
    "print(cars_df.sort_values(by=\"Price_type\")) # Try changing \"Price_type\" to \"Revenue\"! \n"
   ]
  },
  {
   "cell_type": "code",
   "execution_count": null,
   "metadata": {
    "scrolled": true
   },
   "outputs": [],
   "source": [
    "print(cars_df[\"Price_type\"].value_counts())\n",
    "print()\n",
    "print(cars_df[\"Price_type\"].describe())\n",
    "print()\n",
    "print(cars_df.groupby(\"Price_type\")[\"Revenue\"].sum())"
   ]
  },
  {
   "cell_type": "markdown",
   "metadata": {},
   "source": [
    "# Exercises\n",
    "\n",
    "Here is a link to a github repo with lots of good Pandas exercises: https://github.com/guipsamora/pandas_exercises"
   ]
  },
  {
   "cell_type": "markdown",
   "metadata": {},
   "source": [
    "## Sources:\n",
    "Adapted from NumPy's QuickStart Tutorial\n",
    "* https://docs.scipy.org/doc/numpy-dev/user/quickstart.html\n",
    "\n",
    "Adapted from Pandas Documentation\n",
    "* https://pandas.pydata.org/pandas-docs/stable/10min.html\n",
    "* https://pandas.pydata.org/pandas-docs/stable/dsintro.html"
   ]
  }
 ],
 "metadata": {
  "kernelspec": {
   "display_name": "Python 3",
   "language": "python",
   "name": "python3"
  },
  "language_info": {
   "codemirror_mode": {
    "name": "ipython",
    "version": 3
   },
   "file_extension": ".py",
   "mimetype": "text/x-python",
   "name": "python",
   "nbconvert_exporter": "python",
   "pygments_lexer": "ipython3",
   "version": "3.6.1"
  }
 },
 "nbformat": 4,
 "nbformat_minor": 2
}
