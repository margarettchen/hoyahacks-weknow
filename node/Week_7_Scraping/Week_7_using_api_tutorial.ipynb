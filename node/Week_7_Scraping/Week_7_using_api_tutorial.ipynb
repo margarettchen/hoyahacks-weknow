{
 "cells": [
  {
   "cell_type": "markdown",
   "metadata": {},
   "source": [
    "## Using the Twitter API: Bot Tutorial"
   ]
  },
  {
   "cell_type": "markdown",
   "metadata": {},
   "source": [
    "##### Background: What is an API?"
   ]
  },
  {
   "cell_type": "markdown",
   "metadata": {},
   "source": [
    "An Application Programming Interface (API) is the means by which a piece of software exposes some of its underlying functionality. Ideally an API is well documented so that application programmers can easily interact with it. \n",
    "\n",
    "We will look at a specific type of API: an interface exposed by a web site or a Web API. \n",
    "\n",
    "The practice of publishing APIs has allowed web communities to create an open architecture for sharing content and data. In this way, content that is created in one place can be dynamically posted and updated in multiple locations on the web. For example, Amazon or eBay APIs allow developers to use the existing retail infrastructure to create specialized web stores. Other APIs allow for:\n",
    "\n",
    "-Smartphone applications (for accessing Twitter, LinkedIn, Facebook etc.);<br>\n",
    "-Maps with location data (like Yelp);<br>\n",
    "-Online purchases (verification of credit-card data); and <br>\n",
    "-Sharing content between social networking sites."
   ]
  },
  {
   "cell_type": "markdown",
   "metadata": {},
   "source": [
    "###### Twitter API \n",
    "\n",
    "Many APIs will require you to establish an authorization key. For the twitter API, you must create an application here: https://apps.twitter.com/app/new<br>\n",
    "\n",
    "I can provide you with temporary keys to my bot's account during class. \n",
    "\n",
    "Otherwise, to fill out the application linked above following these instructions: \n",
    "Write in a Name and Desciption. You can put in a place filler like http://www.google.com for the Website.<br>\n",
    "Leave the Callback URL empty.<br> \n",
    "Submit the form.\n",
    "\n",
    "On the following page go to the Keys and Access Tokens tab and make a note of the <strong>API Key</strong> and <strong>API Secret</strong>. Scroll down and create an Access Token. Make a note of the <strong>Access Token</strong> and <strong>Access Token Secret</strong>."
   ]
  },
  {
   "cell_type": "code",
   "execution_count": 9,
   "metadata": {
    "collapsed": true
   },
   "outputs": [],
   "source": [
    "api_key = 'ZPuTHu7jnNc8lHBfAeGYSOxVF'\n",
    "api_secret = 'atHZU01QAGhc115KsBtKY7NrtuQ3xf6A0lTTd6xIwIKMGx7zvS'\n",
    "access_token = '2420979512-KpKq2xtQifJHfqzfkUJjM6URLrucNYoF7rK4jE3'\n",
    "access_secret = 'eFLBON1KQeAi5oqdEwZCn3bFGgNqznF5UPqKQ2cF5riMH'"
   ]
  },
  {
   "cell_type": "markdown",
   "metadata": {},
   "source": [
    "###### Luckily, someone has already created many of the important functions to interact with the Twitter API and its data. We will use tweepy to perform some actions within this notebook file. \n",
    "\n",
    "If you have not installed this package yet, go to the \"Anaconda Prompt\" terminal on your machine and execute:\n",
    "<code>pip install tweepy</code>"
   ]
  },
  {
   "cell_type": "code",
   "execution_count": 51,
   "metadata": {},
   "outputs": [],
   "source": [
    "import time\n",
    "import io\n",
    "import tweepy #package we will use to interact with the API. \n",
    "from tweepy import StreamListener, Stream"
   ]
  },
  {
   "cell_type": "code",
   "execution_count": 52,
   "metadata": {},
   "outputs": [],
   "source": [
    "#Authorization\n",
    "auth = tweepy.OAuthHandler(api_key, api_secret)\n",
    "auth.set_access_token(access_token, access_secret)\n",
    "\n",
    "api = tweepy.API(auth)"
   ]
  },
  {
   "cell_type": "markdown",
   "metadata": {},
   "source": [
    "Now Let's have some fun with all the twitter data at your disposal!"
   ]
  },
  {
   "cell_type": "code",
   "execution_count": 53,
   "metadata": {},
   "outputs": [
    {
     "name": "stdout",
     "output_type": "stream",
     "text": [
      "Imagine being taken away from your mother &amp; never seeing her again 🐯😢 https://t.co/y8ZVwL8Emn\n",
      "I am in Brussels! Hi Brussels!\n",
      "Take a look at some of the greatest teams in @VirginiaSports history\n",
      "https://t.co/jqda7PRJbw https://t.co/VpuA5GueA0\n",
      "RT @realDonaldTrump: An interesting cartoon that is circulating. http://t.co/OPG2R2ytkr\n",
      "#PennywiseLuredMeWith fries 🎈🍟 https://t.co/2UUOsSVx3H\n",
      "RT @TweetLikeAGirI: me after going to a 1 hour lecture and playing on my phone the whole time https://t.co/2jOD1gynRQ\n",
      "RT @AynRandPaulRyan: What a headline!! 🤣🤣🤣 https://t.co/eLIsA69sPP\n",
      "Eating animals is weird (like the shirt says). RT if you agree!\n",
      "\n",
      "👕 ➡️ https://t.co/07MXMh7wQc https://t.co/vSHtlcWhIu\n",
      "If you're unfamiliar w/ Nobel winner Ishiguro, suggest starting w/ his earliest work—A Pale View of Hills &amp; An Artist of the Floating World\n",
      "Thank god there's no audio dayaruci @eosborne_makeup 💕 https://t.co/HlCz2o5LAD\n",
      "RT @TheBlackSheep99: with all this hate in the world, it's refreshing to see that true love still exists 💕 https://t.co/sM3vdTqVMk\n",
      "Kazuo Ishiguro has been awarded the Nobel Prize in Literature—if you're unfamiliar with his work, check it out:  https://t.co/ahVPwwK76E\n",
      "RT @KeithOlbermann: He killed himself, you baboon https://t.co/F3zAoiHceu\n",
      "PETA is working to end all cruel experiments on animals. RT if you stand with us. https://t.co/oxhpuqQ8vW\n",
      "RT @JustinTinsley: This man Barack still talks to Michelle like he’s in awe of her. Like he’s still trying to finesse a second date. And th…\n",
      "fall has finally arrived at sweetgreen –– check out your local menu below. and yes, brussels are back 🙌 https://t.co/sBi3t0JkyQ\n",
      "We really need to stop using these 7 exercise excuses (us editors are guilty, too!): https://t.co/BkLENQtqr1 https://t.co/H4qFYjfCSK\n",
      "The UVA lawn-early drawing. Embellished (?) with statue — did that ever exist @RotundaUVA? #UVA200 https://t.co/iwCcJZwjlO\n",
      "Congratulations @WoodsonUVA! https://t.co/FuIVMJXPpF\n"
     ]
    }
   ],
   "source": [
    "#Print to the console the tweets from your timeline\n",
    "public_tweets = api.home_timeline()\n",
    "for tweet in public_tweets:\n",
    "    print(tweet.text)"
   ]
  },
  {
   "cell_type": "code",
   "execution_count": 54,
   "metadata": {},
   "outputs": [
    {
     "name": "stdout",
     "output_type": "stream",
     "text": [
      "Twitter\n",
      "62001909\n"
     ]
    }
   ],
   "source": [
    "# Get information about a user\n",
    "user = api.get_user('twitter')\n",
    "\n",
    "print(user.screen_name)\n",
    "#get follwer count\n",
    "print(user.followers_count)"
   ]
  },
  {
   "cell_type": "code",
   "execution_count": 55,
   "metadata": {},
   "outputs": [
    {
     "name": "stdout",
     "output_type": "stream",
     "text": [
      "AdsAPI\n",
      "pichette\n",
      "TwitterFashnJP\n",
      "TwitterA11y\n",
      "TwitterComms\n",
      "TwitterSportsCA\n",
      "TwitterVideoIN\n",
      "TwitterREW\n",
      "TwitterAdsHelp\n",
      "TwitterMktgFR\n",
      "JoinTheFlockJP\n",
      "TwitterMktgBR\n",
      "TwitterMediaBR\n",
      "TwitterSportsJP\n",
      "TwitterDevJP\n",
      "TwitterTVJP\n",
      "TwitterAmplify\n",
      "PeriscopeHelp\n",
      "TwitterLifeline\n",
      "TwitterSportsAU\n"
     ]
    }
   ],
   "source": [
    "#see how the friends() method works\n",
    "for friend in user.friends():\n",
    "   print(friend.screen_name)\n",
    "#people that the user follows that follow them back\n",
    "#This is how websites like UnfollowMe, etc work! You could start making money off kids who are worried about their follower ratio!"
   ]
  },
  {
   "cell_type": "markdown",
   "metadata": {},
   "source": [
    "It's very common to get data from an API that is a JSON object since JSON is useful for storing data. However, it isn't always the most readable-- there are tons of brakets, arrays, and colons that organize the object. You will need to understand the structure of the JSON in order to parse and then comprehend the data."
   ]
  },
  {
   "cell_type": "code",
   "execution_count": 56,
   "metadata": {},
   "outputs": [
    {
     "data": {
      "text/plain": [
       "[{'country': 'United States',\n",
       "  'countryCode': 'US',\n",
       "  'name': 'Richmond',\n",
       "  'parentid': 23424977,\n",
       "  'placeType': {'code': 7, 'name': 'Town'},\n",
       "  'url': 'http://where.yahooapis.com/v1/place/2480894',\n",
       "  'woeid': 2480894}]"
      ]
     },
     "execution_count": 56,
     "metadata": {},
     "output_type": "execute_result"
    }
   ],
   "source": [
    "#The trends closest feautre will find places trending closest to a given lat/long\n",
    "lat = 38.0293\n",
    "long = -78.4767 #cville!\n",
    "api.trends_closest(lat, long)"
   ]
  },
  {
   "cell_type": "code",
   "execution_count": 57,
   "metadata": {},
   "outputs": [
    {
     "name": "stdout",
     "output_type": "stream",
     "text": [
      "[{'trends': [{'name': '#WorldTeachersDay', 'url': 'http://twitter.com/search?q=%23WorldTeachersDay', 'promoted_content': None, 'query': '%23WorldTeachersDay', 'tweet_volume': 67626}, {'name': '#ONA17', 'url': 'http://twitter.com/search?q=%23ONA17', 'promoted_content': None, 'query': '%23ONA17', 'tweet_volume': None}, {'name': '#ThursdayThoughts', 'url': 'http://twitter.com/search?q=%23ThursdayThoughts', 'promoted_content': None, 'query': '%23ThursdayThoughts', 'tweet_volume': 50969}, {'name': '#NYCC', 'url': 'http://twitter.com/search?q=%23NYCC', 'promoted_content': None, 'query': '%23NYCC', 'tweet_volume': 46151}, {'name': 'Kazuo Ishiguro', 'url': 'http://twitter.com/search?q=%22Kazuo+Ishiguro%22', 'promoted_content': None, 'query': '%22Kazuo+Ishiguro%22', 'tweet_volume': 94979}, {'name': '#ANAMasters', 'url': 'http://twitter.com/search?q=%23ANAMasters', 'promoted_content': None, 'query': '%23ANAMasters', 'tweet_volume': None}, {'name': 'Lollapalooza', 'url': 'http://twitter.com/search?q=Lollapalooza', 'promoted_content': None, 'query': 'Lollapalooza', 'tweet_volume': 11456}, {'name': 'Tropical Storm Nate', 'url': 'http://twitter.com/search?q=%22Tropical+Storm+Nate%22', 'promoted_content': None, 'query': '%22Tropical+Storm+Nate%22', 'tweet_volume': 15853}, {'name': 'Kellyanne Conway', 'url': 'http://twitter.com/search?q=%22Kellyanne+Conway%22', 'promoted_content': None, 'query': '%22Kellyanne+Conway%22', 'tweet_volume': 31503}, {'name': 'National Space Council', 'url': 'http://twitter.com/search?q=%22National+Space+Council%22', 'promoted_content': None, 'query': '%22National+Space+Council%22', 'tweet_volume': None}, {'name': 'Bill Haslam', 'url': 'http://twitter.com/search?q=%22Bill+Haslam%22', 'promoted_content': None, 'query': '%22Bill+Haslam%22', 'tweet_volume': None}, {'name': 'Bernie Mac', 'url': 'http://twitter.com/search?q=%22Bernie+Mac%22', 'promoted_content': None, 'query': '%22Bernie+Mac%22', 'tweet_volume': None}, {'name': 'Repeal the Second Amendment', 'url': 'http://twitter.com/search?q=%22Repeal+the+Second+Amendment%22', 'promoted_content': None, 'query': '%22Repeal+the+Second+Amendment%22', 'tweet_volume': None}, {'name': 'Stephen Strasburg', 'url': 'http://twitter.com/search?q=%22Stephen+Strasburg%22', 'promoted_content': None, 'query': '%22Stephen+Strasburg%22', 'tweet_volume': None}, {'name': 'Angry GOP', 'url': 'http://twitter.com/search?q=%22Angry+GOP%22', 'promoted_content': None, 'query': '%22Angry+GOP%22', 'tweet_volume': None}, {'name': 'Stevan Ridley', 'url': 'http://twitter.com/search?q=%22Stevan+Ridley%22', 'promoted_content': None, 'query': '%22Stevan+Ridley%22', 'tweet_volume': None}, {'name': 'Top House Republicans', 'url': 'http://twitter.com/search?q=%22Top+House+Republicans%22', 'promoted_content': None, 'query': '%22Top+House+Republicans%22', 'tweet_volume': None}, {'name': 'Raising Dion', 'url': 'http://twitter.com/search?q=%22Raising+Dion%22', 'promoted_content': None, 'query': '%22Raising+Dion%22', 'tweet_volume': None}, {'name': 'Ivana Trump', 'url': 'http://twitter.com/search?q=%22Ivana+Trump%22', 'promoted_content': None, 'query': '%22Ivana+Trump%22', 'tweet_volume': None}, {'name': 'Austin Maddox', 'url': 'http://twitter.com/search?q=%22Austin+Maddox%22', 'promoted_content': None, 'query': '%22Austin+Maddox%22', 'tweet_volume': None}, {'name': 'UBIQ', 'url': 'http://twitter.com/search?q=UBIQ', 'promoted_content': None, 'query': 'UBIQ', 'tweet_volume': None}, {'name': 'Arcade Edition', 'url': 'http://twitter.com/search?q=%22Arcade+Edition%22', 'promoted_content': None, 'query': '%22Arcade+Edition%22', 'tweet_volume': None}, {'name': 'Energy East', 'url': 'http://twitter.com/search?q=%22Energy+East%22', 'promoted_content': None, 'query': '%22Energy+East%22', 'tweet_volume': None}, {'name': 'Blue Orbit', 'url': 'http://twitter.com/search?q=%22Blue+Orbit%22', 'promoted_content': None, 'query': '%22Blue+Orbit%22', 'tweet_volume': None}, {'name': \"NFL's Joe Lockhart\", 'url': 'http://twitter.com/search?q=%22NFL%27s+Joe+Lockhart%22', 'promoted_content': None, 'query': '%22NFL%27s+Joe+Lockhart%22', 'tweet_volume': None}, {'name': 'OLB Tony Washington Jr.', 'url': 'http://twitter.com/search?q=%22OLB+Tony+Washington+Jr.%22', 'promoted_content': None, 'query': '%22OLB+Tony+Washington+Jr.%22', 'tweet_volume': None}, {'name': 'Bruce Arena', 'url': 'http://twitter.com/search?q=%22Bruce+Arena%22', 'promoted_content': None, 'query': '%22Bruce+Arena%22', 'tweet_volume': None}, {'name': 'Gwynne Shotwell', 'url': 'http://twitter.com/search?q=%22Gwynne+Shotwell%22', 'promoted_content': None, 'query': '%22Gwynne+Shotwell%22', 'tweet_volume': None}, {'name': '#PennywiseLuredMeWith', 'url': 'http://twitter.com/search?q=%23PennywiseLuredMeWith', 'promoted_content': None, 'query': '%23PennywiseLuredMeWith', 'tweet_volume': None}, {'name': '#CatalystATL', 'url': 'http://twitter.com/search?q=%23CatalystATL', 'promoted_content': None, 'query': '%23CatalystATL', 'tweet_volume': None}, {'name': '#AM2DM', 'url': 'http://twitter.com/search?q=%23AM2DM', 'promoted_content': None, 'query': '%23AM2DM', 'tweet_volume': None}, {'name': '#RockHall2018', 'url': 'http://twitter.com/search?q=%23RockHall2018', 'promoted_content': None, 'query': '%23RockHall2018', 'tweet_volume': None}, {'name': '#EEDay2017', 'url': 'http://twitter.com/search?q=%23EEDay2017', 'promoted_content': None, 'query': '%23EEDay2017', 'tweet_volume': None}, {'name': '#MyHomeTownIn4Words', 'url': 'http://twitter.com/search?q=%23MyHomeTownIn4Words', 'promoted_content': None, 'query': '%23MyHomeTownIn4Words', 'tweet_volume': None}, {'name': '#WorldBalletDay', 'url': 'http://twitter.com/search?q=%23WorldBalletDay', 'promoted_content': None, 'query': '%23WorldBalletDay', 'tweet_volume': 11022}, {'name': '#DoSomethingNiceDay', 'url': 'http://twitter.com/search?q=%23DoSomethingNiceDay', 'promoted_content': None, 'query': '%23DoSomethingNiceDay', 'tweet_volume': None}, {'name': '#JOOHONEYDAY', 'url': 'http://twitter.com/search?q=%23JOOHONEYDAY', 'promoted_content': None, 'query': '%23JOOHONEYDAY', 'tweet_volume': 66182}, {'name': '#AutomotiveTVandMovies', 'url': 'http://twitter.com/search?q=%23AutomotiveTVandMovies', 'promoted_content': None, 'query': '%23AutomotiveTVandMovies', 'tweet_volume': None}, {'name': '#LeadingtheWay17', 'url': 'http://twitter.com/search?q=%23LeadingtheWay17', 'promoted_content': None, 'query': '%23LeadingtheWay17', 'tweet_volume': None}, {'name': '#Worlds2017', 'url': 'http://twitter.com/search?q=%23Worlds2017', 'promoted_content': None, 'query': '%23Worlds2017', 'tweet_volume': 31645}, {'name': '#EarnHistory', 'url': 'http://twitter.com/search?q=%23EarnHistory', 'promoted_content': None, 'query': '%23EarnHistory', 'tweet_volume': None}, {'name': '#DreamActNow', 'url': 'http://twitter.com/search?q=%23DreamActNow', 'promoted_content': None, 'query': '%23DreamActNow', 'tweet_volume': None}, {'name': '#SYRvAUS', 'url': 'http://twitter.com/search?q=%23SYRvAUS', 'promoted_content': None, 'query': '%23SYRvAUS', 'tweet_volume': None}, {'name': '#FORRB2B', 'url': 'http://twitter.com/search?q=%23FORRB2B', 'promoted_content': None, 'query': '%23FORRB2B', 'tweet_volume': None}, {'name': '#FutureXLive', 'url': 'http://twitter.com/search?q=%23FutureXLive', 'promoted_content': None, 'query': '%23FutureXLive', 'tweet_volume': None}, {'name': '#AsifAtUSIP', 'url': 'http://twitter.com/search?q=%23AsifAtUSIP', 'promoted_content': None, 'query': '%23AsifAtUSIP', 'tweet_volume': None}, {'name': '#Trees4Threes', 'url': 'http://twitter.com/search?q=%23Trees4Threes', 'promoted_content': None, 'query': '%23Trees4Threes', 'tweet_volume': None}, {'name': '#7for7Yugyeom', 'url': 'http://twitter.com/search?q=%237for7Yugyeom', 'promoted_content': None, 'query': '%237for7Yugyeom', 'tweet_volume': 35761}, {'name': '#LiveAtUrban', 'url': 'http://twitter.com/search?q=%23LiveAtUrban', 'promoted_content': None, 'query': '%23LiveAtUrban', 'tweet_volume': None}, {'name': '#MilanoTorino', 'url': 'http://twitter.com/search?q=%23MilanoTorino', 'promoted_content': None, 'query': '%23MilanoTorino', 'tweet_volume': None}], 'as_of': '2017-10-05T15:38:27Z', 'created_at': '2017-10-05T15:35:59Z', 'locations': [{'name': 'Richmond', 'woeid': 2480894}]}]\n"
     ]
    }
   ],
   "source": [
    "json_object = api.trends_place(2480894) #this is the WOEID for Richmond. Feel free to find a different location\n",
    "print(json_object)"
   ]
  },
  {
   "cell_type": "markdown",
   "metadata": {},
   "source": [
    "As we see above, there are a lot of other things you can analyze such as the volume of tweets or the amount of promoted content"
   ]
  },
  {
   "cell_type": "code",
   "execution_count": 58,
   "metadata": {},
   "outputs": [
    {
     "data": {
      "text/plain": [
       "{'as_of': '2017-10-05T15:38:27Z',\n",
       " 'created_at': '2017-10-05T15:35:59Z',\n",
       " 'locations': [{'name': 'Richmond', 'woeid': 2480894}],\n",
       " 'trends': [{'name': '#WorldTeachersDay',\n",
       "   'promoted_content': None,\n",
       "   'query': '%23WorldTeachersDay',\n",
       "   'tweet_volume': 67626,\n",
       "   'url': 'http://twitter.com/search?q=%23WorldTeachersDay'},\n",
       "  {'name': '#ONA17',\n",
       "   'promoted_content': None,\n",
       "   'query': '%23ONA17',\n",
       "   'tweet_volume': None,\n",
       "   'url': 'http://twitter.com/search?q=%23ONA17'},\n",
       "  {'name': '#ThursdayThoughts',\n",
       "   'promoted_content': None,\n",
       "   'query': '%23ThursdayThoughts',\n",
       "   'tweet_volume': 50969,\n",
       "   'url': 'http://twitter.com/search?q=%23ThursdayThoughts'},\n",
       "  {'name': '#NYCC',\n",
       "   'promoted_content': None,\n",
       "   'query': '%23NYCC',\n",
       "   'tweet_volume': 46151,\n",
       "   'url': 'http://twitter.com/search?q=%23NYCC'},\n",
       "  {'name': 'Kazuo Ishiguro',\n",
       "   'promoted_content': None,\n",
       "   'query': '%22Kazuo+Ishiguro%22',\n",
       "   'tweet_volume': 94979,\n",
       "   'url': 'http://twitter.com/search?q=%22Kazuo+Ishiguro%22'},\n",
       "  {'name': '#ANAMasters',\n",
       "   'promoted_content': None,\n",
       "   'query': '%23ANAMasters',\n",
       "   'tweet_volume': None,\n",
       "   'url': 'http://twitter.com/search?q=%23ANAMasters'},\n",
       "  {'name': 'Lollapalooza',\n",
       "   'promoted_content': None,\n",
       "   'query': 'Lollapalooza',\n",
       "   'tweet_volume': 11456,\n",
       "   'url': 'http://twitter.com/search?q=Lollapalooza'},\n",
       "  {'name': 'Tropical Storm Nate',\n",
       "   'promoted_content': None,\n",
       "   'query': '%22Tropical+Storm+Nate%22',\n",
       "   'tweet_volume': 15853,\n",
       "   'url': 'http://twitter.com/search?q=%22Tropical+Storm+Nate%22'},\n",
       "  {'name': 'Kellyanne Conway',\n",
       "   'promoted_content': None,\n",
       "   'query': '%22Kellyanne+Conway%22',\n",
       "   'tweet_volume': 31503,\n",
       "   'url': 'http://twitter.com/search?q=%22Kellyanne+Conway%22'},\n",
       "  {'name': 'National Space Council',\n",
       "   'promoted_content': None,\n",
       "   'query': '%22National+Space+Council%22',\n",
       "   'tweet_volume': None,\n",
       "   'url': 'http://twitter.com/search?q=%22National+Space+Council%22'},\n",
       "  {'name': 'Bill Haslam',\n",
       "   'promoted_content': None,\n",
       "   'query': '%22Bill+Haslam%22',\n",
       "   'tweet_volume': None,\n",
       "   'url': 'http://twitter.com/search?q=%22Bill+Haslam%22'},\n",
       "  {'name': 'Bernie Mac',\n",
       "   'promoted_content': None,\n",
       "   'query': '%22Bernie+Mac%22',\n",
       "   'tweet_volume': None,\n",
       "   'url': 'http://twitter.com/search?q=%22Bernie+Mac%22'},\n",
       "  {'name': 'Repeal the Second Amendment',\n",
       "   'promoted_content': None,\n",
       "   'query': '%22Repeal+the+Second+Amendment%22',\n",
       "   'tweet_volume': None,\n",
       "   'url': 'http://twitter.com/search?q=%22Repeal+the+Second+Amendment%22'},\n",
       "  {'name': 'Stephen Strasburg',\n",
       "   'promoted_content': None,\n",
       "   'query': '%22Stephen+Strasburg%22',\n",
       "   'tweet_volume': None,\n",
       "   'url': 'http://twitter.com/search?q=%22Stephen+Strasburg%22'},\n",
       "  {'name': 'Angry GOP',\n",
       "   'promoted_content': None,\n",
       "   'query': '%22Angry+GOP%22',\n",
       "   'tweet_volume': None,\n",
       "   'url': 'http://twitter.com/search?q=%22Angry+GOP%22'},\n",
       "  {'name': 'Stevan Ridley',\n",
       "   'promoted_content': None,\n",
       "   'query': '%22Stevan+Ridley%22',\n",
       "   'tweet_volume': None,\n",
       "   'url': 'http://twitter.com/search?q=%22Stevan+Ridley%22'},\n",
       "  {'name': 'Top House Republicans',\n",
       "   'promoted_content': None,\n",
       "   'query': '%22Top+House+Republicans%22',\n",
       "   'tweet_volume': None,\n",
       "   'url': 'http://twitter.com/search?q=%22Top+House+Republicans%22'},\n",
       "  {'name': 'Raising Dion',\n",
       "   'promoted_content': None,\n",
       "   'query': '%22Raising+Dion%22',\n",
       "   'tweet_volume': None,\n",
       "   'url': 'http://twitter.com/search?q=%22Raising+Dion%22'},\n",
       "  {'name': 'Ivana Trump',\n",
       "   'promoted_content': None,\n",
       "   'query': '%22Ivana+Trump%22',\n",
       "   'tweet_volume': None,\n",
       "   'url': 'http://twitter.com/search?q=%22Ivana+Trump%22'},\n",
       "  {'name': 'Austin Maddox',\n",
       "   'promoted_content': None,\n",
       "   'query': '%22Austin+Maddox%22',\n",
       "   'tweet_volume': None,\n",
       "   'url': 'http://twitter.com/search?q=%22Austin+Maddox%22'},\n",
       "  {'name': 'UBIQ',\n",
       "   'promoted_content': None,\n",
       "   'query': 'UBIQ',\n",
       "   'tweet_volume': None,\n",
       "   'url': 'http://twitter.com/search?q=UBIQ'},\n",
       "  {'name': 'Arcade Edition',\n",
       "   'promoted_content': None,\n",
       "   'query': '%22Arcade+Edition%22',\n",
       "   'tweet_volume': None,\n",
       "   'url': 'http://twitter.com/search?q=%22Arcade+Edition%22'},\n",
       "  {'name': 'Energy East',\n",
       "   'promoted_content': None,\n",
       "   'query': '%22Energy+East%22',\n",
       "   'tweet_volume': None,\n",
       "   'url': 'http://twitter.com/search?q=%22Energy+East%22'},\n",
       "  {'name': 'Blue Orbit',\n",
       "   'promoted_content': None,\n",
       "   'query': '%22Blue+Orbit%22',\n",
       "   'tweet_volume': None,\n",
       "   'url': 'http://twitter.com/search?q=%22Blue+Orbit%22'},\n",
       "  {'name': \"NFL's Joe Lockhart\",\n",
       "   'promoted_content': None,\n",
       "   'query': '%22NFL%27s+Joe+Lockhart%22',\n",
       "   'tweet_volume': None,\n",
       "   'url': 'http://twitter.com/search?q=%22NFL%27s+Joe+Lockhart%22'},\n",
       "  {'name': 'OLB Tony Washington Jr.',\n",
       "   'promoted_content': None,\n",
       "   'query': '%22OLB+Tony+Washington+Jr.%22',\n",
       "   'tweet_volume': None,\n",
       "   'url': 'http://twitter.com/search?q=%22OLB+Tony+Washington+Jr.%22'},\n",
       "  {'name': 'Bruce Arena',\n",
       "   'promoted_content': None,\n",
       "   'query': '%22Bruce+Arena%22',\n",
       "   'tweet_volume': None,\n",
       "   'url': 'http://twitter.com/search?q=%22Bruce+Arena%22'},\n",
       "  {'name': 'Gwynne Shotwell',\n",
       "   'promoted_content': None,\n",
       "   'query': '%22Gwynne+Shotwell%22',\n",
       "   'tweet_volume': None,\n",
       "   'url': 'http://twitter.com/search?q=%22Gwynne+Shotwell%22'},\n",
       "  {'name': '#PennywiseLuredMeWith',\n",
       "   'promoted_content': None,\n",
       "   'query': '%23PennywiseLuredMeWith',\n",
       "   'tweet_volume': None,\n",
       "   'url': 'http://twitter.com/search?q=%23PennywiseLuredMeWith'},\n",
       "  {'name': '#CatalystATL',\n",
       "   'promoted_content': None,\n",
       "   'query': '%23CatalystATL',\n",
       "   'tweet_volume': None,\n",
       "   'url': 'http://twitter.com/search?q=%23CatalystATL'},\n",
       "  {'name': '#AM2DM',\n",
       "   'promoted_content': None,\n",
       "   'query': '%23AM2DM',\n",
       "   'tweet_volume': None,\n",
       "   'url': 'http://twitter.com/search?q=%23AM2DM'},\n",
       "  {'name': '#RockHall2018',\n",
       "   'promoted_content': None,\n",
       "   'query': '%23RockHall2018',\n",
       "   'tweet_volume': None,\n",
       "   'url': 'http://twitter.com/search?q=%23RockHall2018'},\n",
       "  {'name': '#EEDay2017',\n",
       "   'promoted_content': None,\n",
       "   'query': '%23EEDay2017',\n",
       "   'tweet_volume': None,\n",
       "   'url': 'http://twitter.com/search?q=%23EEDay2017'},\n",
       "  {'name': '#MyHomeTownIn4Words',\n",
       "   'promoted_content': None,\n",
       "   'query': '%23MyHomeTownIn4Words',\n",
       "   'tweet_volume': None,\n",
       "   'url': 'http://twitter.com/search?q=%23MyHomeTownIn4Words'},\n",
       "  {'name': '#WorldBalletDay',\n",
       "   'promoted_content': None,\n",
       "   'query': '%23WorldBalletDay',\n",
       "   'tweet_volume': 11022,\n",
       "   'url': 'http://twitter.com/search?q=%23WorldBalletDay'},\n",
       "  {'name': '#DoSomethingNiceDay',\n",
       "   'promoted_content': None,\n",
       "   'query': '%23DoSomethingNiceDay',\n",
       "   'tweet_volume': None,\n",
       "   'url': 'http://twitter.com/search?q=%23DoSomethingNiceDay'},\n",
       "  {'name': '#JOOHONEYDAY',\n",
       "   'promoted_content': None,\n",
       "   'query': '%23JOOHONEYDAY',\n",
       "   'tweet_volume': 66182,\n",
       "   'url': 'http://twitter.com/search?q=%23JOOHONEYDAY'},\n",
       "  {'name': '#AutomotiveTVandMovies',\n",
       "   'promoted_content': None,\n",
       "   'query': '%23AutomotiveTVandMovies',\n",
       "   'tweet_volume': None,\n",
       "   'url': 'http://twitter.com/search?q=%23AutomotiveTVandMovies'},\n",
       "  {'name': '#LeadingtheWay17',\n",
       "   'promoted_content': None,\n",
       "   'query': '%23LeadingtheWay17',\n",
       "   'tweet_volume': None,\n",
       "   'url': 'http://twitter.com/search?q=%23LeadingtheWay17'},\n",
       "  {'name': '#Worlds2017',\n",
       "   'promoted_content': None,\n",
       "   'query': '%23Worlds2017',\n",
       "   'tweet_volume': 31645,\n",
       "   'url': 'http://twitter.com/search?q=%23Worlds2017'},\n",
       "  {'name': '#EarnHistory',\n",
       "   'promoted_content': None,\n",
       "   'query': '%23EarnHistory',\n",
       "   'tweet_volume': None,\n",
       "   'url': 'http://twitter.com/search?q=%23EarnHistory'},\n",
       "  {'name': '#DreamActNow',\n",
       "   'promoted_content': None,\n",
       "   'query': '%23DreamActNow',\n",
       "   'tweet_volume': None,\n",
       "   'url': 'http://twitter.com/search?q=%23DreamActNow'},\n",
       "  {'name': '#SYRvAUS',\n",
       "   'promoted_content': None,\n",
       "   'query': '%23SYRvAUS',\n",
       "   'tweet_volume': None,\n",
       "   'url': 'http://twitter.com/search?q=%23SYRvAUS'},\n",
       "  {'name': '#FORRB2B',\n",
       "   'promoted_content': None,\n",
       "   'query': '%23FORRB2B',\n",
       "   'tweet_volume': None,\n",
       "   'url': 'http://twitter.com/search?q=%23FORRB2B'},\n",
       "  {'name': '#FutureXLive',\n",
       "   'promoted_content': None,\n",
       "   'query': '%23FutureXLive',\n",
       "   'tweet_volume': None,\n",
       "   'url': 'http://twitter.com/search?q=%23FutureXLive'},\n",
       "  {'name': '#AsifAtUSIP',\n",
       "   'promoted_content': None,\n",
       "   'query': '%23AsifAtUSIP',\n",
       "   'tweet_volume': None,\n",
       "   'url': 'http://twitter.com/search?q=%23AsifAtUSIP'},\n",
       "  {'name': '#Trees4Threes',\n",
       "   'promoted_content': None,\n",
       "   'query': '%23Trees4Threes',\n",
       "   'tweet_volume': None,\n",
       "   'url': 'http://twitter.com/search?q=%23Trees4Threes'},\n",
       "  {'name': '#7for7Yugyeom',\n",
       "   'promoted_content': None,\n",
       "   'query': '%237for7Yugyeom',\n",
       "   'tweet_volume': 35761,\n",
       "   'url': 'http://twitter.com/search?q=%237for7Yugyeom'},\n",
       "  {'name': '#LiveAtUrban',\n",
       "   'promoted_content': None,\n",
       "   'query': '%23LiveAtUrban',\n",
       "   'tweet_volume': None,\n",
       "   'url': 'http://twitter.com/search?q=%23LiveAtUrban'},\n",
       "  {'name': '#MilanoTorino',\n",
       "   'promoted_content': None,\n",
       "   'query': '%23MilanoTorino',\n",
       "   'tweet_volume': None,\n",
       "   'url': 'http://twitter.com/search?q=%23MilanoTorino'}]}"
      ]
     },
     "execution_count": 58,
     "metadata": {},
     "output_type": "execute_result"
    }
   ],
   "source": [
    "#The JSON array's outer level is list with only one item\n",
    "json_object[0]\n",
    "#json_object[1] --> fails since index out of range"
   ]
  },
  {
   "cell_type": "code",
   "execution_count": 59,
   "metadata": {},
   "outputs": [
    {
     "data": {
      "text/plain": [
       "[{'country': 'United States',\n",
       "  'countryCode': 'US',\n",
       "  'name': 'Richmond',\n",
       "  'parentid': 23424977,\n",
       "  'placeType': {'code': 7, 'name': 'Town'},\n",
       "  'url': 'http://where.yahooapis.com/v1/place/2480894',\n",
       "  'woeid': 2480894}]"
      ]
     },
     "execution_count": 59,
     "metadata": {},
     "output_type": "execute_result"
    }
   ],
   "source": [
    "#Now the JSON object acts like a dictionary, or a set of key-value pairs. The only key is \"trends\"\n",
    "json_object[0].get('trends')#The trends closest feautre will find places trending closest to a given lat/long\n",
    "lat = 38.0293\n",
    "long = -78.4767 #cville!\n",
    "api.trends_closest(lat, long)"
   ]
  },
  {
   "cell_type": "markdown",
   "metadata": {},
   "source": [
    "##### At last we have a list of dictionaries that each have the key 'name', which is the trend we are looking to caputre.\n",
    "There are other fields you are welcome to look at and analyze (i.e. promoted, tweet_volume) but let's just get a list of all the current worldwide trends. For that we will need a for loop:"
   ]
  },
  {
   "cell_type": "code",
   "execution_count": 60,
   "metadata": {},
   "outputs": [
    {
     "name": "stdout",
     "output_type": "stream",
     "text": [
      "#WorldTeachersDay\n",
      "#ONA17\n",
      "#ThursdayThoughts\n",
      "#NYCC\n",
      "Kazuo Ishiguro\n",
      "#ANAMasters\n",
      "Lollapalooza\n",
      "Tropical Storm Nate\n",
      "Kellyanne Conway\n",
      "National Space Council\n",
      "Bill Haslam\n",
      "Bernie Mac\n",
      "Repeal the Second Amendment\n",
      "Stephen Strasburg\n",
      "Angry GOP\n",
      "Stevan Ridley\n",
      "Top House Republicans\n",
      "Raising Dion\n",
      "Ivana Trump\n",
      "Austin Maddox\n",
      "UBIQ\n",
      "Arcade Edition\n",
      "Energy East\n",
      "Blue Orbit\n",
      "NFL's Joe Lockhart\n",
      "OLB Tony Washington Jr.\n",
      "Bruce Arena\n",
      "Gwynne Shotwell\n",
      "#PennywiseLuredMeWith\n",
      "#CatalystATL\n",
      "#AM2DM\n",
      "#RockHall2018\n",
      "#EEDay2017\n",
      "#MyHomeTownIn4Words\n",
      "#WorldBalletDay\n",
      "#DoSomethingNiceDay\n",
      "#JOOHONEYDAY\n",
      "#AutomotiveTVandMovies\n",
      "#LeadingtheWay17\n",
      "#Worlds2017\n",
      "#EarnHistory\n",
      "#DreamActNow\n",
      "#SYRvAUS\n",
      "#FORRB2B\n",
      "#FutureXLive\n",
      "#AsifAtUSIP\n",
      "#Trees4Threes\n",
      "#7for7Yugyeom\n",
      "#LiveAtUrban\n",
      "#MilanoTorino\n"
     ]
    }
   ],
   "source": [
    "trends = []\n",
    "for dictionary in json_object[0].get(\"trends\"):\n",
    "    trends.append(dictionary.get(\"name\"))\n",
    "    \n",
    "for trend in trends:\n",
    "    print(trend)"
   ]
  },
  {
   "cell_type": "markdown",
   "metadata": {},
   "source": [
    "## Now Let's look at searching for a specfic subject/hashtag\n",
    "For documentation on a search query: <br>\n",
    "http://docs.tweepy.org/en/v3.5.0/api.html#geo-methods\n",
    "\n",
    "\n",
    "API.search(q[, lang][, locale][, rpp][, page][, since_id][, geocode][, show_user])\n",
    "Returns tweets that match a specified query.\n",
    "\n",
    "Parameters:\t\n",
    "<strong>q</strong> – the search query string<br>\n",
    "<strong>lang</strong> – Restricts tweets to the given language, given by an ISO 639-1 code.<br>\n",
    "<strong>locale</strong> – Specify the language of the query you are sending. This is intended for language-specific clients and the default should work in the majority of cases.<br>\n",
    "<strong>rpp</strong> – The number of tweets to return per page, up to a max of 100.<br>\n",
    "<strong>page</strong> – The page number (starting at 1) to return, up to a max of roughly 1500 results (based on rpp * page.<br>\n",
    "<strong>since_id</strong> – Returns only statuses with an ID greater than (that is, more recent than) the specified ID.<br>\n",
    "<strong>geocode</strong> – Returns tweets by users located within a given radius of the given latitude/longitude. The location is preferentially taking from the Geotagging API, but will fall back to their Twitter profile. The parameter value is specified by “latitide,longitude,radius”, where radius units must be specified as either “mi” (miles) or “km” (kilometers). Note that you cannot use the near operator via the API to geocode arbitrary locations; however you can use this geocode parameter to search near geocodes directly.<br>\n",
    "<strong>show_user</strong> – When true, prepends “<user>:” to the beginning of the tweet. This is useful for readers that do not display Atom’s author field. The default is false."
   ]
  },
  {
   "cell_type": "code",
   "execution_count": 61,
   "metadata": {
    "collapsed": true
   },
   "outputs": [],
   "source": [
    "#For future text analysis projects, we can search for a specific subject, not just trends, and get the text that is relevant\n",
    "\n",
    "tweets = api.search('Trump', rpp = 100)"
   ]
  },
  {
   "cell_type": "code",
   "execution_count": 62,
   "metadata": {},
   "outputs": [
    {
     "name": "stdout",
     "output_type": "stream",
     "text": [
      "<class 'tweepy.models.SearchResults'>\n",
      "<class 'tweepy.models.Status'>\n",
      "Status(_api=<tweepy.api.API object at 0x107a8f4e0>, _json={'created_at': 'Thu Oct 05 15:38:00 +0000 2017', 'id': 915964293811752960, 'id_str': '915964293811752960', 'text': 'RT @ericonederful: Two typos in a row. One more and I get a business degree from Trump University.', 'truncated': False, 'entities': {'hashtags': [], 'symbols': [], 'user_mentions': [{'screen_name': 'ericonederful', 'name': 'Mr. Onederful®', 'id': 21968079, 'id_str': '21968079', 'indices': [3, 17]}], 'urls': []}, 'metadata': {'iso_language_code': 'en', 'result_type': 'recent'}, 'source': '<a href=\"http://twitter.com/download/iphone\" rel=\"nofollow\">Twitter for iPhone</a>', 'in_reply_to_status_id': None, 'in_reply_to_status_id_str': None, 'in_reply_to_user_id': None, 'in_reply_to_user_id_str': None, 'in_reply_to_screen_name': None, 'user': {'id': 4686094543, 'id_str': '4686094543', 'name': 'HighlyFunctionalDork', 'screen_name': 'DorkusRegis', 'location': 'Terraria', 'description': \"I'm a mostly good person. Liberal af.\", 'url': 'https://t.co/B3vlvYIxw3', 'entities': {'url': {'urls': [{'url': 'https://t.co/B3vlvYIxw3', 'expanded_url': 'https://twitter.com/search?q=from%3A%40DorkusRegis&s=09', 'display_url': 'twitter.com/search?q=from%…', 'indices': [0, 23]}]}, 'description': {'urls': []}}, 'protected': False, 'followers_count': 2569, 'friends_count': 2402, 'listed_count': 28, 'created_at': 'Fri Jan 01 00:32:36 +0000 2016', 'favourites_count': 41251, 'utc_offset': None, 'time_zone': None, 'geo_enabled': False, 'verified': False, 'statuses_count': 25678, 'lang': 'en', 'contributors_enabled': False, 'is_translator': False, 'is_translation_enabled': False, 'profile_background_color': 'F5F8FA', 'profile_background_image_url': None, 'profile_background_image_url_https': None, 'profile_background_tile': False, 'profile_image_url': 'http://pbs.twimg.com/profile_images/830573069739585536/cGrmgtCw_normal.jpg', 'profile_image_url_https': 'https://pbs.twimg.com/profile_images/830573069739585536/cGrmgtCw_normal.jpg', 'profile_banner_url': 'https://pbs.twimg.com/profile_banners/4686094543/1452556338', 'profile_link_color': '1DA1F2', 'profile_sidebar_border_color': 'C0DEED', 'profile_sidebar_fill_color': 'DDEEF6', 'profile_text_color': '333333', 'profile_use_background_image': True, 'has_extended_profile': True, 'default_profile': True, 'default_profile_image': False, 'following': False, 'follow_request_sent': False, 'notifications': False, 'translator_type': 'none'}, 'geo': None, 'coordinates': None, 'place': None, 'contributors': None, 'retweeted_status': {'created_at': 'Fri Jul 14 01:47:53 +0000 2017', 'id': 885677197721088000, 'id_str': '885677197721088000', 'text': 'Two typos in a row. One more and I get a business degree from Trump University.', 'truncated': False, 'entities': {'hashtags': [], 'symbols': [], 'user_mentions': [], 'urls': []}, 'metadata': {'iso_language_code': 'en', 'result_type': 'recent'}, 'source': '<a href=\"http://twitter.com/download/android\" rel=\"nofollow\">Twitter for Android</a>', 'in_reply_to_status_id': None, 'in_reply_to_status_id_str': None, 'in_reply_to_user_id': None, 'in_reply_to_user_id_str': None, 'in_reply_to_screen_name': None, 'user': {'id': 21968079, 'id_str': '21968079', 'name': 'Mr. Onederful®', 'screen_name': 'ericonederful', 'location': 'Los Angeles', 'description': 'pro bono comedy writer. 420. blasphemer. dad. https://t.co/vcM1XbJvj2 \\nericonederful@gmail.com', 'url': 'https://t.co/AvUbQYL6jB', 'entities': {'url': {'urls': [{'url': 'https://t.co/AvUbQYL6jB', 'expanded_url': 'http://bit.ly/ericonederful', 'display_url': 'bit.ly/ericonederful', 'indices': [0, 23]}]}, 'description': {'urls': [{'url': 'https://t.co/vcM1XbJvj2', 'expanded_url': 'http://li.st/ericonederful', 'display_url': 'li.st/ericonederful', 'indices': [46, 69]}]}}, 'protected': False, 'followers_count': 25449, 'friends_count': 15959, 'listed_count': 612, 'created_at': 'Thu Feb 26 04:08:27 +0000 2009', 'favourites_count': 306401, 'utc_offset': -25200, 'time_zone': 'Pacific Time (US & Canada)', 'geo_enabled': False, 'verified': False, 'statuses_count': 55730, 'lang': 'en', 'contributors_enabled': False, 'is_translator': False, 'is_translation_enabled': False, 'profile_background_color': '1A1B1F', 'profile_background_image_url': 'http://abs.twimg.com/images/themes/theme9/bg.gif', 'profile_background_image_url_https': 'https://abs.twimg.com/images/themes/theme9/bg.gif', 'profile_background_tile': False, 'profile_image_url': 'http://pbs.twimg.com/profile_images/915793055633911810/RnksgtM1_normal.jpg', 'profile_image_url_https': 'https://pbs.twimg.com/profile_images/915793055633911810/RnksgtM1_normal.jpg', 'profile_banner_url': 'https://pbs.twimg.com/profile_banners/21968079/1418617203', 'profile_link_color': '2FC2EF', 'profile_sidebar_border_color': '181A1E', 'profile_sidebar_fill_color': '252429', 'profile_text_color': '666666', 'profile_use_background_image': True, 'has_extended_profile': True, 'default_profile': False, 'default_profile_image': False, 'following': False, 'follow_request_sent': False, 'notifications': False, 'translator_type': 'none'}, 'geo': None, 'coordinates': None, 'place': None, 'contributors': None, 'is_quote_status': False, 'retweet_count': 27, 'favorite_count': 118, 'favorited': False, 'retweeted': False, 'lang': 'en'}, 'is_quote_status': False, 'retweet_count': 27, 'favorite_count': 0, 'favorited': False, 'retweeted': False, 'lang': 'en'}, created_at=datetime.datetime(2017, 10, 5, 15, 38), id=915964293811752960, id_str='915964293811752960', text='RT @ericonederful: Two typos in a row. One more and I get a business degree from Trump University.', truncated=False, entities={'hashtags': [], 'symbols': [], 'user_mentions': [{'screen_name': 'ericonederful', 'name': 'Mr. Onederful®', 'id': 21968079, 'id_str': '21968079', 'indices': [3, 17]}], 'urls': []}, metadata={'iso_language_code': 'en', 'result_type': 'recent'}, source='Twitter for iPhone', source_url='http://twitter.com/download/iphone', in_reply_to_status_id=None, in_reply_to_status_id_str=None, in_reply_to_user_id=None, in_reply_to_user_id_str=None, in_reply_to_screen_name=None, author=User(_api=<tweepy.api.API object at 0x107a8f4e0>, _json={'id': 4686094543, 'id_str': '4686094543', 'name': 'HighlyFunctionalDork', 'screen_name': 'DorkusRegis', 'location': 'Terraria', 'description': \"I'm a mostly good person. Liberal af.\", 'url': 'https://t.co/B3vlvYIxw3', 'entities': {'url': {'urls': [{'url': 'https://t.co/B3vlvYIxw3', 'expanded_url': 'https://twitter.com/search?q=from%3A%40DorkusRegis&s=09', 'display_url': 'twitter.com/search?q=from%…', 'indices': [0, 23]}]}, 'description': {'urls': []}}, 'protected': False, 'followers_count': 2569, 'friends_count': 2402, 'listed_count': 28, 'created_at': 'Fri Jan 01 00:32:36 +0000 2016', 'favourites_count': 41251, 'utc_offset': None, 'time_zone': None, 'geo_enabled': False, 'verified': False, 'statuses_count': 25678, 'lang': 'en', 'contributors_enabled': False, 'is_translator': False, 'is_translation_enabled': False, 'profile_background_color': 'F5F8FA', 'profile_background_image_url': None, 'profile_background_image_url_https': None, 'profile_background_tile': False, 'profile_image_url': 'http://pbs.twimg.com/profile_images/830573069739585536/cGrmgtCw_normal.jpg', 'profile_image_url_https': 'https://pbs.twimg.com/profile_images/830573069739585536/cGrmgtCw_normal.jpg', 'profile_banner_url': 'https://pbs.twimg.com/profile_banners/4686094543/1452556338', 'profile_link_color': '1DA1F2', 'profile_sidebar_border_color': 'C0DEED', 'profile_sidebar_fill_color': 'DDEEF6', 'profile_text_color': '333333', 'profile_use_background_image': True, 'has_extended_profile': True, 'default_profile': True, 'default_profile_image': False, 'following': False, 'follow_request_sent': False, 'notifications': False, 'translator_type': 'none'}, id=4686094543, id_str='4686094543', name='HighlyFunctionalDork', screen_name='DorkusRegis', location='Terraria', description=\"I'm a mostly good person. Liberal af.\", url='https://t.co/B3vlvYIxw3', entities={'url': {'urls': [{'url': 'https://t.co/B3vlvYIxw3', 'expanded_url': 'https://twitter.com/search?q=from%3A%40DorkusRegis&s=09', 'display_url': 'twitter.com/search?q=from%…', 'indices': [0, 23]}]}, 'description': {'urls': []}}, protected=False, followers_count=2569, friends_count=2402, listed_count=28, created_at=datetime.datetime(2016, 1, 1, 0, 32, 36), favourites_count=41251, utc_offset=None, time_zone=None, geo_enabled=False, verified=False, statuses_count=25678, lang='en', contributors_enabled=False, is_translator=False, is_translation_enabled=False, profile_background_color='F5F8FA', profile_background_image_url=None, profile_background_image_url_https=None, profile_background_tile=False, profile_image_url='http://pbs.twimg.com/profile_images/830573069739585536/cGrmgtCw_normal.jpg', profile_image_url_https='https://pbs.twimg.com/profile_images/830573069739585536/cGrmgtCw_normal.jpg', profile_banner_url='https://pbs.twimg.com/profile_banners/4686094543/1452556338', profile_link_color='1DA1F2', profile_sidebar_border_color='C0DEED', profile_sidebar_fill_color='DDEEF6', profile_text_color='333333', profile_use_background_image=True, has_extended_profile=True, default_profile=True, default_profile_image=False, following=False, follow_request_sent=False, notifications=False, translator_type='none'), user=User(_api=<tweepy.api.API object at 0x107a8f4e0>, _json={'id': 4686094543, 'id_str': '4686094543', 'name': 'HighlyFunctionalDork', 'screen_name': 'DorkusRegis', 'location': 'Terraria', 'description': \"I'm a mostly good person. Liberal af.\", 'url': 'https://t.co/B3vlvYIxw3', 'entities': {'url': {'urls': [{'url': 'https://t.co/B3vlvYIxw3', 'expanded_url': 'https://twitter.com/search?q=from%3A%40DorkusRegis&s=09', 'display_url': 'twitter.com/search?q=from%…', 'indices': [0, 23]}]}, 'description': {'urls': []}}, 'protected': False, 'followers_count': 2569, 'friends_count': 2402, 'listed_count': 28, 'created_at': 'Fri Jan 01 00:32:36 +0000 2016', 'favourites_count': 41251, 'utc_offset': None, 'time_zone': None, 'geo_enabled': False, 'verified': False, 'statuses_count': 25678, 'lang': 'en', 'contributors_enabled': False, 'is_translator': False, 'is_translation_enabled': False, 'profile_background_color': 'F5F8FA', 'profile_background_image_url': None, 'profile_background_image_url_https': None, 'profile_background_tile': False, 'profile_image_url': 'http://pbs.twimg.com/profile_images/830573069739585536/cGrmgtCw_normal.jpg', 'profile_image_url_https': 'https://pbs.twimg.com/profile_images/830573069739585536/cGrmgtCw_normal.jpg', 'profile_banner_url': 'https://pbs.twimg.com/profile_banners/4686094543/1452556338', 'profile_link_color': '1DA1F2', 'profile_sidebar_border_color': 'C0DEED', 'profile_sidebar_fill_color': 'DDEEF6', 'profile_text_color': '333333', 'profile_use_background_image': True, 'has_extended_profile': True, 'default_profile': True, 'default_profile_image': False, 'following': False, 'follow_request_sent': False, 'notifications': False, 'translator_type': 'none'}, id=4686094543, id_str='4686094543', name='HighlyFunctionalDork', screen_name='DorkusRegis', location='Terraria', description=\"I'm a mostly good person. Liberal af.\", url='https://t.co/B3vlvYIxw3', entities={'url': {'urls': [{'url': 'https://t.co/B3vlvYIxw3', 'expanded_url': 'https://twitter.com/search?q=from%3A%40DorkusRegis&s=09', 'display_url': 'twitter.com/search?q=from%…', 'indices': [0, 23]}]}, 'description': {'urls': []}}, protected=False, followers_count=2569, friends_count=2402, listed_count=28, created_at=datetime.datetime(2016, 1, 1, 0, 32, 36), favourites_count=41251, utc_offset=None, time_zone=None, geo_enabled=False, verified=False, statuses_count=25678, lang='en', contributors_enabled=False, is_translator=False, is_translation_enabled=False, profile_background_color='F5F8FA', profile_background_image_url=None, profile_background_image_url_https=None, profile_background_tile=False, profile_image_url='http://pbs.twimg.com/profile_images/830573069739585536/cGrmgtCw_normal.jpg', profile_image_url_https='https://pbs.twimg.com/profile_images/830573069739585536/cGrmgtCw_normal.jpg', profile_banner_url='https://pbs.twimg.com/profile_banners/4686094543/1452556338', profile_link_color='1DA1F2', profile_sidebar_border_color='C0DEED', profile_sidebar_fill_color='DDEEF6', profile_text_color='333333', profile_use_background_image=True, has_extended_profile=True, default_profile=True, default_profile_image=False, following=False, follow_request_sent=False, notifications=False, translator_type='none'), geo=None, coordinates=None, place=None, contributors=None, retweeted_status=Status(_api=<tweepy.api.API object at 0x107a8f4e0>, _json={'created_at': 'Fri Jul 14 01:47:53 +0000 2017', 'id': 885677197721088000, 'id_str': '885677197721088000', 'text': 'Two typos in a row. One more and I get a business degree from Trump University.', 'truncated': False, 'entities': {'hashtags': [], 'symbols': [], 'user_mentions': [], 'urls': []}, 'metadata': {'iso_language_code': 'en', 'result_type': 'recent'}, 'source': '<a href=\"http://twitter.com/download/android\" rel=\"nofollow\">Twitter for Android</a>', 'in_reply_to_status_id': None, 'in_reply_to_status_id_str': None, 'in_reply_to_user_id': None, 'in_reply_to_user_id_str': None, 'in_reply_to_screen_name': None, 'user': {'id': 21968079, 'id_str': '21968079', 'name': 'Mr. Onederful®', 'screen_name': 'ericonederful', 'location': 'Los Angeles', 'description': 'pro bono comedy writer. 420. blasphemer. dad. https://t.co/vcM1XbJvj2 \\nericonederful@gmail.com', 'url': 'https://t.co/AvUbQYL6jB', 'entities': {'url': {'urls': [{'url': 'https://t.co/AvUbQYL6jB', 'expanded_url': 'http://bit.ly/ericonederful', 'display_url': 'bit.ly/ericonederful', 'indices': [0, 23]}]}, 'description': {'urls': [{'url': 'https://t.co/vcM1XbJvj2', 'expanded_url': 'http://li.st/ericonederful', 'display_url': 'li.st/ericonederful', 'indices': [46, 69]}]}}, 'protected': False, 'followers_count': 25449, 'friends_count': 15959, 'listed_count': 612, 'created_at': 'Thu Feb 26 04:08:27 +0000 2009', 'favourites_count': 306401, 'utc_offset': -25200, 'time_zone': 'Pacific Time (US & Canada)', 'geo_enabled': False, 'verified': False, 'statuses_count': 55730, 'lang': 'en', 'contributors_enabled': False, 'is_translator': False, 'is_translation_enabled': False, 'profile_background_color': '1A1B1F', 'profile_background_image_url': 'http://abs.twimg.com/images/themes/theme9/bg.gif', 'profile_background_image_url_https': 'https://abs.twimg.com/images/themes/theme9/bg.gif', 'profile_background_tile': False, 'profile_image_url': 'http://pbs.twimg.com/profile_images/915793055633911810/RnksgtM1_normal.jpg', 'profile_image_url_https': 'https://pbs.twimg.com/profile_images/915793055633911810/RnksgtM1_normal.jpg', 'profile_banner_url': 'https://pbs.twimg.com/profile_banners/21968079/1418617203', 'profile_link_color': '2FC2EF', 'profile_sidebar_border_color': '181A1E', 'profile_sidebar_fill_color': '252429', 'profile_text_color': '666666', 'profile_use_background_image': True, 'has_extended_profile': True, 'default_profile': False, 'default_profile_image': False, 'following': False, 'follow_request_sent': False, 'notifications': False, 'translator_type': 'none'}, 'geo': None, 'coordinates': None, 'place': None, 'contributors': None, 'is_quote_status': False, 'retweet_count': 27, 'favorite_count': 118, 'favorited': False, 'retweeted': False, 'lang': 'en'}, created_at=datetime.datetime(2017, 7, 14, 1, 47, 53), id=885677197721088000, id_str='885677197721088000', text='Two typos in a row. One more and I get a business degree from Trump University.', truncated=False, entities={'hashtags': [], 'symbols': [], 'user_mentions': [], 'urls': []}, metadata={'iso_language_code': 'en', 'result_type': 'recent'}, source='Twitter for Android', source_url='http://twitter.com/download/android', in_reply_to_status_id=None, in_reply_to_status_id_str=None, in_reply_to_user_id=None, in_reply_to_user_id_str=None, in_reply_to_screen_name=None, author=User(_api=<tweepy.api.API object at 0x107a8f4e0>, _json={'id': 21968079, 'id_str': '21968079', 'name': 'Mr. Onederful®', 'screen_name': 'ericonederful', 'location': 'Los Angeles', 'description': 'pro bono comedy writer. 420. blasphemer. dad. https://t.co/vcM1XbJvj2 \\nericonederful@gmail.com', 'url': 'https://t.co/AvUbQYL6jB', 'entities': {'url': {'urls': [{'url': 'https://t.co/AvUbQYL6jB', 'expanded_url': 'http://bit.ly/ericonederful', 'display_url': 'bit.ly/ericonederful', 'indices': [0, 23]}]}, 'description': {'urls': [{'url': 'https://t.co/vcM1XbJvj2', 'expanded_url': 'http://li.st/ericonederful', 'display_url': 'li.st/ericonederful', 'indices': [46, 69]}]}}, 'protected': False, 'followers_count': 25449, 'friends_count': 15959, 'listed_count': 612, 'created_at': 'Thu Feb 26 04:08:27 +0000 2009', 'favourites_count': 306401, 'utc_offset': -25200, 'time_zone': 'Pacific Time (US & Canada)', 'geo_enabled': False, 'verified': False, 'statuses_count': 55730, 'lang': 'en', 'contributors_enabled': False, 'is_translator': False, 'is_translation_enabled': False, 'profile_background_color': '1A1B1F', 'profile_background_image_url': 'http://abs.twimg.com/images/themes/theme9/bg.gif', 'profile_background_image_url_https': 'https://abs.twimg.com/images/themes/theme9/bg.gif', 'profile_background_tile': False, 'profile_image_url': 'http://pbs.twimg.com/profile_images/915793055633911810/RnksgtM1_normal.jpg', 'profile_image_url_https': 'https://pbs.twimg.com/profile_images/915793055633911810/RnksgtM1_normal.jpg', 'profile_banner_url': 'https://pbs.twimg.com/profile_banners/21968079/1418617203', 'profile_link_color': '2FC2EF', 'profile_sidebar_border_color': '181A1E', 'profile_sidebar_fill_color': '252429', 'profile_text_color': '666666', 'profile_use_background_image': True, 'has_extended_profile': True, 'default_profile': False, 'default_profile_image': False, 'following': False, 'follow_request_sent': False, 'notifications': False, 'translator_type': 'none'}, id=21968079, id_str='21968079', name='Mr. Onederful®', screen_name='ericonederful', location='Los Angeles', description='pro bono comedy writer. 420. blasphemer. dad. https://t.co/vcM1XbJvj2 \\nericonederful@gmail.com', url='https://t.co/AvUbQYL6jB', entities={'url': {'urls': [{'url': 'https://t.co/AvUbQYL6jB', 'expanded_url': 'http://bit.ly/ericonederful', 'display_url': 'bit.ly/ericonederful', 'indices': [0, 23]}]}, 'description': {'urls': [{'url': 'https://t.co/vcM1XbJvj2', 'expanded_url': 'http://li.st/ericonederful', 'display_url': 'li.st/ericonederful', 'indices': [46, 69]}]}}, protected=False, followers_count=25449, friends_count=15959, listed_count=612, created_at=datetime.datetime(2009, 2, 26, 4, 8, 27), favourites_count=306401, utc_offset=-25200, time_zone='Pacific Time (US & Canada)', geo_enabled=False, verified=False, statuses_count=55730, lang='en', contributors_enabled=False, is_translator=False, is_translation_enabled=False, profile_background_color='1A1B1F', profile_background_image_url='http://abs.twimg.com/images/themes/theme9/bg.gif', profile_background_image_url_https='https://abs.twimg.com/images/themes/theme9/bg.gif', profile_background_tile=False, profile_image_url='http://pbs.twimg.com/profile_images/915793055633911810/RnksgtM1_normal.jpg', profile_image_url_https='https://pbs.twimg.com/profile_images/915793055633911810/RnksgtM1_normal.jpg', profile_banner_url='https://pbs.twimg.com/profile_banners/21968079/1418617203', profile_link_color='2FC2EF', profile_sidebar_border_color='181A1E', profile_sidebar_fill_color='252429', profile_text_color='666666', profile_use_background_image=True, has_extended_profile=True, default_profile=False, default_profile_image=False, following=False, follow_request_sent=False, notifications=False, translator_type='none'), user=User(_api=<tweepy.api.API object at 0x107a8f4e0>, _json={'id': 21968079, 'id_str': '21968079', 'name': 'Mr. Onederful®', 'screen_name': 'ericonederful', 'location': 'Los Angeles', 'description': 'pro bono comedy writer. 420. blasphemer. dad. https://t.co/vcM1XbJvj2 \\nericonederful@gmail.com', 'url': 'https://t.co/AvUbQYL6jB', 'entities': {'url': {'urls': [{'url': 'https://t.co/AvUbQYL6jB', 'expanded_url': 'http://bit.ly/ericonederful', 'display_url': 'bit.ly/ericonederful', 'indices': [0, 23]}]}, 'description': {'urls': [{'url': 'https://t.co/vcM1XbJvj2', 'expanded_url': 'http://li.st/ericonederful', 'display_url': 'li.st/ericonederful', 'indices': [46, 69]}]}}, 'protected': False, 'followers_count': 25449, 'friends_count': 15959, 'listed_count': 612, 'created_at': 'Thu Feb 26 04:08:27 +0000 2009', 'favourites_count': 306401, 'utc_offset': -25200, 'time_zone': 'Pacific Time (US & Canada)', 'geo_enabled': False, 'verified': False, 'statuses_count': 55730, 'lang': 'en', 'contributors_enabled': False, 'is_translator': False, 'is_translation_enabled': False, 'profile_background_color': '1A1B1F', 'profile_background_image_url': 'http://abs.twimg.com/images/themes/theme9/bg.gif', 'profile_background_image_url_https': 'https://abs.twimg.com/images/themes/theme9/bg.gif', 'profile_background_tile': False, 'profile_image_url': 'http://pbs.twimg.com/profile_images/915793055633911810/RnksgtM1_normal.jpg', 'profile_image_url_https': 'https://pbs.twimg.com/profile_images/915793055633911810/RnksgtM1_normal.jpg', 'profile_banner_url': 'https://pbs.twimg.com/profile_banners/21968079/1418617203', 'profile_link_color': '2FC2EF', 'profile_sidebar_border_color': '181A1E', 'profile_sidebar_fill_color': '252429', 'profile_text_color': '666666', 'profile_use_background_image': True, 'has_extended_profile': True, 'default_profile': False, 'default_profile_image': False, 'following': False, 'follow_request_sent': False, 'notifications': False, 'translator_type': 'none'}, id=21968079, id_str='21968079', name='Mr. Onederful®', screen_name='ericonederful', location='Los Angeles', description='pro bono comedy writer. 420. blasphemer. dad. https://t.co/vcM1XbJvj2 \\nericonederful@gmail.com', url='https://t.co/AvUbQYL6jB', entities={'url': {'urls': [{'url': 'https://t.co/AvUbQYL6jB', 'expanded_url': 'http://bit.ly/ericonederful', 'display_url': 'bit.ly/ericonederful', 'indices': [0, 23]}]}, 'description': {'urls': [{'url': 'https://t.co/vcM1XbJvj2', 'expanded_url': 'http://li.st/ericonederful', 'display_url': 'li.st/ericonederful', 'indices': [46, 69]}]}}, protected=False, followers_count=25449, friends_count=15959, listed_count=612, created_at=datetime.datetime(2009, 2, 26, 4, 8, 27), favourites_count=306401, utc_offset=-25200, time_zone='Pacific Time (US & Canada)', geo_enabled=False, verified=False, statuses_count=55730, lang='en', contributors_enabled=False, is_translator=False, is_translation_enabled=False, profile_background_color='1A1B1F', profile_background_image_url='http://abs.twimg.com/images/themes/theme9/bg.gif', profile_background_image_url_https='https://abs.twimg.com/images/themes/theme9/bg.gif', profile_background_tile=False, profile_image_url='http://pbs.twimg.com/profile_images/915793055633911810/RnksgtM1_normal.jpg', profile_image_url_https='https://pbs.twimg.com/profile_images/915793055633911810/RnksgtM1_normal.jpg', profile_banner_url='https://pbs.twimg.com/profile_banners/21968079/1418617203', profile_link_color='2FC2EF', profile_sidebar_border_color='181A1E', profile_sidebar_fill_color='252429', profile_text_color='666666', profile_use_background_image=True, has_extended_profile=True, default_profile=False, default_profile_image=False, following=False, follow_request_sent=False, notifications=False, translator_type='none'), geo=None, coordinates=None, place=None, contributors=None, is_quote_status=False, retweet_count=27, favorite_count=118, favorited=False, retweeted=False, lang='en'), is_quote_status=False, retweet_count=27, favorite_count=0, favorited=False, retweeted=False, lang='en')\n"
     ]
    }
   ],
   "source": [
    "print(type(tweets))\n",
    "print(type(tweets[0]))\n",
    "print(tweets[0])"
   ]
  },
  {
   "cell_type": "markdown",
   "metadata": {},
   "source": [
    "As we see above, tweets is type \"Search Results.\" If we take the first element of the search results, that is a \"Status\" object. We can perform .text on each of these Statuses to get the text and use the text for later analysis."
   ]
  },
  {
   "cell_type": "code",
   "execution_count": 63,
   "metadata": {},
   "outputs": [
    {
     "name": "stdout",
     "output_type": "stream",
     "text": [
      "RT @ericonederful: Two typos in a row. One more and I get a business degree from Trump University.\n",
      "RT @ananavarro: If only Trump Administration treated transgenders with same respect it treats Putin...or Putin with same animosity it treat…\n",
      "RT @yoyoha: Current cost of Trump's golf weekends so far: $71,556,561 https://t.co/sPn5FEeKYI\n",
      "@NathanH16238941 @AbeFroman @Vets_4_Trump @pastormarkburns The point isn't if they have the right to kneel They do… https://t.co/FMmpwfHXAg\n",
      "RT @DineshDSouza: Excellent! We will revisit this when the earth gets noticeably hotter than it was when we were kids https://t.co/mHlktgVG…\n",
      "RT @TalbertSwan: @TaIbertSwan @realDonaldTrump Poor misguided soul, #Trump Has done nothing to make America great. He’s polarized the natio…\n",
      "If ur against Trump it shows u can't see down the rd , not even a short distance, Hes got a corrupt gov to fight for awhile longer and bo to\n",
      "@StellaStanding @IU_Mike @EllenMorris1222 @marcorubio @TaxPolicyCenter It doesn't make up for it. \n",
      "https://t.co/X1gP9l1fma\n",
      "@Impeach_D_Trump @MatthewGellert @realDonaldTrump Hahaha hahaha! What a moron to even think Obama's policies had anything to do with it.\n",
      "I liked a @YouTube video https://t.co/dTbkp4uX9Q \"It Was an Insult\": Rep. Nydia Velázquez on Trump's Visit to Puerto Rico, Attacks on\n",
      "RT @AmRenaissance: Puerto Ricans pay no income tax but receive $6,000 per capita each year in welfare. Time to separate.\n",
      "\n",
      "https://t.co/qXfZ…\n",
      "RT @tribelaw: I’m sure the $25K —&gt; Vance from Trump’s lawyer had nothing to do with Vance’s decision . . . https://t.co/zkD2hOkQkY\n",
      "RT @Shakestweetz: We Resist: Day 259. Trump continues to fail Puerto Rico, Russian meddling, Arpaio's pardon, white supremacy, + more https…\n",
      "@bryangilbreath @Mamaleh_Trump @SarahHuckabee 😆😄😂 I think it would hide just about any kind of stain well!\n",
      "RT @HarrySteinDC: Wow. In Maryland, 120% of the Trump/GOP tax cuts go to the top 1%. Not a typo. The bottom 99% gets a net tax hike. https:…\n"
     ]
    }
   ],
   "source": [
    "for tweet in tweets:\n",
    "    print(tweet.text)"
   ]
  },
  {
   "cell_type": "markdown",
   "metadata": {},
   "source": [
    "The API is only allowing us to see 15 tweets at a time...Let's try to continuously collect data"
   ]
  },
  {
   "cell_type": "code",
   "execution_count": 64,
   "metadata": {
    "collapsed": true
   },
   "outputs": [],
   "source": [
    "start_time = time.time() #grabs the system time\n",
    "keyword_list = ['US','Politics'] #track list"
   ]
  },
  {
   "cell_type": "code",
   "execution_count": 65,
   "metadata": {},
   "outputs": [],
   "source": [
    "import io\n",
    "#Listener Class Override\n",
    "class listener(StreamListener):\n",
    " \n",
    "    def __init__(self, start_time, time_limit=60):\n",
    " \n",
    "        self.time = start_time\n",
    "        self.limit = time_limit\n",
    "        self.tweet_data = []\n",
    " \n",
    "    def on_data(self, data):\n",
    " \n",
    "        saveFile = io.open('raw_tweets.json', 'a', encoding='utf-8')\n",
    " \n",
    "        while (time.time() - self.time) < self.limit:\n",
    " \n",
    "            try:\n",
    " \n",
    "                self.tweet_data.append(data)\n",
    " \n",
    "                return True\n",
    " \n",
    " \n",
    "            except BaseException as e:\n",
    "                print('failed ondata,', str(e))\n",
    "                time.sleep(5)\n",
    "                pass\n",
    " \n",
    "        saveFile = io.open('raw_tweets.json', 'w', encoding='utf-8')\n",
    "        saveFile.write(u'[\\n')\n",
    "        saveFile.write(','.join(self.tweet_data))\n",
    "        saveFile.write(u'\\n]')\n",
    "        saveFile.close()\n",
    "        exit()\n",
    " \n",
    "    def on_error(self, status):\n",
    " \n",
    "        print(statuses)"
   ]
  },
  {
   "cell_type": "code",
   "execution_count": null,
   "metadata": {},
   "outputs": [
    {
     "ename": "KeyboardInterrupt",
     "evalue": "",
     "output_type": "error",
     "traceback": [
      "\u001b[0;31m---------------------------------------------------------------------------\u001b[0m",
      "\u001b[0;31mWantReadError\u001b[0m                             Traceback (most recent call last)",
      "\u001b[0;32m/Users/stellasotos/anaconda/lib/python3.6/site-packages/requests/packages/urllib3/contrib/pyopenssl.py\u001b[0m in \u001b[0;36mrecv_into\u001b[0;34m(self, *args, **kwargs)\u001b[0m\n\u001b[1;32m    276\u001b[0m         \u001b[0;32mtry\u001b[0m\u001b[0;34m:\u001b[0m\u001b[0;34m\u001b[0m\u001b[0m\n\u001b[0;32m--> 277\u001b[0;31m             \u001b[0;32mreturn\u001b[0m \u001b[0mself\u001b[0m\u001b[0;34m.\u001b[0m\u001b[0mconnection\u001b[0m\u001b[0;34m.\u001b[0m\u001b[0mrecv_into\u001b[0m\u001b[0;34m(\u001b[0m\u001b[0;34m*\u001b[0m\u001b[0margs\u001b[0m\u001b[0;34m,\u001b[0m \u001b[0;34m**\u001b[0m\u001b[0mkwargs\u001b[0m\u001b[0;34m)\u001b[0m\u001b[0;34m\u001b[0m\u001b[0m\n\u001b[0m\u001b[1;32m    278\u001b[0m         \u001b[0;32mexcept\u001b[0m \u001b[0mOpenSSL\u001b[0m\u001b[0;34m.\u001b[0m\u001b[0mSSL\u001b[0m\u001b[0;34m.\u001b[0m\u001b[0mSysCallError\u001b[0m \u001b[0;32mas\u001b[0m \u001b[0me\u001b[0m\u001b[0;34m:\u001b[0m\u001b[0;34m\u001b[0m\u001b[0m\n",
      "\u001b[0;32m/Users/stellasotos/anaconda/lib/python3.6/site-packages/OpenSSL/SSL.py\u001b[0m in \u001b[0;36mrecv_into\u001b[0;34m(self, buffer, nbytes, flags)\u001b[0m\n\u001b[1;32m   1546\u001b[0m             \u001b[0mresult\u001b[0m \u001b[0;34m=\u001b[0m \u001b[0m_lib\u001b[0m\u001b[0;34m.\u001b[0m\u001b[0mSSL_read\u001b[0m\u001b[0;34m(\u001b[0m\u001b[0mself\u001b[0m\u001b[0;34m.\u001b[0m\u001b[0m_ssl\u001b[0m\u001b[0;34m,\u001b[0m \u001b[0mbuf\u001b[0m\u001b[0;34m,\u001b[0m \u001b[0mnbytes\u001b[0m\u001b[0;34m)\u001b[0m\u001b[0;34m\u001b[0m\u001b[0m\n\u001b[0;32m-> 1547\u001b[0;31m         \u001b[0mself\u001b[0m\u001b[0;34m.\u001b[0m\u001b[0m_raise_ssl_error\u001b[0m\u001b[0;34m(\u001b[0m\u001b[0mself\u001b[0m\u001b[0;34m.\u001b[0m\u001b[0m_ssl\u001b[0m\u001b[0;34m,\u001b[0m \u001b[0mresult\u001b[0m\u001b[0;34m)\u001b[0m\u001b[0;34m\u001b[0m\u001b[0m\n\u001b[0m\u001b[1;32m   1548\u001b[0m \u001b[0;34m\u001b[0m\u001b[0m\n",
      "\u001b[0;32m/Users/stellasotos/anaconda/lib/python3.6/site-packages/OpenSSL/SSL.py\u001b[0m in \u001b[0;36m_raise_ssl_error\u001b[0;34m(self, ssl, result)\u001b[0m\n\u001b[1;32m   1352\u001b[0m         \u001b[0;32mif\u001b[0m \u001b[0merror\u001b[0m \u001b[0;34m==\u001b[0m \u001b[0m_lib\u001b[0m\u001b[0;34m.\u001b[0m\u001b[0mSSL_ERROR_WANT_READ\u001b[0m\u001b[0;34m:\u001b[0m\u001b[0;34m\u001b[0m\u001b[0m\n\u001b[0;32m-> 1353\u001b[0;31m             \u001b[0;32mraise\u001b[0m \u001b[0mWantReadError\u001b[0m\u001b[0;34m(\u001b[0m\u001b[0;34m)\u001b[0m\u001b[0;34m\u001b[0m\u001b[0m\n\u001b[0m\u001b[1;32m   1354\u001b[0m         \u001b[0;32melif\u001b[0m \u001b[0merror\u001b[0m \u001b[0;34m==\u001b[0m \u001b[0m_lib\u001b[0m\u001b[0;34m.\u001b[0m\u001b[0mSSL_ERROR_WANT_WRITE\u001b[0m\u001b[0;34m:\u001b[0m\u001b[0;34m\u001b[0m\u001b[0m\n",
      "\u001b[0;31mWantReadError\u001b[0m: ",
      "\nDuring handling of the above exception, another exception occurred:\n",
      "\u001b[0;31mKeyboardInterrupt\u001b[0m                         Traceback (most recent call last)",
      "\u001b[0;32m<ipython-input-66-621d2938fc2b>\u001b[0m in \u001b[0;36m<module>\u001b[0;34m()\u001b[0m\n\u001b[1;32m      1\u001b[0m \u001b[0mtwitterStream\u001b[0m \u001b[0;34m=\u001b[0m \u001b[0mStream\u001b[0m\u001b[0;34m(\u001b[0m\u001b[0mauth\u001b[0m\u001b[0;34m,\u001b[0m \u001b[0mlistener\u001b[0m\u001b[0;34m(\u001b[0m\u001b[0mstart_time\u001b[0m\u001b[0;34m,\u001b[0m \u001b[0mtime_limit\u001b[0m\u001b[0;34m=\u001b[0m\u001b[0;36m20\u001b[0m\u001b[0;34m)\u001b[0m\u001b[0;34m)\u001b[0m \u001b[0;31m#initialize Stream object with a time out limit\u001b[0m\u001b[0;34m\u001b[0m\u001b[0m\n\u001b[0;32m----> 2\u001b[0;31m \u001b[0mtwitterStream\u001b[0m\u001b[0;34m.\u001b[0m\u001b[0mfilter\u001b[0m\u001b[0;34m(\u001b[0m\u001b[0mtrack\u001b[0m\u001b[0;34m=\u001b[0m\u001b[0mkeyword_list\u001b[0m\u001b[0;34m,\u001b[0m \u001b[0mlanguages\u001b[0m\u001b[0;34m=\u001b[0m\u001b[0;34m[\u001b[0m\u001b[0;34m'en'\u001b[0m\u001b[0;34m]\u001b[0m\u001b[0;34m)\u001b[0m  \u001b[0;31m#call the filter method to run the Stream Object\u001b[0m\u001b[0;34m\u001b[0m\u001b[0m\n\u001b[0m",
      "\u001b[0;32m/Users/stellasotos/anaconda/lib/python3.6/site-packages/tweepy/streaming.py\u001b[0m in \u001b[0;36mfilter\u001b[0;34m(self, follow, track, async, locations, stall_warnings, languages, encoding, filter_level)\u001b[0m\n\u001b[1;32m    443\u001b[0m         \u001b[0mself\u001b[0m\u001b[0;34m.\u001b[0m\u001b[0msession\u001b[0m\u001b[0;34m.\u001b[0m\u001b[0mparams\u001b[0m \u001b[0;34m=\u001b[0m \u001b[0;34m{\u001b[0m\u001b[0;34m'delimited'\u001b[0m\u001b[0;34m:\u001b[0m \u001b[0;34m'length'\u001b[0m\u001b[0;34m}\u001b[0m\u001b[0;34m\u001b[0m\u001b[0m\n\u001b[1;32m    444\u001b[0m         \u001b[0mself\u001b[0m\u001b[0;34m.\u001b[0m\u001b[0mhost\u001b[0m \u001b[0;34m=\u001b[0m \u001b[0;34m'stream.twitter.com'\u001b[0m\u001b[0;34m\u001b[0m\u001b[0m\n\u001b[0;32m--> 445\u001b[0;31m         \u001b[0mself\u001b[0m\u001b[0;34m.\u001b[0m\u001b[0m_start\u001b[0m\u001b[0;34m(\u001b[0m\u001b[0masync\u001b[0m\u001b[0;34m)\u001b[0m\u001b[0;34m\u001b[0m\u001b[0m\n\u001b[0m\u001b[1;32m    446\u001b[0m \u001b[0;34m\u001b[0m\u001b[0m\n\u001b[1;32m    447\u001b[0m     def sitestream(self, follow, stall_warnings=False,\n",
      "\u001b[0;32m/Users/stellasotos/anaconda/lib/python3.6/site-packages/tweepy/streaming.py\u001b[0m in \u001b[0;36m_start\u001b[0;34m(self, async)\u001b[0m\n\u001b[1;32m    359\u001b[0m             \u001b[0mself\u001b[0m\u001b[0;34m.\u001b[0m\u001b[0m_thread\u001b[0m\u001b[0;34m.\u001b[0m\u001b[0mstart\u001b[0m\u001b[0;34m(\u001b[0m\u001b[0;34m)\u001b[0m\u001b[0;34m\u001b[0m\u001b[0m\n\u001b[1;32m    360\u001b[0m         \u001b[0;32melse\u001b[0m\u001b[0;34m:\u001b[0m\u001b[0;34m\u001b[0m\u001b[0m\n\u001b[0;32m--> 361\u001b[0;31m             \u001b[0mself\u001b[0m\u001b[0;34m.\u001b[0m\u001b[0m_run\u001b[0m\u001b[0;34m(\u001b[0m\u001b[0;34m)\u001b[0m\u001b[0;34m\u001b[0m\u001b[0m\n\u001b[0m\u001b[1;32m    362\u001b[0m \u001b[0;34m\u001b[0m\u001b[0m\n\u001b[1;32m    363\u001b[0m     \u001b[0;32mdef\u001b[0m \u001b[0mon_closed\u001b[0m\u001b[0;34m(\u001b[0m\u001b[0mself\u001b[0m\u001b[0;34m,\u001b[0m \u001b[0mresp\u001b[0m\u001b[0;34m)\u001b[0m\u001b[0;34m:\u001b[0m\u001b[0;34m\u001b[0m\u001b[0m\n",
      "\u001b[0;32m/Users/stellasotos/anaconda/lib/python3.6/site-packages/tweepy/streaming.py\u001b[0m in \u001b[0;36m_run\u001b[0;34m(self)\u001b[0m\n\u001b[1;32m    261\u001b[0m                     \u001b[0mself\u001b[0m\u001b[0;34m.\u001b[0m\u001b[0msnooze_time\u001b[0m \u001b[0;34m=\u001b[0m \u001b[0mself\u001b[0m\u001b[0;34m.\u001b[0m\u001b[0msnooze_time_step\u001b[0m\u001b[0;34m\u001b[0m\u001b[0m\n\u001b[1;32m    262\u001b[0m                     \u001b[0mself\u001b[0m\u001b[0;34m.\u001b[0m\u001b[0mlistener\u001b[0m\u001b[0;34m.\u001b[0m\u001b[0mon_connect\u001b[0m\u001b[0;34m(\u001b[0m\u001b[0;34m)\u001b[0m\u001b[0;34m\u001b[0m\u001b[0m\n\u001b[0;32m--> 263\u001b[0;31m                     \u001b[0mself\u001b[0m\u001b[0;34m.\u001b[0m\u001b[0m_read_loop\u001b[0m\u001b[0;34m(\u001b[0m\u001b[0mresp\u001b[0m\u001b[0;34m)\u001b[0m\u001b[0;34m\u001b[0m\u001b[0m\n\u001b[0m\u001b[1;32m    264\u001b[0m             \u001b[0;32mexcept\u001b[0m \u001b[0;34m(\u001b[0m\u001b[0mTimeout\u001b[0m\u001b[0;34m,\u001b[0m \u001b[0mssl\u001b[0m\u001b[0;34m.\u001b[0m\u001b[0mSSLError\u001b[0m\u001b[0;34m)\u001b[0m \u001b[0;32mas\u001b[0m \u001b[0mexc\u001b[0m\u001b[0;34m:\u001b[0m\u001b[0;34m\u001b[0m\u001b[0m\n\u001b[1;32m    265\u001b[0m                 \u001b[0;31m# This is still necessary, as a SSLError can actually be\u001b[0m\u001b[0;34m\u001b[0m\u001b[0;34m\u001b[0m\u001b[0m\n",
      "\u001b[0;32m/Users/stellasotos/anaconda/lib/python3.6/site-packages/tweepy/streaming.py\u001b[0m in \u001b[0;36m_read_loop\u001b[0;34m(self, resp)\u001b[0m\n\u001b[1;32m    311\u001b[0m             \u001b[0mlength\u001b[0m \u001b[0;34m=\u001b[0m \u001b[0;36m0\u001b[0m\u001b[0;34m\u001b[0m\u001b[0m\n\u001b[1;32m    312\u001b[0m             \u001b[0;32mwhile\u001b[0m \u001b[0;32mnot\u001b[0m \u001b[0mresp\u001b[0m\u001b[0;34m.\u001b[0m\u001b[0mraw\u001b[0m\u001b[0;34m.\u001b[0m\u001b[0mclosed\u001b[0m\u001b[0;34m:\u001b[0m\u001b[0;34m\u001b[0m\u001b[0m\n\u001b[0;32m--> 313\u001b[0;31m                 \u001b[0mline\u001b[0m \u001b[0;34m=\u001b[0m \u001b[0mbuf\u001b[0m\u001b[0;34m.\u001b[0m\u001b[0mread_line\u001b[0m\u001b[0;34m(\u001b[0m\u001b[0;34m)\u001b[0m\u001b[0;34m.\u001b[0m\u001b[0mstrip\u001b[0m\u001b[0;34m(\u001b[0m\u001b[0;34m)\u001b[0m\u001b[0;34m\u001b[0m\u001b[0m\n\u001b[0m\u001b[1;32m    314\u001b[0m                 \u001b[0;32mif\u001b[0m \u001b[0;32mnot\u001b[0m \u001b[0mline\u001b[0m\u001b[0;34m:\u001b[0m\u001b[0;34m\u001b[0m\u001b[0m\n\u001b[1;32m    315\u001b[0m                     \u001b[0mself\u001b[0m\u001b[0;34m.\u001b[0m\u001b[0mlistener\u001b[0m\u001b[0;34m.\u001b[0m\u001b[0mkeep_alive\u001b[0m\u001b[0;34m(\u001b[0m\u001b[0;34m)\u001b[0m  \u001b[0;31m# keep-alive new lines are expected\u001b[0m\u001b[0;34m\u001b[0m\u001b[0m\n",
      "\u001b[0;32m/Users/stellasotos/anaconda/lib/python3.6/site-packages/tweepy/streaming.py\u001b[0m in \u001b[0;36mread_line\u001b[0;34m(self, sep)\u001b[0m\n\u001b[1;32m    177\u001b[0m             \u001b[0;32melse\u001b[0m\u001b[0;34m:\u001b[0m\u001b[0;34m\u001b[0m\u001b[0m\n\u001b[1;32m    178\u001b[0m                 \u001b[0mstart\u001b[0m \u001b[0;34m=\u001b[0m \u001b[0mlen\u001b[0m\u001b[0;34m(\u001b[0m\u001b[0mself\u001b[0m\u001b[0;34m.\u001b[0m\u001b[0m_buffer\u001b[0m\u001b[0;34m)\u001b[0m\u001b[0;34m\u001b[0m\u001b[0m\n\u001b[0;32m--> 179\u001b[0;31m             \u001b[0mself\u001b[0m\u001b[0;34m.\u001b[0m\u001b[0m_buffer\u001b[0m \u001b[0;34m+=\u001b[0m \u001b[0mself\u001b[0m\u001b[0;34m.\u001b[0m\u001b[0m_stream\u001b[0m\u001b[0;34m.\u001b[0m\u001b[0mread\u001b[0m\u001b[0;34m(\u001b[0m\u001b[0mself\u001b[0m\u001b[0;34m.\u001b[0m\u001b[0m_chunk_size\u001b[0m\u001b[0;34m)\u001b[0m\u001b[0;34m\u001b[0m\u001b[0m\n\u001b[0m\u001b[1;32m    180\u001b[0m \u001b[0;34m\u001b[0m\u001b[0m\n\u001b[1;32m    181\u001b[0m     \u001b[0;32mdef\u001b[0m \u001b[0m_pop\u001b[0m\u001b[0;34m(\u001b[0m\u001b[0mself\u001b[0m\u001b[0;34m,\u001b[0m \u001b[0mlength\u001b[0m\u001b[0;34m)\u001b[0m\u001b[0;34m:\u001b[0m\u001b[0;34m\u001b[0m\u001b[0m\n",
      "\u001b[0;32m/Users/stellasotos/anaconda/lib/python3.6/site-packages/requests/packages/urllib3/response.py\u001b[0m in \u001b[0;36mread\u001b[0;34m(self, amt, decode_content, cache_content)\u001b[0m\n\u001b[1;32m    382\u001b[0m             \u001b[0;32melse\u001b[0m\u001b[0;34m:\u001b[0m\u001b[0;34m\u001b[0m\u001b[0m\n\u001b[1;32m    383\u001b[0m                 \u001b[0mcache_content\u001b[0m \u001b[0;34m=\u001b[0m \u001b[0;32mFalse\u001b[0m\u001b[0;34m\u001b[0m\u001b[0m\n\u001b[0;32m--> 384\u001b[0;31m                 \u001b[0mdata\u001b[0m \u001b[0;34m=\u001b[0m \u001b[0mself\u001b[0m\u001b[0;34m.\u001b[0m\u001b[0m_fp\u001b[0m\u001b[0;34m.\u001b[0m\u001b[0mread\u001b[0m\u001b[0;34m(\u001b[0m\u001b[0mamt\u001b[0m\u001b[0;34m)\u001b[0m\u001b[0;34m\u001b[0m\u001b[0m\n\u001b[0m\u001b[1;32m    385\u001b[0m                 \u001b[0;32mif\u001b[0m \u001b[0mamt\u001b[0m \u001b[0;34m!=\u001b[0m \u001b[0;36m0\u001b[0m \u001b[0;32mand\u001b[0m \u001b[0;32mnot\u001b[0m \u001b[0mdata\u001b[0m\u001b[0;34m:\u001b[0m  \u001b[0;31m# Platform-specific: Buggy versions of Python.\u001b[0m\u001b[0;34m\u001b[0m\u001b[0m\n\u001b[1;32m    386\u001b[0m                     \u001b[0;31m# Close the connection when no data is returned\u001b[0m\u001b[0;34m\u001b[0m\u001b[0;34m\u001b[0m\u001b[0m\n",
      "\u001b[0;32m/Users/stellasotos/anaconda/lib/python3.6/http/client.py\u001b[0m in \u001b[0;36mread\u001b[0;34m(self, amt)\u001b[0m\n\u001b[1;32m    447\u001b[0m             \u001b[0;31m# Amount is given, implement using readinto\u001b[0m\u001b[0;34m\u001b[0m\u001b[0;34m\u001b[0m\u001b[0m\n\u001b[1;32m    448\u001b[0m             \u001b[0mb\u001b[0m \u001b[0;34m=\u001b[0m \u001b[0mbytearray\u001b[0m\u001b[0;34m(\u001b[0m\u001b[0mamt\u001b[0m\u001b[0;34m)\u001b[0m\u001b[0;34m\u001b[0m\u001b[0m\n\u001b[0;32m--> 449\u001b[0;31m             \u001b[0mn\u001b[0m \u001b[0;34m=\u001b[0m \u001b[0mself\u001b[0m\u001b[0;34m.\u001b[0m\u001b[0mreadinto\u001b[0m\u001b[0;34m(\u001b[0m\u001b[0mb\u001b[0m\u001b[0;34m)\u001b[0m\u001b[0;34m\u001b[0m\u001b[0m\n\u001b[0m\u001b[1;32m    450\u001b[0m             \u001b[0;32mreturn\u001b[0m \u001b[0mmemoryview\u001b[0m\u001b[0;34m(\u001b[0m\u001b[0mb\u001b[0m\u001b[0;34m)\u001b[0m\u001b[0;34m[\u001b[0m\u001b[0;34m:\u001b[0m\u001b[0mn\u001b[0m\u001b[0;34m]\u001b[0m\u001b[0;34m.\u001b[0m\u001b[0mtobytes\u001b[0m\u001b[0;34m(\u001b[0m\u001b[0;34m)\u001b[0m\u001b[0;34m\u001b[0m\u001b[0m\n\u001b[1;32m    451\u001b[0m         \u001b[0;32melse\u001b[0m\u001b[0;34m:\u001b[0m\u001b[0;34m\u001b[0m\u001b[0m\n",
      "\u001b[0;32m/Users/stellasotos/anaconda/lib/python3.6/http/client.py\u001b[0m in \u001b[0;36mreadinto\u001b[0;34m(self, b)\u001b[0m\n\u001b[1;32m    481\u001b[0m \u001b[0;34m\u001b[0m\u001b[0m\n\u001b[1;32m    482\u001b[0m         \u001b[0;32mif\u001b[0m \u001b[0mself\u001b[0m\u001b[0;34m.\u001b[0m\u001b[0mchunked\u001b[0m\u001b[0;34m:\u001b[0m\u001b[0;34m\u001b[0m\u001b[0m\n\u001b[0;32m--> 483\u001b[0;31m             \u001b[0;32mreturn\u001b[0m \u001b[0mself\u001b[0m\u001b[0;34m.\u001b[0m\u001b[0m_readinto_chunked\u001b[0m\u001b[0;34m(\u001b[0m\u001b[0mb\u001b[0m\u001b[0;34m)\u001b[0m\u001b[0;34m\u001b[0m\u001b[0m\n\u001b[0m\u001b[1;32m    484\u001b[0m \u001b[0;34m\u001b[0m\u001b[0m\n\u001b[1;32m    485\u001b[0m         \u001b[0;32mif\u001b[0m \u001b[0mself\u001b[0m\u001b[0;34m.\u001b[0m\u001b[0mlength\u001b[0m \u001b[0;32mis\u001b[0m \u001b[0;32mnot\u001b[0m \u001b[0;32mNone\u001b[0m\u001b[0;34m:\u001b[0m\u001b[0;34m\u001b[0m\u001b[0m\n",
      "\u001b[0;32m/Users/stellasotos/anaconda/lib/python3.6/http/client.py\u001b[0m in \u001b[0;36m_readinto_chunked\u001b[0;34m(self, b)\u001b[0m\n\u001b[1;32m    576\u001b[0m         \u001b[0;32mtry\u001b[0m\u001b[0;34m:\u001b[0m\u001b[0;34m\u001b[0m\u001b[0m\n\u001b[1;32m    577\u001b[0m             \u001b[0;32mwhile\u001b[0m \u001b[0;32mTrue\u001b[0m\u001b[0;34m:\u001b[0m\u001b[0;34m\u001b[0m\u001b[0m\n\u001b[0;32m--> 578\u001b[0;31m                 \u001b[0mchunk_left\u001b[0m \u001b[0;34m=\u001b[0m \u001b[0mself\u001b[0m\u001b[0;34m.\u001b[0m\u001b[0m_get_chunk_left\u001b[0m\u001b[0;34m(\u001b[0m\u001b[0;34m)\u001b[0m\u001b[0;34m\u001b[0m\u001b[0m\n\u001b[0m\u001b[1;32m    579\u001b[0m                 \u001b[0;32mif\u001b[0m \u001b[0mchunk_left\u001b[0m \u001b[0;32mis\u001b[0m \u001b[0;32mNone\u001b[0m\u001b[0;34m:\u001b[0m\u001b[0;34m\u001b[0m\u001b[0m\n\u001b[1;32m    580\u001b[0m                     \u001b[0;32mreturn\u001b[0m \u001b[0mtotal_bytes\u001b[0m\u001b[0;34m\u001b[0m\u001b[0m\n",
      "\u001b[0;32m/Users/stellasotos/anaconda/lib/python3.6/http/client.py\u001b[0m in \u001b[0;36m_get_chunk_left\u001b[0;34m(self)\u001b[0m\n\u001b[1;32m    544\u001b[0m                 \u001b[0mself\u001b[0m\u001b[0;34m.\u001b[0m\u001b[0m_safe_read\u001b[0m\u001b[0;34m(\u001b[0m\u001b[0;36m2\u001b[0m\u001b[0;34m)\u001b[0m  \u001b[0;31m# toss the CRLF at the end of the chunk\u001b[0m\u001b[0;34m\u001b[0m\u001b[0m\n\u001b[1;32m    545\u001b[0m             \u001b[0;32mtry\u001b[0m\u001b[0;34m:\u001b[0m\u001b[0;34m\u001b[0m\u001b[0m\n\u001b[0;32m--> 546\u001b[0;31m                 \u001b[0mchunk_left\u001b[0m \u001b[0;34m=\u001b[0m \u001b[0mself\u001b[0m\u001b[0;34m.\u001b[0m\u001b[0m_read_next_chunk_size\u001b[0m\u001b[0;34m(\u001b[0m\u001b[0;34m)\u001b[0m\u001b[0;34m\u001b[0m\u001b[0m\n\u001b[0m\u001b[1;32m    547\u001b[0m             \u001b[0;32mexcept\u001b[0m \u001b[0mValueError\u001b[0m\u001b[0;34m:\u001b[0m\u001b[0;34m\u001b[0m\u001b[0m\n\u001b[1;32m    548\u001b[0m                 \u001b[0;32mraise\u001b[0m \u001b[0mIncompleteRead\u001b[0m\u001b[0;34m(\u001b[0m\u001b[0;34mb''\u001b[0m\u001b[0;34m)\u001b[0m\u001b[0;34m\u001b[0m\u001b[0m\n",
      "\u001b[0;32m/Users/stellasotos/anaconda/lib/python3.6/http/client.py\u001b[0m in \u001b[0;36m_read_next_chunk_size\u001b[0;34m(self)\u001b[0m\n\u001b[1;32m    504\u001b[0m     \u001b[0;32mdef\u001b[0m \u001b[0m_read_next_chunk_size\u001b[0m\u001b[0;34m(\u001b[0m\u001b[0mself\u001b[0m\u001b[0;34m)\u001b[0m\u001b[0;34m:\u001b[0m\u001b[0;34m\u001b[0m\u001b[0m\n\u001b[1;32m    505\u001b[0m         \u001b[0;31m# Read the next chunk size from the file\u001b[0m\u001b[0;34m\u001b[0m\u001b[0;34m\u001b[0m\u001b[0m\n\u001b[0;32m--> 506\u001b[0;31m         \u001b[0mline\u001b[0m \u001b[0;34m=\u001b[0m \u001b[0mself\u001b[0m\u001b[0;34m.\u001b[0m\u001b[0mfp\u001b[0m\u001b[0;34m.\u001b[0m\u001b[0mreadline\u001b[0m\u001b[0;34m(\u001b[0m\u001b[0m_MAXLINE\u001b[0m \u001b[0;34m+\u001b[0m \u001b[0;36m1\u001b[0m\u001b[0;34m)\u001b[0m\u001b[0;34m\u001b[0m\u001b[0m\n\u001b[0m\u001b[1;32m    507\u001b[0m         \u001b[0;32mif\u001b[0m \u001b[0mlen\u001b[0m\u001b[0;34m(\u001b[0m\u001b[0mline\u001b[0m\u001b[0;34m)\u001b[0m \u001b[0;34m>\u001b[0m \u001b[0m_MAXLINE\u001b[0m\u001b[0;34m:\u001b[0m\u001b[0;34m\u001b[0m\u001b[0m\n\u001b[1;32m    508\u001b[0m             \u001b[0;32mraise\u001b[0m \u001b[0mLineTooLong\u001b[0m\u001b[0;34m(\u001b[0m\u001b[0;34m\"chunk size\"\u001b[0m\u001b[0;34m)\u001b[0m\u001b[0;34m\u001b[0m\u001b[0m\n",
      "\u001b[0;32m/Users/stellasotos/anaconda/lib/python3.6/socket.py\u001b[0m in \u001b[0;36mreadinto\u001b[0;34m(self, b)\u001b[0m\n\u001b[1;32m    584\u001b[0m         \u001b[0;32mwhile\u001b[0m \u001b[0;32mTrue\u001b[0m\u001b[0;34m:\u001b[0m\u001b[0;34m\u001b[0m\u001b[0m\n\u001b[1;32m    585\u001b[0m             \u001b[0;32mtry\u001b[0m\u001b[0;34m:\u001b[0m\u001b[0;34m\u001b[0m\u001b[0m\n\u001b[0;32m--> 586\u001b[0;31m                 \u001b[0;32mreturn\u001b[0m \u001b[0mself\u001b[0m\u001b[0;34m.\u001b[0m\u001b[0m_sock\u001b[0m\u001b[0;34m.\u001b[0m\u001b[0mrecv_into\u001b[0m\u001b[0;34m(\u001b[0m\u001b[0mb\u001b[0m\u001b[0;34m)\u001b[0m\u001b[0;34m\u001b[0m\u001b[0m\n\u001b[0m\u001b[1;32m    587\u001b[0m             \u001b[0;32mexcept\u001b[0m \u001b[0mtimeout\u001b[0m\u001b[0;34m:\u001b[0m\u001b[0;34m\u001b[0m\u001b[0m\n\u001b[1;32m    588\u001b[0m                 \u001b[0mself\u001b[0m\u001b[0;34m.\u001b[0m\u001b[0m_timeout_occurred\u001b[0m \u001b[0;34m=\u001b[0m \u001b[0;32mTrue\u001b[0m\u001b[0;34m\u001b[0m\u001b[0m\n",
      "\u001b[0;32m/Users/stellasotos/anaconda/lib/python3.6/site-packages/requests/packages/urllib3/contrib/pyopenssl.py\u001b[0m in \u001b[0;36mrecv_into\u001b[0;34m(self, *args, **kwargs)\u001b[0m\n\u001b[1;32m    287\u001b[0m                 \u001b[0;32mraise\u001b[0m\u001b[0;34m\u001b[0m\u001b[0m\n\u001b[1;32m    288\u001b[0m         \u001b[0;32mexcept\u001b[0m \u001b[0mOpenSSL\u001b[0m\u001b[0;34m.\u001b[0m\u001b[0mSSL\u001b[0m\u001b[0;34m.\u001b[0m\u001b[0mWantReadError\u001b[0m\u001b[0;34m:\u001b[0m\u001b[0;34m\u001b[0m\u001b[0m\n\u001b[0;32m--> 289\u001b[0;31m             \u001b[0mrd\u001b[0m \u001b[0;34m=\u001b[0m \u001b[0mutil\u001b[0m\u001b[0;34m.\u001b[0m\u001b[0mwait_for_read\u001b[0m\u001b[0;34m(\u001b[0m\u001b[0mself\u001b[0m\u001b[0;34m.\u001b[0m\u001b[0msocket\u001b[0m\u001b[0;34m,\u001b[0m \u001b[0mself\u001b[0m\u001b[0;34m.\u001b[0m\u001b[0msocket\u001b[0m\u001b[0;34m.\u001b[0m\u001b[0mgettimeout\u001b[0m\u001b[0;34m(\u001b[0m\u001b[0;34m)\u001b[0m\u001b[0;34m)\u001b[0m\u001b[0;34m\u001b[0m\u001b[0m\n\u001b[0m\u001b[1;32m    290\u001b[0m             \u001b[0;32mif\u001b[0m \u001b[0;32mnot\u001b[0m \u001b[0mrd\u001b[0m\u001b[0;34m:\u001b[0m\u001b[0;34m\u001b[0m\u001b[0m\n\u001b[1;32m    291\u001b[0m                 \u001b[0;32mraise\u001b[0m \u001b[0mtimeout\u001b[0m\u001b[0;34m(\u001b[0m\u001b[0;34m'The read operation timed out'\u001b[0m\u001b[0;34m)\u001b[0m\u001b[0;34m\u001b[0m\u001b[0m\n",
      "\u001b[0;32m/Users/stellasotos/anaconda/lib/python3.6/site-packages/requests/packages/urllib3/util/wait.py\u001b[0m in \u001b[0;36mwait_for_read\u001b[0;34m(socks, timeout)\u001b[0m\n\u001b[1;32m     31\u001b[0m     \u001b[0;32mor\u001b[0m \u001b[0moptionally\u001b[0m \u001b[0ma\u001b[0m \u001b[0msingle\u001b[0m \u001b[0msocket\u001b[0m \u001b[0;32mif\u001b[0m \u001b[0mpassed\u001b[0m \u001b[0;32min\u001b[0m\u001b[0;34m.\u001b[0m \u001b[0mReturns\u001b[0m \u001b[0ma\u001b[0m \u001b[0mlist\u001b[0m \u001b[0mof\u001b[0m\u001b[0;34m\u001b[0m\u001b[0m\n\u001b[1;32m     32\u001b[0m     sockets that can be read from immediately. \"\"\"\n\u001b[0;32m---> 33\u001b[0;31m     \u001b[0;32mreturn\u001b[0m \u001b[0m_wait_for_io_events\u001b[0m\u001b[0;34m(\u001b[0m\u001b[0msocks\u001b[0m\u001b[0;34m,\u001b[0m \u001b[0mEVENT_READ\u001b[0m\u001b[0;34m,\u001b[0m \u001b[0mtimeout\u001b[0m\u001b[0;34m)\u001b[0m\u001b[0;34m\u001b[0m\u001b[0m\n\u001b[0m\u001b[1;32m     34\u001b[0m \u001b[0;34m\u001b[0m\u001b[0m\n\u001b[1;32m     35\u001b[0m \u001b[0;34m\u001b[0m\u001b[0m\n",
      "\u001b[0;32m/Users/stellasotos/anaconda/lib/python3.6/site-packages/requests/packages/urllib3/util/wait.py\u001b[0m in \u001b[0;36m_wait_for_io_events\u001b[0;34m(socks, events, timeout)\u001b[0m\n\u001b[1;32m     24\u001b[0m             \u001b[0mselector\u001b[0m\u001b[0;34m.\u001b[0m\u001b[0mregister\u001b[0m\u001b[0;34m(\u001b[0m\u001b[0msock\u001b[0m\u001b[0;34m,\u001b[0m \u001b[0mevents\u001b[0m\u001b[0;34m)\u001b[0m\u001b[0;34m\u001b[0m\u001b[0m\n\u001b[1;32m     25\u001b[0m         return [key[0].fileobj for key in\n\u001b[0;32m---> 26\u001b[0;31m                 selector.select(timeout) if key[1] & events]\n\u001b[0m\u001b[1;32m     27\u001b[0m \u001b[0;34m\u001b[0m\u001b[0m\n\u001b[1;32m     28\u001b[0m \u001b[0;34m\u001b[0m\u001b[0m\n",
      "\u001b[0;32m/Users/stellasotos/anaconda/lib/python3.6/site-packages/requests/packages/urllib3/util/selectors.py\u001b[0m in \u001b[0;36mselect\u001b[0;34m(self, timeout)\u001b[0m\n\u001b[1;32m    511\u001b[0m \u001b[0;34m\u001b[0m\u001b[0m\n\u001b[1;32m    512\u001b[0m             kevent_list = _syscall_wrapper(self._kqueue.control, True,\n\u001b[0;32m--> 513\u001b[0;31m                                            None, max_events, timeout)\n\u001b[0m\u001b[1;32m    514\u001b[0m \u001b[0;34m\u001b[0m\u001b[0m\n\u001b[1;32m    515\u001b[0m             \u001b[0;32mfor\u001b[0m \u001b[0mkevent\u001b[0m \u001b[0;32min\u001b[0m \u001b[0mkevent_list\u001b[0m\u001b[0;34m:\u001b[0m\u001b[0;34m\u001b[0m\u001b[0m\n",
      "\u001b[0;32m/Users/stellasotos/anaconda/lib/python3.6/site-packages/requests/packages/urllib3/util/selectors.py\u001b[0m in \u001b[0;36m_syscall_wrapper\u001b[0;34m(func, _, *args, **kwargs)\u001b[0m\n\u001b[1;32m     62\u001b[0m         and recalculate their timeouts. \"\"\"\n\u001b[1;32m     63\u001b[0m         \u001b[0;32mtry\u001b[0m\u001b[0;34m:\u001b[0m\u001b[0;34m\u001b[0m\u001b[0m\n\u001b[0;32m---> 64\u001b[0;31m             \u001b[0;32mreturn\u001b[0m \u001b[0mfunc\u001b[0m\u001b[0;34m(\u001b[0m\u001b[0;34m*\u001b[0m\u001b[0margs\u001b[0m\u001b[0;34m,\u001b[0m \u001b[0;34m**\u001b[0m\u001b[0mkwargs\u001b[0m\u001b[0;34m)\u001b[0m\u001b[0;34m\u001b[0m\u001b[0m\n\u001b[0m\u001b[1;32m     65\u001b[0m         \u001b[0;32mexcept\u001b[0m \u001b[0;34m(\u001b[0m\u001b[0mOSError\u001b[0m\u001b[0;34m,\u001b[0m \u001b[0mIOError\u001b[0m\u001b[0;34m,\u001b[0m \u001b[0mselect\u001b[0m\u001b[0;34m.\u001b[0m\u001b[0merror\u001b[0m\u001b[0;34m)\u001b[0m \u001b[0;32mas\u001b[0m \u001b[0me\u001b[0m\u001b[0;34m:\u001b[0m\u001b[0;34m\u001b[0m\u001b[0m\n\u001b[1;32m     66\u001b[0m             \u001b[0merrcode\u001b[0m \u001b[0;34m=\u001b[0m \u001b[0;32mNone\u001b[0m\u001b[0;34m\u001b[0m\u001b[0m\n",
      "\u001b[0;31mKeyboardInterrupt\u001b[0m: "
     ]
    }
   ],
   "source": [
    "twitterStream = Stream(auth, listener(start_time, time_limit=20)) #initialize Stream object with a time out limit\n",
    "twitterStream.filter(track=keyword_list, languages=['en'])  #call the filter method to run the Stream Object"
   ]
  },
  {
   "cell_type": "markdown",
   "metadata": {
    "collapsed": true
   },
   "source": [
    "<strong>Important Note:</strong> To prevent bots from spamming, Twitter will restrict your access or boot you if you perform too many actions automatically. \n",
    "You can limit the usage of your cursor to stay within the rate limit."
   ]
  },
  {
   "cell_type": "code",
   "execution_count": null,
   "metadata": {
    "collapsed": true
   },
   "outputs": [],
   "source": [
    "# In this example, the handler is time.sleep(15 * 60),\n",
    "# but you can of course handle it in any way you want.\n",
    "\n",
    "def limit_handled(cursor):\n",
    "    while True:\n",
    "        \n",
    "        try:\n",
    "            yield cursor.next()\n",
    "        except tweepy.RateLimitError:\n",
    "            time.sleep(15 * 60)"
   ]
  },
  {
   "cell_type": "code",
   "execution_count": null,
   "metadata": {
    "collapsed": true
   },
   "outputs": [],
   "source": [
    "#this will follow every one of your followers with less than 300 friends while making sure you stay within the rate limit\n",
    "#try at your own risk\n",
    "#for follower in limit_handled(tweepy.Cursor(api.followers).items()):\n",
    "#    if follower.friends_count < 300:\n",
    "#        print follower.screen_name"
   ]
  },
  {
   "cell_type": "markdown",
   "metadata": {},
   "source": [
    "#### Try out more actions on your own using the tweepy documentation here:\n",
    "http://docs.tweepy.org/en/v3.5.0/api.html\n",
    "#### Or try importing data to tweet, doing analytics on your timeline or a friend's timeline, or using another API (I have used yelp, google maps APIs and can help you out with that) "
   ]
  },
  {
   "cell_type": "code",
   "execution_count": null,
   "metadata": {
    "collapsed": true
   },
   "outputs": [],
   "source": []
  }
 ],
 "metadata": {
  "kernelspec": {
   "display_name": "Python 3",
   "language": "python",
   "name": "python3"
  },
  "language_info": {
   "codemirror_mode": {
    "name": "ipython",
    "version": 3
   },
   "file_extension": ".py",
   "mimetype": "text/x-python",
   "name": "python",
   "nbconvert_exporter": "python",
   "pygments_lexer": "ipython3",
   "version": "3.6.1"
  }
 },
 "nbformat": 4,
 "nbformat_minor": 2
}
