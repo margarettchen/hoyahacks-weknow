{
 "cells": [
  {
   "cell_type": "markdown",
   "metadata": {},
   "source": [
    "# Multiple Linear Regression\n",
    "*[Stats Source](http://www.statisticssolutions.com/assumptions-of-multiple-linear-regression/) \n",
    "*[Code Source](http://www.statisticssolutions.com/assumptions-of-multiple-linear-regression/)*\n",
    "\n",
    "Multiple linear regression is when we try to predict one response variable from more than one independent variables. \n",
    "\n",
    "Here are some assumptions we are making when we use this technique:\n",
    "1. Linear relationship between response variable and predictor variables\n",
    "2. Multivariate Normality \n",
    "    * Predictor variables are each normally distributed\n",
    "3. No Multicollinearity\n",
    "    * Predictor variables are independent of each other\n",
    "        * There should be little or no correlation between the variables\n",
    "4. Homoscedasticity\n",
    "    * Variance of residuals are roughly the same across all independent variables\n",
    "\n",
    "We could use the Scikit Learn package to run, but I think that it does not show enough information about the analysis. You are definitely welcome to use it, but we will use statsmodels.api to see the summary of our results."
   ]
  },
  {
   "cell_type": "code",
   "execution_count": 20,
   "metadata": {
    "collapsed": false
   },
   "outputs": [
    {
     "name": "stdout",
     "output_type": "stream",
     "text": [
      "    mpg  cylinders  displacement  horsepower  weight  acceleration  \\\n",
      "0  18.0          8         307.0         130    3504          12.0   \n",
      "1  15.0          8         350.0         165    3693          11.5   \n",
      "2  18.0          8         318.0         150    3436          11.0   \n",
      "3  16.0          8         304.0         150    3433          12.0   \n",
      "4  17.0          8         302.0         140    3449          10.5   \n",
      "\n",
      "   model year  origin                         car name  \n",
      "0          70       1  \"chevrolet chevelle malibu\"      \n",
      "1          70       1          \"buick skylark 320\"      \n",
      "2          70       1        \"plymouth satellite\"       \n",
      "3          70       1              \"amc rebel sst\"      \n",
      "4          70       1               \"ford torino\"       \n"
     ]
    }
   ],
   "source": [
    "import pandas as pd\n",
    "import numpy as np\n",
    "import statsmodels.api as sm\n",
    "\n",
    "auto_data = pd.read_csv(\"auto_data.csv\")\n",
    "print(auto_data.head())"
   ]
  },
  {
   "cell_type": "markdown",
   "metadata": {
    "collapsed": true
   },
   "source": [
    "We are going to predict mpg from two predictor variables: horsepower and weight. "
   ]
  },
  {
   "cell_type": "code",
   "execution_count": 21,
   "metadata": {
    "collapsed": false
   },
   "outputs": [
    {
     "name": "stdout",
     "output_type": "stream",
     "text": [
      "                            OLS Regression Results                            \n",
      "==============================================================================\n",
      "Dep. Variable:                    mpg   R-squared:                       0.706\n",
      "Model:                            OLS   Adj. R-squared:                  0.705\n",
      "Method:                 Least Squares   F-statistic:                     467.9\n",
      "Date:                Sat, 17 Jun 2017   Prob (F-statistic):          3.06e-104\n",
      "Time:                        15:39:12   Log-Likelihood:                -1121.0\n",
      "No. Observations:                 392   AIC:                             2248.\n",
      "Df Residuals:                     389   BIC:                             2260.\n",
      "Df Model:                           2                                         \n",
      "Covariance Type:            nonrobust                                         \n",
      "==============================================================================\n",
      "                 coef    std err          t      P>|t|      [0.025      0.975]\n",
      "------------------------------------------------------------------------------\n",
      "const         45.6402      0.793     57.540      0.000      44.081      47.200\n",
      "horsepower    -0.0473      0.011     -4.267      0.000      -0.069      -0.026\n",
      "weight        -0.0058      0.001    -11.535      0.000      -0.007      -0.005\n",
      "==============================================================================\n",
      "Omnibus:                       35.336   Durbin-Watson:                   0.858\n",
      "Prob(Omnibus):                  0.000   Jarque-Bera (JB):               45.973\n",
      "Skew:                           0.683   Prob(JB):                     1.04e-10\n",
      "Kurtosis:                       3.974   Cond. No.                     1.15e+04\n",
      "==============================================================================\n",
      "\n",
      "Warnings:\n",
      "[1] Standard Errors assume that the covariance matrix of the errors is correctly specified.\n",
      "[2] The condition number is large, 1.15e+04. This might indicate that there are\n",
      "strong multicollinearity or other numerical problems.\n"
     ]
    }
   ],
   "source": [
    "# Predictor Variables\n",
    "X = (auto_data[[\"horsepower\", \"weight\"]]).astype(float)\n",
    "X = sm.add_constant(X)\n",
    "\n",
    "# Response Variable\n",
    "Y = auto_data[\"mpg\"]\n",
    "\n",
    "# Fit the model and predict\n",
    "model = sm.OLS(Y, X).fit()\n",
    "predictions = model.predict(X)\n",
    "\n",
    "#Print model summary\n",
    "print(model.summary())\n"
   ]
  },
  {
   "cell_type": "markdown",
   "metadata": {},
   "source": [
    "### Exercise:\n",
    "Figure out how to predict the mpg of these cars using 80% of the data. Then, use the remaining 20% of the data to test your model. Feel free to use any column features and try any transformations on the data. Try to get as high of an \"Adjusted R squared\" value as possible! \n",
    "\n",
    "Don't forget to randomize your data before splitting!"
   ]
  },
  {
   "cell_type": "code",
   "execution_count": null,
   "metadata": {
    "collapsed": true
   },
   "outputs": [],
   "source": []
  }
 ],
 "metadata": {
  "kernelspec": {
   "display_name": "Python 3",
   "language": "python",
   "name": "python3"
  },
  "language_info": {
   "codemirror_mode": {
    "name": "ipython",
    "version": 3
   },
   "file_extension": ".py",
   "mimetype": "text/x-python",
   "name": "python",
   "nbconvert_exporter": "python",
   "pygments_lexer": "ipython3",
   "version": "3.6.0"
  }
 },
 "nbformat": 4,
 "nbformat_minor": 2
}
