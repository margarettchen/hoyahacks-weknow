{
 "cells": [
  {
   "cell_type": "markdown",
   "metadata": {},
   "source": [
    "# Classification in Python\n",
    "\n",
    "**Classification** is a type of supervised learning method where you are trying to determine what category an observation falls under based on a training dataset with known classifications. \n",
    "\n",
    "A simple example of classification is determining whether an email is spam. Another more complex example is having an image classifier tell the difference between apples, oranges, and peaches.  \n",
    "\n",
    "Classification Terminology:\n",
    "* Each data point is called an **observation** also known as an **instance**\n",
    "* The prediction variables (x<sub>1</sub>, x<sub>2</sub>,...,x<sub>n</sub>) are called **features**\n",
    "* Each possible category is called a **class**\n",
    "\n",
    "In classification, the hardest part is determining the boundaries between the different classes.\n",
    "### Where do we draw the line between an apple / orange? Should we even draw a line? \n",
    "<img src=\"fruit_pic.png\" alt=\"Drawing\" style=\"width: 400px;\"/>\n",
    "\n",
    "And this is just two dimensions! Imagine 5, 10, 50 or more features! At more than 4 features it becomes difficult to graph out and determine the boundary. Further, not all data will be able to be easily placed into the different classes. And of course, we can have more than 2 classes as we see here. \n",
    "\n",
    "\n",
    "## K-Nearest Neighbors\n",
    "[Source](https://kevinzakka.github.io/2016/07/13/k-nearest-neighbor/)\n",
    "[Source 2](http://machinelearningmastery.com/tutorial-to-implement-k-nearest-neighbors-in-python-from-scratch/) \n",
    "\n",
    "** K-Nearest Neighbors (KNN)**, in the most basic and literal sense, is looking at an instance's features and comparing it with \"k\" instances closest to it. Based on where the instance is \"mapped\" relative to others and how many neighbors you look at, you can determine its class. KNN is actually special in that we can use it for both classification and regression, but we'll emphasize its use in classification. \n",
    "\n",
    "Here's classify apples and fruits using 3-Nearest Neighbors: \n",
    "<img src=\"knn_fruit_pic.png\" alt=\"Drawing\" style=\"width: 400px;\"/>\n",
    "\n",
    "All three nearest neighbors of the red question mark are apples, so the red question mark will be classified as an apple. For the blue question mark, it looks like a toss-up between orange or apple. If we use 3-Nearest Neighbors for the blue question mark, then the blue question mark will be classified as an orange since there are more oranges in the circle than apples. \n",
    "\n",
    "KNN is a **competitive learning algorithm** because the class of an instance is determined by a \"competition\" between other instances surrounding it. Additionally, KNN is a **lazy learning algorithm** because the model is not built until we need to predict something. \n",
    "\n",
    "### What would we do if we had 4-Nearest neighbors and we had a tie? What would be the best way of classifying an instance then?\n",
    "\n",
    "To avoid ties in general, it's best to keep k as an odd number for problems with two classes, as well as prevent k from being a multiple of the number of classes. \n",
    "\n",
    "To calculate the nearest neighbor, we can use the handy-dandy distance formula from middle-school! \n",
    "\n",
    "Remember this? \n",
    "\n",
    "$$ D = \\sqrt{{(x_1-x_2)}^2 + {(y_1-y_2)}^2}$$\n",
    "\n",
    "Same formula to calculate distance! Except this works only for two features. We have to generalize this for multiple features. This distance is called the **Euclidean Distance.**\n",
    "\n",
    "$$ D(j,k) = \\sqrt{\\sum_{i=1}^n{(x_{i,j}-x_{i,k})}^2}$$\n",
    "\n",
    "Here we calculate the Euclidean distance between two instances: j and k. \n",
    "\n",
    "Let's move on to coding this! We'll use KNN to classify the famous Iris dataset. \n",
    "\n",
    "*Left to right: Iris setosa, Iris virginica, Iris versicolor*\n",
    "\n",
    "<img src=\"iris_setosa.jpg\" alt=\"Drawing\" style=\"width: 200px;display: inline;\"/>\n",
    "<img src=\"Iris_virginica.jpg\" alt=\"Drawing\" style=\"width: 200px;display: inline;\"/>\n",
    "<img src=\"Iris_versicolor.jpg\" alt=\"Drawing\" style=\"width: 200px;display: inline;\"/>\n",
    "\n",
    "\n",
    "[Code Source](http://scikit-learn.org/stable/auto_examples/neighbors/plot_classification.html#sphx-glr-auto-examples-neighbors-plot-classification-py) \n",
    "[Code Source 2](https://turi.com/learn/userguide/supervised-learning/knn_classifier.html)"
   ]
  },
  {
   "cell_type": "code",
   "execution_count": 2,
   "metadata": {},
   "outputs": [
    {
     "name": "stdout",
     "output_type": "stream",
     "text": [
      "Features are: ['sepal length (cm)', 'sepal width (cm)', 'petal length (cm)', 'petal width (cm)']\n",
      "\n",
      "Classes are: ['setosa' 'versicolor' 'virginica'], which correspond to these classes: {0, 1, 2}\n",
      "[[ 5.1  3.5  1.4  0.2]\n",
      " [ 4.9  3.   1.4  0.2]\n",
      " [ 4.7  3.2  1.3  0.2]\n",
      " [ 4.6  3.1  1.5  0.2]\n",
      " [ 5.   3.6  1.4  0.2]\n",
      " [ 5.4  3.9  1.7  0.4]\n",
      " [ 4.6  3.4  1.4  0.3]\n",
      " [ 5.   3.4  1.5  0.2]\n",
      " [ 4.4  2.9  1.4  0.2]\n",
      " [ 4.9  3.1  1.5  0.1]\n",
      " [ 5.4  3.7  1.5  0.2]\n",
      " [ 4.8  3.4  1.6  0.2]\n",
      " [ 4.8  3.   1.4  0.1]\n",
      " [ 4.3  3.   1.1  0.1]\n",
      " [ 5.8  4.   1.2  0.2]\n",
      " [ 5.7  4.4  1.5  0.4]\n",
      " [ 5.4  3.9  1.3  0.4]\n",
      " [ 5.1  3.5  1.4  0.3]\n",
      " [ 5.7  3.8  1.7  0.3]\n",
      " [ 5.1  3.8  1.5  0.3]\n",
      " [ 5.4  3.4  1.7  0.2]\n",
      " [ 5.1  3.7  1.5  0.4]\n",
      " [ 4.6  3.6  1.   0.2]\n",
      " [ 5.1  3.3  1.7  0.5]\n",
      " [ 4.8  3.4  1.9  0.2]\n",
      " [ 5.   3.   1.6  0.2]\n",
      " [ 5.   3.4  1.6  0.4]\n",
      " [ 5.2  3.5  1.5  0.2]\n",
      " [ 5.2  3.4  1.4  0.2]\n",
      " [ 4.7  3.2  1.6  0.2]\n",
      " [ 4.8  3.1  1.6  0.2]\n",
      " [ 5.4  3.4  1.5  0.4]\n",
      " [ 5.2  4.1  1.5  0.1]\n",
      " [ 5.5  4.2  1.4  0.2]\n",
      " [ 4.9  3.1  1.5  0.1]\n",
      " [ 5.   3.2  1.2  0.2]\n",
      " [ 5.5  3.5  1.3  0.2]\n",
      " [ 4.9  3.1  1.5  0.1]\n",
      " [ 4.4  3.   1.3  0.2]\n",
      " [ 5.1  3.4  1.5  0.2]\n",
      " [ 5.   3.5  1.3  0.3]\n",
      " [ 4.5  2.3  1.3  0.3]\n",
      " [ 4.4  3.2  1.3  0.2]\n",
      " [ 5.   3.5  1.6  0.6]\n",
      " [ 5.1  3.8  1.9  0.4]\n",
      " [ 4.8  3.   1.4  0.3]\n",
      " [ 5.1  3.8  1.6  0.2]\n",
      " [ 4.6  3.2  1.4  0.2]\n",
      " [ 5.3  3.7  1.5  0.2]\n",
      " [ 5.   3.3  1.4  0.2]\n",
      " [ 7.   3.2  4.7  1.4]\n",
      " [ 6.4  3.2  4.5  1.5]\n",
      " [ 6.9  3.1  4.9  1.5]\n",
      " [ 5.5  2.3  4.   1.3]\n",
      " [ 6.5  2.8  4.6  1.5]\n",
      " [ 5.7  2.8  4.5  1.3]\n",
      " [ 6.3  3.3  4.7  1.6]\n",
      " [ 4.9  2.4  3.3  1. ]\n",
      " [ 6.6  2.9  4.6  1.3]\n",
      " [ 5.2  2.7  3.9  1.4]\n",
      " [ 5.   2.   3.5  1. ]\n",
      " [ 5.9  3.   4.2  1.5]\n",
      " [ 6.   2.2  4.   1. ]\n",
      " [ 6.1  2.9  4.7  1.4]\n",
      " [ 5.6  2.9  3.6  1.3]\n",
      " [ 6.7  3.1  4.4  1.4]\n",
      " [ 5.6  3.   4.5  1.5]\n",
      " [ 5.8  2.7  4.1  1. ]\n",
      " [ 6.2  2.2  4.5  1.5]\n",
      " [ 5.6  2.5  3.9  1.1]\n",
      " [ 5.9  3.2  4.8  1.8]\n",
      " [ 6.1  2.8  4.   1.3]\n",
      " [ 6.3  2.5  4.9  1.5]\n",
      " [ 6.1  2.8  4.7  1.2]\n",
      " [ 6.4  2.9  4.3  1.3]\n",
      " [ 6.6  3.   4.4  1.4]\n",
      " [ 6.8  2.8  4.8  1.4]\n",
      " [ 6.7  3.   5.   1.7]\n",
      " [ 6.   2.9  4.5  1.5]\n",
      " [ 5.7  2.6  3.5  1. ]\n",
      " [ 5.5  2.4  3.8  1.1]\n",
      " [ 5.5  2.4  3.7  1. ]\n",
      " [ 5.8  2.7  3.9  1.2]\n",
      " [ 6.   2.7  5.1  1.6]\n",
      " [ 5.4  3.   4.5  1.5]\n",
      " [ 6.   3.4  4.5  1.6]\n",
      " [ 6.7  3.1  4.7  1.5]\n",
      " [ 6.3  2.3  4.4  1.3]\n",
      " [ 5.6  3.   4.1  1.3]\n",
      " [ 5.5  2.5  4.   1.3]\n",
      " [ 5.5  2.6  4.4  1.2]\n",
      " [ 6.1  3.   4.6  1.4]\n",
      " [ 5.8  2.6  4.   1.2]\n",
      " [ 5.   2.3  3.3  1. ]\n",
      " [ 5.6  2.7  4.2  1.3]\n",
      " [ 5.7  3.   4.2  1.2]\n",
      " [ 5.7  2.9  4.2  1.3]\n",
      " [ 6.2  2.9  4.3  1.3]\n",
      " [ 5.1  2.5  3.   1.1]\n",
      " [ 5.7  2.8  4.1  1.3]\n",
      " [ 6.3  3.3  6.   2.5]\n",
      " [ 5.8  2.7  5.1  1.9]\n",
      " [ 7.1  3.   5.9  2.1]\n",
      " [ 6.3  2.9  5.6  1.8]\n",
      " [ 6.5  3.   5.8  2.2]\n",
      " [ 7.6  3.   6.6  2.1]\n",
      " [ 4.9  2.5  4.5  1.7]\n",
      " [ 7.3  2.9  6.3  1.8]\n",
      " [ 6.7  2.5  5.8  1.8]\n",
      " [ 7.2  3.6  6.1  2.5]\n",
      " [ 6.5  3.2  5.1  2. ]\n",
      " [ 6.4  2.7  5.3  1.9]\n",
      " [ 6.8  3.   5.5  2.1]\n",
      " [ 5.7  2.5  5.   2. ]\n",
      " [ 5.8  2.8  5.1  2.4]\n",
      " [ 6.4  3.2  5.3  2.3]\n",
      " [ 6.5  3.   5.5  1.8]\n",
      " [ 7.7  3.8  6.7  2.2]\n",
      " [ 7.7  2.6  6.9  2.3]\n",
      " [ 6.   2.2  5.   1.5]\n",
      " [ 6.9  3.2  5.7  2.3]\n",
      " [ 5.6  2.8  4.9  2. ]\n",
      " [ 7.7  2.8  6.7  2. ]\n",
      " [ 6.3  2.7  4.9  1.8]\n",
      " [ 6.7  3.3  5.7  2.1]\n",
      " [ 7.2  3.2  6.   1.8]\n",
      " [ 6.2  2.8  4.8  1.8]\n",
      " [ 6.1  3.   4.9  1.8]\n",
      " [ 6.4  2.8  5.6  2.1]\n",
      " [ 7.2  3.   5.8  1.6]\n",
      " [ 7.4  2.8  6.1  1.9]\n",
      " [ 7.9  3.8  6.4  2. ]\n",
      " [ 6.4  2.8  5.6  2.2]\n",
      " [ 6.3  2.8  5.1  1.5]\n",
      " [ 6.1  2.6  5.6  1.4]\n",
      " [ 7.7  3.   6.1  2.3]\n",
      " [ 6.3  3.4  5.6  2.4]\n",
      " [ 6.4  3.1  5.5  1.8]\n",
      " [ 6.   3.   4.8  1.8]\n",
      " [ 6.9  3.1  5.4  2.1]\n",
      " [ 6.7  3.1  5.6  2.4]\n",
      " [ 6.9  3.1  5.1  2.3]\n",
      " [ 5.8  2.7  5.1  1.9]\n",
      " [ 6.8  3.2  5.9  2.3]\n",
      " [ 6.7  3.3  5.7  2.5]\n",
      " [ 6.7  3.   5.2  2.3]\n",
      " [ 6.3  2.5  5.   1.9]\n",
      " [ 6.5  3.   5.2  2. ]\n",
      " [ 6.2  3.4  5.4  2.3]\n",
      " [ 5.9  3.   5.1  1.8]]\n"
     ]
    }
   ],
   "source": [
    "import numpy as np\n",
    "import matplotlib.pyplot as plt\n",
    "from matplotlib.colors import ListedColormap\n",
    "from sklearn import neighbors, datasets\n",
    "\n",
    "iris = datasets.load_iris()\n",
    "print(\"Features are: \" + str(iris.feature_names) + \"\\n\")\n",
    "print(\"Classes are: \" + str(iris.target_names) + \", which correspond to these classes: \" + str(set(iris.target)))\n",
    "print(iris.data)\n"
   ]
  },
  {
   "cell_type": "markdown",
   "metadata": {},
   "source": [
    "For graphical purposes, we are going to try predict the iris species using only two features: sepal length and sepal width. "
   ]
  },
  {
   "cell_type": "code",
   "execution_count": 3,
   "metadata": {},
   "outputs": [
    {
     "name": "stdout",
     "output_type": "stream",
     "text": [
      "(150, 2)\n",
      "(150,)\n",
      "(120, 2)\n",
      "(120,)\n",
      "(30, 2)\n",
      "(30,)\n"
     ]
    }
   ],
   "source": [
    "from sklearn.model_selection import train_test_split\n",
    "\n",
    "X = iris.data[:, :2]  \n",
    "y = iris.target\n",
    "print(X.shape)\n",
    "print(y.shape)\n",
    "\n",
    "# split into train and test\n",
    "X_train, X_test, y_train, y_test = train_test_split(X, y, test_size=0.2, random_state=42)\n",
    "print(X_train.shape)\n",
    "print(y_train.shape)\n",
    "print(X_test.shape)\n",
    "print(y_test.shape)"
   ]
  },
  {
   "cell_type": "code",
   "execution_count": 4,
   "metadata": {
    "collapsed": true
   },
   "outputs": [],
   "source": [
    "h = .02  # step size in the mesh\n",
    "\n",
    "# Create color maps\n",
    "cmap_light = ListedColormap(['#FFAAAA', '#AAFFAA', '#AAAAFF'])\n",
    "cmap_bold = ListedColormap(['#FF0000', '#00FF00', '#0000FF'])\n"
   ]
  },
  {
   "cell_type": "code",
   "execution_count": 5,
   "metadata": {},
   "outputs": [
    {
     "name": "stdout",
     "output_type": "stream",
     "text": [
      "Accuracy score for uniform is: 0.833333333333\n",
      "Accuracy score for distance is: 0.833333333333\n"
     ]
    },
    {
     "data": {
      "image/png": "[encoded data removed]",
      "text/plain": [
       "<matplotlib.figure.Figure at 0x1028fc208>"
      ]
     },
     "metadata": {},
     "output_type": "display_data"
    },
    {
     "data": {
      "image/png": "[encoded data removed]",
      "text/plain": [
       "<matplotlib.figure.Figure at 0x103b3ccf8>"
      ]
     },
     "metadata": {},
     "output_type": "display_data"
    },
    {
     "data": {
      "text/plain": [
       "<function __main__.nearest_neighbors>"
      ]
     },
     "execution_count": 5,
     "metadata": {},
     "output_type": "execute_result"
    }
   ],
   "source": [
    "from ipywidgets import interact, widgets\n",
    "from sklearn.model_selection import train_test_split\n",
    "from sklearn.metrics import accuracy_score\n",
    "# Run the following code in your terminal to make the code interactive\n",
    "#jupyter nbextension enable --py --sys-prefix widgetsnbextension\n",
    "\n",
    "def nearest_neighbors(k):\n",
    "    n_neighbors = k\n",
    "    for weights in ['uniform', 'distance']:\n",
    "        # we create an instance of Neighbours Classifier and fit the data.\n",
    "        clf = neighbors.KNeighborsClassifier(n_neighbors, weights=weights)\n",
    "        \n",
    "        clf.fit(X_train, y_train)\n",
    "        pred = clf.predict(X_test)\n",
    "\n",
    "        # Plot the decision boundary. For that, we will assign a color to each\n",
    "        # point in the mesh [x_min, x_max]x[y_min, y_max].\n",
    "        x_min, x_max = X_train[:, 0].min() - 1, X_train[:, 0].max() + 1\n",
    "        y_min, y_max = X_train[:, 1].min() - 1, X_train[:, 1].max() + 1\n",
    "        xx, yy = np.meshgrid(np.arange(x_min, x_max, h),\n",
    "                             np.arange(y_min, y_max, h))\n",
    "        Z = clf.predict(np.c_[xx.ravel(), yy.ravel()])\n",
    "\n",
    "        # Put the result into a color plot\n",
    "        Z = Z.reshape(xx.shape)\n",
    "        plt.figure()\n",
    "        plt.pcolormesh(xx, yy, Z, cmap=cmap_light)\n",
    "\n",
    "        # Plot all points\n",
    "        \n",
    "        plt.scatter(X_test[:, 0], X_test[:, 1], c=y_test, cmap=cmap_bold)\n",
    "        plt.xlim(xx.min(), xx.max())\n",
    "        plt.ylim(yy.min(), yy.max())\n",
    "        plt.title(\"3-Class classification (k = %i, weights = '%s')\"\n",
    "                  % (n_neighbors, weights))\n",
    "        plt.xlabel('sepal length', fontsize=14)\n",
    "        plt.ylabel('sepal width', fontsize=14)\n",
    "        print(\"Accuracy score for \" + weights + \" is: \" + str(accuracy_score(y_test, pred)))\n",
    "\n",
    "    plt.show()\n",
    "    \n",
    "\n",
    "interact(nearest_neighbors, k=widgets.IntSlider(min=1,max=50,step=1,value=15))\n",
    "\n",
    "\n"
   ]
  },
  {
   "cell_type": "markdown",
   "metadata": {},
   "source": [
    "### Explore\n",
    "What patterns do you see as you change the k value in k-nearest neighbors? How does accuracy change both for the different types of weights? Try changing the scatter plot to training data and then training+testing data. What do you notice?\n",
    "___\n",
    "\n",
    "Overall, K-NN is simple to understand, easy to implement and effective in classifying multi-class data. The main advantage is that training time is extremely fast, but one disadvantage is that the testing time can be slow in data-sets with a large number of instances and thus computationally expensive. \n",
    "\n",
    "Ordinary KNN can be skewed by uneven class distributions (e.g. the number of instances in one class greatly outnumbers the number of instances in another class). We can fix this by using weighted voting, which allows closer neighbors to have a greater impact on the vote than neighbors further away. \n",
    "\n",
    "Lastly, be careful with adding too many features to your KNN because not only will computation time increase, but also there will be little difference between near and far neighbors. The **curse of dimensionality** also states that with more dimensions, the dimensional space becomes more expansive and data becomes sparse in that increased space. You will need to have more data with more dimensions. "
   ]
  },
  {
   "cell_type": "markdown",
   "metadata": {},
   "source": [
    "## Logistic Regression\n",
    "\n",
    "[Source](https://onlinecourses.science.psu.edu/stat504/node/150)\n",
    "[Source2](https://www.youtube.com/watch?v=zAULhNrnuL4)\n",
    "\n",
    "**Logistic regression** is a type of regression analysis where the dependent variable is categorical. We will first focus on **binary logistic regression** which has two classes: 1 and 0. We can represent these two classes based on the context: pass/fail, yes/no, approve/reject, etc. \n",
    "\n",
    "Since binary logistic regression has a categorical output, there is no middle ground in a binary classification of instances in training data. For example, if we want to build a logistic regression model that identifies based off brain-related explanatory data whether a patient has Alzheimer's disease, the outcomes in the training data must be either HAS Alzheimer's or DOES NOT HAVE Alzheimer's. There is no \"might have\" Alzheimer's or 78% chance of having Alzheimer's in the training data. The choices are mutually exclusive. \n",
    "\n",
    "### How would you convert a continuous dataset to a categorical dataset to run a binary logistic regression? \n",
    "\n",
    "\n",
    "When we run a logistic regression, we won't necessarily get a binary response; we will instead get a *probability* of an event occuring based on the inputs we provide. We can then predict and classify new instances based off the probability we get from inputting a series of independent variables.\n",
    "\n",
    "Let's see an example. \n",
    "\n",
    "Dataset: https://archive.ics.uci.edu/ml/datasets/wine+quality\n",
    "\n",
    "We are specifically going to look at what chemical features in red wine make the wine quality good. The quality of red wine in this dataset is ranked from 1-10, so we are going to arbitrarily set that anything greater than or equal to 7 is considered good. 6 or below is bad. Using logistic regression, we are going to predict which wines taste \"good\" or \"bad\" depending on its chemical features.\n"
   ]
  },
  {
   "cell_type": "code",
   "execution_count": 6,
   "metadata": {},
   "outputs": [
    {
     "name": "stdout",
     "output_type": "stream",
     "text": [
      "   fixed acidity  volatile acidity  citric acid  residual sugar  chlorides  \\\n",
      "0            7.4              0.70         0.00             1.9      0.076   \n",
      "1            7.8              0.88         0.00             2.6      0.098   \n",
      "2            7.8              0.76         0.04             2.3      0.092   \n",
      "3           11.2              0.28         0.56             1.9      0.075   \n",
      "4            7.4              0.70         0.00             1.9      0.076   \n",
      "\n",
      "   free sulfur dioxide  total sulfur dioxide  density    pH  sulphates  \\\n",
      "0                 11.0                  34.0   0.9978  3.51       0.56   \n",
      "1                 25.0                  67.0   0.9968  3.20       0.68   \n",
      "2                 15.0                  54.0   0.9970  3.26       0.65   \n",
      "3                 17.0                  60.0   0.9980  3.16       0.58   \n",
      "4                 11.0                  34.0   0.9978  3.51       0.56   \n",
      "\n",
      "   alcohol  quality  \n",
      "0      9.4        0  \n",
      "1      9.8        0  \n",
      "2      9.8        0  \n",
      "3      9.8        0  \n",
      "4      9.4        0  \n"
     ]
    }
   ],
   "source": [
    "import pandas as pd\n",
    "from sklearn.model_selection import train_test_split\n",
    "\n",
    "data = pd.read_csv(\"winequality-red.csv\", sep=';')\n",
    "\n",
    "# Good quality wines are coded as 1\n",
    "# Poor quality wines are coded as 0\n",
    "data[\"quality\"] = (data[\"quality\"]>=7).astype(int)\n",
    "print(data.head())\n",
    "\n",
    "X = data.iloc[:,:11]\n",
    "y = data.iloc[:,-1]\n",
    "\n",
    "X_train, X_test, y_train, y_test = train_test_split(X, y, test_size=0.2, random_state=42)"
   ]
  },
  {
   "cell_type": "code",
   "execution_count": 7,
   "metadata": {},
   "outputs": [
    {
     "data": {
      "image/png": "[encoded data removed]",
      "text/plain": [
       "<matplotlib.figure.Figure at 0x1070062e8>"
      ]
     },
     "metadata": {},
     "output_type": "display_data"
    }
   ],
   "source": [
    "import matplotlib.pyplot as plt\n",
    "%matplotlib inline\n",
    "\n",
    "plt.scatter(data[\"alcohol\"],y)\n",
    "plt.show()"
   ]
  },
  {
   "cell_type": "markdown",
   "metadata": {},
   "source": [
    "We can't do a normal linear regression and plot a line of best fit because the output is either 1 or 0, not a continous linear output. We have to figure out a way how to take a series of continuous inputs and get out a 1 or a 0. \n",
    "\n",
    "To understand how to do this, we will need to understand a concept called **odds**.\n",
    "We know what probability is. It's the chance of an event occurring over all possible outcomes. \n",
    "Odds are defined as the ratio between an event occurring and the event not occurring. \n",
    "\n",
    "Odds = p / 1-p, where p is the probability of an event occurring\n",
    "\n",
    "The probability of a rolling a 1 on a die is **1/6**. \n",
    "\n",
    "Odds in favor of rolling a 1 = 1/6 / (5/6) = ** 1:5 **\n",
    "\n",
    "Odds against for rolling a 1 are **5:1 **\n",
    "\n",
    "**Note that odds are NOT the same as probability. Always keep this in mind when working with odds!**\n",
    "\n",
    "The range of odds is from 0 to infinity, while the range of probability is from 0 to 1. Shortly, we will see why this important to understand for the logistic regression. \n",
    "\n",
    "The last thing we should know is the **odds ratio**. It literally is a ratio between two odds. \n",
    "\n",
    "odds ratio = $\\frac{\\frac{a}{1-a}}{\\frac{b}{1-b}}$\n",
    "\n",
    "In logistic regression, the odds ratio is super useful for understanding the \"measure of the unique effect of each X on Y.\" With probability, you can't really do that because a probability ratio is not constant over all probabilities, while an odds ratio is. We'll get back to odds ratio once we run the model and see its output.\n",
    "___\n",
    "\n",
    "\n",
    "The logistic regression model is shown here:\n",
    "\n",
    "$$ \\log(\\frac{p(x)}{1-p(x)})= \\beta _{0}+\\beta _{1}x_{1}+\\beta _{2}x_{2}+\\cdots +\\beta _{m}x_{m} $$\n",
    "\n",
    "## Running the Model"
   ]
  },
  {
   "cell_type": "code",
   "execution_count": 8,
   "metadata": {},
   "outputs": [
    {
     "name": "stderr",
     "output_type": "stream",
     "text": [
      "/usr/local/lib/python3.6/site-packages/statsmodels/compat/pandas.py:56: FutureWarning: The pandas.core.datetools module is deprecated and will be removed in a future version. Please use the pandas.tseries module instead.\n",
      "  from pandas.core import datetools\n"
     ]
    },
    {
     "name": "stdout",
     "output_type": "stream",
     "text": [
      "Optimization terminated successfully.\n",
      "         Current function value: 0.272258\n",
      "         Iterations 8\n",
      "                           Logit Regression Results                           \n",
      "==============================================================================\n",
      "Dep. Variable:                quality   No. Observations:                 1279\n",
      "Model:                          Logit   Df Residuals:                     1268\n",
      "Method:                           MLE   Df Model:                           10\n",
      "Date:                Sun, 27 Aug 2017   Pseudo R-squ.:                  0.3053\n",
      "Time:                        19:00:14   Log-Likelihood:                -348.22\n",
      "converged:                       True   LL-Null:                       -501.23\n",
      "                                        LLR p-value:                 8.264e-60\n",
      "========================================================================================\n",
      "                           coef    std err          z      P>|z|      [0.025      0.975]\n",
      "----------------------------------------------------------------------------------------\n",
      "fixed acidity            0.0667      0.092      0.721      0.471      -0.115       0.248\n",
      "volatile acidity        -3.2628      0.882     -3.700      0.000      -4.991      -1.534\n",
      "citric acid              0.0388      0.935      0.042      0.967      -1.794       1.871\n",
      "residual sugar           0.1296      0.069      1.883      0.060      -0.005       0.265\n",
      "chlorides               -7.5257      3.440     -2.188      0.029     -14.267      -0.784\n",
      "free sulfur dioxide      0.0160      0.014      1.112      0.266      -0.012       0.044\n",
      "total sulfur dioxide    -0.0200      0.006     -3.353      0.001      -0.032      -0.008\n",
      "density                -10.1898      3.790     -2.689      0.007     -17.618      -2.762\n",
      "pH                      -0.8223      0.966     -0.851      0.395      -2.715       1.070\n",
      "sulphates                3.1092      0.584      5.327      0.000       1.965       4.253\n",
      "alcohol                  0.9764      0.104      9.406      0.000       0.773       1.180\n",
      "========================================================================================\n"
     ]
    }
   ],
   "source": [
    "# !pip3 install statsmodels\n",
    "# Code source: http://blog.yhat.com/posts/logistic-regression-and-python.html\n",
    "\n",
    "import statsmodels.api as sm\n",
    "\n",
    "logit = sm.Logit(y_train, X_train)\n",
    "\n",
    "result = logit.fit()\n",
    "\n",
    "print(result.summary())\n",
    "\n"
   ]
  },
  {
   "cell_type": "code",
   "execution_count": 9,
   "metadata": {},
   "outputs": [
    {
     "data": {
      "text/plain": [
       "fixed acidity            1.068958\n",
       "volatile acidity         0.038280\n",
       "citric acid              1.039594\n",
       "residual sugar           1.138365\n",
       "chlorides                0.000539\n",
       "free sulfur dioxide      1.016113\n",
       "total sulfur dioxide     0.980211\n",
       "density                  0.000038\n",
       "pH                       0.439441\n",
       "sulphates               22.402331\n",
       "alcohol                  2.654914\n",
       "dtype: float64"
      ]
     },
     "execution_count": 9,
     "metadata": {},
     "output_type": "execute_result"
    }
   ],
   "source": [
    "# Odds Ratio\n",
    "np.exp(result.params)"
   ]
  },
  {
   "cell_type": "markdown",
   "metadata": {},
   "source": [
    "### Interpreting Odds Ratio\n",
    "Every one unit increase in pH, holding everything else constant, the odds of good quality wine decreases by ~44%. \n",
    "\n",
    "What does that tell you about sulphates?\n",
    "\n"
   ]
  },
  {
   "cell_type": "code",
   "execution_count": 31,
   "metadata": {},
   "outputs": [
    {
     "data": {
      "text/html": [
       "<div>\n",
       "<style>\n",
       "    .dataframe thead tr:only-child th {\n",
       "        text-align: right;\n",
       "    }\n",
       "\n",
       "    .dataframe thead th {\n",
       "        text-align: left;\n",
       "    }\n",
       "\n",
       "    .dataframe tbody tr th {\n",
       "        vertical-align: top;\n",
       "    }\n",
       "</style>\n",
       "<table border=\"1\" class=\"dataframe\">\n",
       "  <thead>\n",
       "    <tr style=\"text-align: right;\">\n",
       "      <th>Actual</th>\n",
       "      <th>0</th>\n",
       "      <th>1</th>\n",
       "    </tr>\n",
       "    <tr>\n",
       "      <th>Predicted</th>\n",
       "      <th></th>\n",
       "      <th></th>\n",
       "    </tr>\n",
       "  </thead>\n",
       "  <tbody>\n",
       "    <tr>\n",
       "      <th>0</th>\n",
       "      <td>264</td>\n",
       "      <td>33</td>\n",
       "    </tr>\n",
       "    <tr>\n",
       "      <th>1</th>\n",
       "      <td>9</td>\n",
       "      <td>14</td>\n",
       "    </tr>\n",
       "  </tbody>\n",
       "</table>\n",
       "</div>"
      ],
      "text/plain": [
       "Actual       0   1\n",
       "Predicted         \n",
       "0          264  33\n",
       "1            9  14"
      ]
     },
     "execution_count": 31,
     "metadata": {},
     "output_type": "execute_result"
    }
   ],
   "source": [
    "y_predicted = result.predict(X_test)\n",
    "y_predicted = np.array([0 if y < 0.5 else 1 for y in y_predicted])\n",
    "\n",
    "y_test.name = \"Actual\"\n",
    "contingency_table = pd.crosstab(y_predicted, y_test, rownames=[\"Predicted\"])\n",
    "contingency_table\n",
    "#print(y_predicted)"
   ]
  },
  {
   "cell_type": "code",
   "execution_count": 32,
   "metadata": {},
   "outputs": [
    {
     "name": "stdout",
     "output_type": "stream",
     "text": [
      "Accuracy is: 86.875%\n"
     ]
    }
   ],
   "source": [
    "hits = contingency_table[0][0] + contingency_table[1][1]\n",
    "misses = contingency_table[1][0] + contingency_table[0][1]\n",
    "total = hits + misses\n",
    "print(\"Accuracy is: \" + str(hits/total*100) +\"%\")\n"
   ]
  },
  {
   "cell_type": "markdown",
   "metadata": {},
   "source": [
    "## Experiment\n",
    "\n",
    "Play around with the variables in the wine data set and try to get a higher accuracy! "
   ]
  },
  {
   "cell_type": "code",
   "execution_count": null,
   "metadata": {
    "collapsed": true
   },
   "outputs": [],
   "source": []
  }
 ],
 "metadata": {
  "kernelspec": {
   "display_name": "Python 3",
   "language": "python",
   "name": "python3"
  },
  "language_info": {
   "codemirror_mode": {
    "name": "ipython",
    "version": 3
   },
   "file_extension": ".py",
   "mimetype": "text/x-python",
   "name": "python",
   "nbconvert_exporter": "python",
   "pygments_lexer": "ipython3",
   "version": "3.6.1"
  },
  "widgets": {
   "state": {
    "2a710c954bab4baf9e37f7250f8208fd": {
     "views": [
      {
       "cell_index": 5
      }
     ]
    }
   },
   "version": "1.2.0"
  }
 },
 "nbformat": 4,
 "nbformat_minor": 2
}
