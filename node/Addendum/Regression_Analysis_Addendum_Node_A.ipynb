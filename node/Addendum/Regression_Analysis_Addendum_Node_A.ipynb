{
 "cells": [
  {
   "cell_type": "markdown",
   "metadata": {},
   "source": [
    "# Coefficient of Determination (r<sup>2 </sup>)\n",
    "In many cases, we have to know how strongly (or weakly) the best fit line fits the data. "
   ]
  },
  {
   "cell_type": "code",
   "execution_count": 17,
   "metadata": {},
   "outputs": [
    {
     "data": {
      "image/png": "[encoded data removed]",
      "text/plain": [
       "<matplotlib.figure.Figure at 0x109d93780>"
      ]
     },
     "metadata": {},
     "output_type": "display_data"
    }
   ],
   "source": [
    "%matplotlib inline\n",
    "import numpy as np\n",
    "import matplotlib.pyplot as plt\n",
    "\n",
    "x = np.arange(0,50)\n",
    "y = np.random.randint(0,50, 50)\n",
    "plt.xlabel(\"x\", fontsize=25)\n",
    "plt.ylabel(\"y\", fontsize=25)\n",
    "plt.title(\"No trend\",fontsize=25)\n",
    "plt.scatter(x, y)\n",
    "\n",
    "params = np.polyfit(x,y,1)\n",
    "slope = params[0]\n",
    "y_intercept = params[1]\n",
    "\n",
    "y_hat = y_intercept+slope*x\n",
    "\n",
    "# best fit line\n",
    "plt.plot(x, y_hat, color=\"red\")\n",
    "\n",
    "# average y line (y_bar)\n",
    "plt.axhline(y=np.mean(y), color = \"green\")\n",
    "\n",
    "plt.show()"
   ]
  },
  {
   "cell_type": "markdown",
   "metadata": {},
   "source": [
    "Notice that the data is relatively far away from the best fit line. Also note that the slope of the best fit line is very shallow suggesting that changes in x do not make a big change in y_hat. \n",
    "\n",
    "These observations suggest that x is most likely not a good predictor of y. \n",
    "\n",
    "We can quantify how strong the regression line fits the data using the coefficient of determination, also known as r<sup>2</sup>.\n",
    "\n",
    "SSR  = **regression sum of squares** = Σ  (ŷ<sub>i</sub> - ȳ)<sup>2</sup>\n",
    "* This is also known as the **explained sum of squares ** \n",
    "\n",
    "SSE  = **residuals sum of squares** = Σ  (y<sub>i</sub> - ŷ<sub>i</sub>)<sup>2</sup>\n",
    "* This is also known as the **error sum of squares ** \n",
    "\n",
    "SST  = **total sum of squares** = Σ  (y<sub>i</sub> - ȳ<sub>i</sub>)<sup>2</sup>\n",
    "* SST = SSR + SSE\n",
    "\n",
    "\n",
    "![alt text](https://image.slidesharecdn.com/linearregression-140903114216-phpapp01/95/linear-regression-22-638.jpg?cb=1409744639)\n",
    "[Source](https://image.slidesharecdn.com/linearregression-140903114216-phpapp01/95/linear-regression-22-638.jpg?cb=1409744639) \n",
    "\n",
    "\n",
    "Coefficient of Determination (r<sup>2</sup>) : \n",
    "** r<sup>2</sup> = 1 - (SSE / SSTO) **\n",
    "* For simple linear regression only, r<sup>2</sup> = ** SSR / SSTO ** \n",
    "* The range of r<sup>2</sup> is between 0 and 1\n",
    "* If r<sup>2</sup> is 1, then variation in y is *totally* accounted by the x-variable\n",
    "    * All data lies perfectly on the best-fit line\n",
    "* If r<sup>2</sup> is 0, then variation in y is *not at all* accounted by the x-variable\n",
    "    * The regression line is horizontal \n",
    "* **Interpretation** \n",
    "    * \"r<sup>2</sup> ×100 percent of the variation in y is 'explained by' the variation in predictor x.\"\n",
    "        * Remember ***correlation does not imply causation***\n",
    "    * \"r<sup>2</sup> ×100 percent of the variation in y is reduced by taking into account predictor x\"\n",
    "\n",
    "Correlation Coefficient (r):\n",
    "* Measure of the linear correlation between two variables, x and y\n",
    "* r = +/- Sqrt(r<sup>2</sup>)\n",
    "    * Sign depends on the slope of regression line\n",
    "        * If the slope is positive, then r is positive.\n",
    "        * If the slope is negative, then r is negative.\n",
    "    * Range of r is between -1 and 1\n",
    "\n",
    "### Explore\n",
    "Find the r<sup>2</sup> for the data below. Calculate it manually using the formula given above. Then use the scipy method [lingress](https://docs.scipy.org/doc/scipy-0.15.1/reference/generated/scipy.stats.linregress.html), to check if you are correct. \n",
    "\n",
    "Then, mess around with the data to figure out how to get a lower r<sup>2</sup> value.  How would you get an r<sup>2</sup> value of exactly 1? Change the numbers in the green color. Don't actually change any of the methods. "
   ]
  },
  {
   "cell_type": "code",
   "execution_count": 5,
   "metadata": {},
   "outputs": [
    {
     "data": {
      "image/png": "[encoded data removed]",
      "text/plain": [
       "<matplotlib.figure.Figure at 0x104988390>"
      ]
     },
     "metadata": {},
     "output_type": "display_data"
    }
   ],
   "source": [
    "# You may need to pip install scipy\n",
    "from scipy import stats\n",
    "\n",
    "x = np.arange(0,50)\n",
    "y = 10 - 3*x + np.random.normal(0, 10, 50)\n",
    "plt.xlabel(\"x\", fontsize=25)\n",
    "plt.ylabel(\"y\", fontsize=25)\n",
    "plt.title(\"R squared is: \",fontsize=25)\n",
    "plt.scatter(x, y)\n",
    "plt.show()"
   ]
  },
  {
   "cell_type": "markdown",
   "metadata": {},
   "source": [
    "## Application of Regression in ML\n",
    "Code source adapted from [SKLearn Example](http://scikit-learn.org/stable/auto_examples/linear_model/plot_ols.html) \n",
    "Data source: [Car MPG Analysis](https://archive.ics.uci.edu/ml/datasets/auto+mpg) "
   ]
  },
  {
   "cell_type": "code",
   "execution_count": 13,
   "metadata": {},
   "outputs": [
    {
     "name": "stdout",
     "output_type": "stream",
     "text": [
      "    mpg  cylinders  displacement  horsepower  weight  acceleration  \\\n",
      "0  18.0          8         307.0         130    3504          12.0   \n",
      "1  15.0          8         350.0         165    3693          11.5   \n",
      "2  18.0          8         318.0         150    3436          11.0   \n",
      "3  16.0          8         304.0         150    3433          12.0   \n",
      "4  17.0          8         302.0         140    3449          10.5   \n",
      "\n",
      "   model year  origin                         car name  \n",
      "0          70       1  \"chevrolet chevelle malibu\"      \n",
      "1          70       1          \"buick skylark 320\"      \n",
      "2          70       1        \"plymouth satellite\"       \n",
      "3          70       1              \"amc rebel sst\"      \n",
      "4          70       1               \"ford torino\"       \n",
      "\n",
      "The shape of the data is: (392, 9)\n"
     ]
    }
   ],
   "source": [
    "import pandas as pd\n",
    "auto_data = pd.read_csv(\"auto_data.csv\")\n",
    "print(auto_data.head())\n",
    "print()\n",
    "print(\"The shape of the data is: \" + str(auto_data.shape))"
   ]
  },
  {
   "cell_type": "code",
   "execution_count": 15,
   "metadata": {},
   "outputs": [
    {
     "name": "stdout",
     "output_type": "stream",
     "text": [
      "R squared value is: 0.57\n"
     ]
    },
    {
     "data": {
      "image/png": "[encoded data removed]",
      "text/plain": [
       "<matplotlib.figure.Figure at 0x109cc6ba8>"
      ]
     },
     "metadata": {},
     "output_type": "display_data"
    }
   ],
   "source": [
    "from sklearn.model_selection import train_test_split\n",
    "from sklearn import linear_model\n",
    "from sklearn.metrics import r2_score\n",
    "# Randomize and split our data\n",
    "train, test = train_test_split(auto_data, test_size = 0.2)\n",
    "\n",
    "train_x = (train.weight).values.reshape(-1,1)\n",
    "train_y = (train.mpg).values.reshape(-1,1)\n",
    "\n",
    "test_x = (test.weight).values.reshape(-1,1)\n",
    "test_y = (test.mpg).values.reshape(-1,1)\n",
    "\n",
    "# Create linear regression object\n",
    "regr = linear_model.LinearRegression()\n",
    "\n",
    "# print(train_x.shape)\n",
    "# print(train_y.shape)\n",
    "\n",
    "# Train the model\n",
    "regr.fit(train_x, train_y)\n",
    "\n",
    "plt.scatter(train_x, train_y,  color='black')\n",
    "plt.scatter(test_x, test_y,  color='red')\n",
    "\n",
    "# predicted best-fit line in blue\n",
    "plt.plot(test_x, regr.predict(test_x), color='blue',\n",
    "         linewidth=3)\n",
    "\n",
    "\n",
    "# ___________________________________________________________________\n",
    "# ACTUAL best-fit line for TEST data in orange\n",
    "params = np.polyfit(test.weight,test.mpg,1)\n",
    "slope = params[0]\n",
    "y_intercept = params[1]\n",
    "\n",
    "# best fit line\n",
    "y_hat = y_intercept+slope*test.weight\n",
    "\n",
    "plt.plot(test.weight, y_hat, color=\"orange\")\n",
    "# ___________________________________________________________________\n",
    "\n",
    "\n",
    "\n",
    "plt.xlabel(\"weight\", fontsize=15)\n",
    "plt.ylabel(\"mpg\", fontsize=15)\n",
    "\n",
    "print('R squared value is: %.2f' % r2_score(test_y, regr.predict(test_x)))\n",
    "plt.show()\n"
   ]
  },
  {
   "cell_type": "markdown",
   "metadata": {},
   "source": [
    "The blue line is the *estimated* best-fit line.\n",
    "* Coefficients for the line are estimated from *training* data\n",
    "* Then we predict y-values for the test x's using the model\n",
    "\n",
    "The orange line is the *actual* best-fit line.\n",
    "* Coefficients for the line are estimated from *testing* data\n",
    "* Then we predict y-values for the test x's using the model\n",
    "\n",
    "Maybe we were lucky. Let's repeat this many times to see what our average r<sup>2</sup> value is.\n"
   ]
  },
  {
   "cell_type": "code",
   "execution_count": 18,
   "metadata": {},
   "outputs": [
    {
     "data": {
      "text/plain": [
       "<matplotlib.lines.Line2D at 0x109d93ac8>"
      ]
     },
     "execution_count": 18,
     "metadata": {},
     "output_type": "execute_result"
    },
    {
     "data": {
      "image/png": "[encoded data removed]",
      "text/plain": [
       "<matplotlib.figure.Figure at 0x10875d0f0>"
      ]
     },
     "metadata": {},
     "output_type": "display_data"
    }
   ],
   "source": [
    "r2_values = []\n",
    "\n",
    "for i in range(1000):\n",
    "    train, test = train_test_split(auto_data, test_size = 0.2)\n",
    "\n",
    "    train_x = (train.weight).values.reshape(-1,1)\n",
    "    train_y = (train.mpg).values.reshape(-1,1)\n",
    "\n",
    "    test_x = (test.weight).values.reshape(-1,1)\n",
    "    test_y = (test.mpg).values.reshape(-1,1)\n",
    "    \n",
    "    regr = linear_model.LinearRegression()\n",
    "\n",
    "    regr.fit(train_x, train_y)\n",
    "    \n",
    "    r2 = r2_score(test_y, regr.predict(test_x))\n",
    "    r2_values.append(r2)\n",
    "# print(r2_values)\n",
    "r2_values =np.array(r2_values)\n",
    "plt.hist(r2_values, bins=20)\n",
    "plt.axvline(x=np.mean(r2_values), linewidth=2, color='k')\n",
    "\n"
   ]
  },
  {
   "cell_type": "markdown",
   "metadata": {},
   "source": [
    "So overall, based on the relatively high r<sup>2</sup> value, we can say that weight is likely a good predictor of miles per gallon. \n",
    "\n",
    "But we can probably do better. With more predictors, we can use multi-variate regression to get higher prediction values. In reality, few values are dependent on one variable. There is usually more than 1 factor affecting the variation in a response variable. "
   ]
  }
 ],
 "metadata": {
  "kernelspec": {
   "display_name": "Python 3",
   "language": "python",
   "name": "python3"
  },
  "language_info": {
   "codemirror_mode": {
    "name": "ipython",
    "version": 3
   },
   "file_extension": ".py",
   "mimetype": "text/x-python",
   "name": "python",
   "nbconvert_exporter": "python",
   "pygments_lexer": "ipython3",
   "version": "3.6.1"
  }
 },
 "nbformat": 4,
 "nbformat_minor": 2
}
