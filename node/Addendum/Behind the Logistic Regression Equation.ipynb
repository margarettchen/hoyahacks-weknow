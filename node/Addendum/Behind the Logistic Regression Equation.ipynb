{
 "cells": [
  {
   "cell_type": "markdown",
   "metadata": {},
   "source": [
    "# Behind the Logistic Regression Equation\n",
    "\n",
    "Sources used: [Logistic Regression Wikipedia page](https://en.wikipedia.org/wiki/Logistic_regression), [CMU](http://www.stat.cmu.edu/~cshalizi/uADA/12/lectures/ch12.pdf), and [Win-Vector](http://www.win-vector.com/blog/2011/09/the-simpler-derivation-of-logistic-regression/)\n",
    "____\n",
    "\n",
    "$$ \\log(\\frac{p(x)}{1-p(x)})= \\beta _{0}+\\beta _{1}x_{1}+\\beta _{2}x_{2}+\\cdots +\\beta _{m}x_{m} $$\n",
    "\n",
    "Logistic regression can be very tricky to understand, and the actual formula seems to come out of nowhere. Here, we'll try to explain (**not prove**) the intution behind the logistic regression equation, so you can better understand it. \n",
    "\n",
    "Let's assume that the predictor variables are all continuous, and the output of the logistic regression is binary (0 or 1). Predictor variables can be categorical too, but we're going to simplify for now. \n",
    "\n",
    "The right-hand side of the equation should look familiar. This is essentially our typical linear regression formula. We cannot do a normal multiple linear regression and plot a line of best fit because the output is either 1 or 0, not a continous linear output. Instead of outputting a 0 or 1, we can try to create a model that spits out the probability of getting a 1, given the prediction variable values. Because this output is a probability, the range must be restricted between 0 and 1 so we'll have to do some sort of transformation on the output. \n",
    "\n",
    "$$ \\log(p(x))= \\beta _{0}+\\beta _{1}x_{1}+\\beta _{2}x_{2}+\\cdots +\\beta _{m}x_{m} $$\n",
    "\n",
    "We can try taking the log of the probability, but then we get a range from $-\\infty$ to 0. We want to get a range from -$\\infty$ to +$\\infty$, since that will be the output of the righthand side. The above equation won't work.\n",
    "\n",
    "However, the odds function, defined as $O(x)=\\frac{p(x)}{1-p(x)}$ will have a range from $[0, \\infty)$. If we just take the  log of that, then we get our targeted range: -$\\infty$ to +$\\infty$. This transformation, $\\log(\\frac{p(x)}{1-p(x)})$ is called the **logit transformation**.\n",
    "\n",
    "The process of getting the actual beta values is beyond the scope of the class, so we will not discuss it here. \n"
   ]
  },
  {
   "cell_type": "code",
   "execution_count": 16,
   "metadata": {
    "collapsed": true
   },
   "outputs": [],
   "source": [
    "%matplotlib inline\n",
    "import numpy as np\n",
    "import matplotlib.pyplot as plt"
   ]
  },
  {
   "cell_type": "code",
   "execution_count": 18,
   "metadata": {},
   "outputs": [
    {
     "data": {
      "image/png": "[encoded data removed]",
      "text/plain": [
       "<matplotlib.figure.Figure at 0x104541f60>"
      ]
     },
     "metadata": {},
     "output_type": "display_data"
    }
   ],
   "source": [
    "def logit(t):\n",
    "    return np.log(t / (1-t))\n",
    "\n",
    "t = np.arange(0.02, 1., 0.02)\n",
    "plt.plot(t, logit(t))\n",
    "plt.axhline(y=0, color='r', linestyle='--')\n",
    "plt.axvline(x=0, color='r', linestyle='--')\n",
    "plt.grid()\n",
    "plt.show()"
   ]
  },
  {
   "cell_type": "markdown",
   "metadata": {},
   "source": [
    "$$ \\log(\\frac{p(x)}{1-p(x)})= \\beta _{0}+\\beta _{1}x_{1}+\\beta _{2}x_{2}+\\cdots +\\beta _{m}x_{m} $$\n",
    "\n",
    "Exponentiating the equation. \n",
    "\n",
    "$$ \\frac{p(x)}{1-p(x)} = (e^{\\beta_{0}})(e^{\\beta_{1}x_{1}})(e^{\\beta_{2}x_{2}})\\cdots (e^{\\beta _{m}x_{m}})$$"
   ]
  },
  {
   "cell_type": "markdown",
   "metadata": {
    "collapsed": true
   },
   "source": [
    "Notice that the coefficients change from additive to multiplicative after the exponentiation. If $x_1$ increases by 1 unit, then all other variables constant, the odds of the response variable increases by $e^{\\beta_1}$. Each exponentiated beta is an **odds ratio**, useful to see how the odds change when one of our inputs changes by one unit. "
   ]
  },
  {
   "cell_type": "code",
   "execution_count": null,
   "metadata": {
    "collapsed": true
   },
   "outputs": [],
   "source": []
  }
 ],
 "metadata": {
  "kernelspec": {
   "display_name": "Python 3",
   "language": "python",
   "name": "python3"
  },
  "language_info": {
   "codemirror_mode": {
    "name": "ipython",
    "version": 3
   },
   "file_extension": ".py",
   "mimetype": "text/x-python",
   "name": "python",
   "nbconvert_exporter": "python",
   "pygments_lexer": "ipython3",
   "version": "3.6.1"
  }
 },
 "nbformat": 4,
 "nbformat_minor": 2
}
