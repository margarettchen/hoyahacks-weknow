{
 "cells": [
  {
   "cell_type": "markdown",
   "metadata": {},
   "source": [
    "# Selenium\n",
    "## Web Browser automation and Scraping\n",
    "\n",
    "Selenium is a Python package that allows you to automate your web browser and to scrape data off web pages.\n",
    "\n",
    "###### Download Link and Instructions: http://selenium-python.readthedocs.io/installation.html"
   ]
  },
  {
   "cell_type": "markdown",
   "metadata": {},
   "source": [
    "# Example 1: Scraping from IMDB"
   ]
  },
  {
   "cell_type": "code",
   "execution_count": 1,
   "metadata": {},
   "outputs": [
    {
     "ename": "ModuleNotFoundError",
     "evalue": "No module named 'selenium'",
     "output_type": "error",
     "traceback": [
      "\u001b[0;31m---------------------------------------------------------------------------\u001b[0m",
      "\u001b[0;31mModuleNotFoundError\u001b[0m                       Traceback (most recent call last)",
      "\u001b[0;32m<ipython-input-1-29f9504c1d45>\u001b[0m in \u001b[0;36m<module>\u001b[0;34m()\u001b[0m\n\u001b[1;32m      3\u001b[0m \u001b[0;32mimport\u001b[0m \u001b[0mnumpy\u001b[0m \u001b[0;32mas\u001b[0m \u001b[0mnp\u001b[0m\u001b[0;34m\u001b[0m\u001b[0m\n\u001b[1;32m      4\u001b[0m \u001b[0;32mimport\u001b[0m \u001b[0mpandas\u001b[0m \u001b[0;32mas\u001b[0m \u001b[0mpd\u001b[0m\u001b[0;34m\u001b[0m\u001b[0m\n\u001b[0;32m----> 5\u001b[0;31m \u001b[0;32mfrom\u001b[0m \u001b[0mselenium\u001b[0m \u001b[0;32mimport\u001b[0m \u001b[0mwebdriver\u001b[0m\u001b[0;34m\u001b[0m\u001b[0m\n\u001b[0m\u001b[1;32m      6\u001b[0m \u001b[0;32mimport\u001b[0m \u001b[0mtime\u001b[0m \u001b[0;31m# this is for sleeping\u001b[0m\u001b[0;34m\u001b[0m\u001b[0m\n",
      "\u001b[0;31mModuleNotFoundError\u001b[0m: No module named 'selenium'"
     ]
    }
   ],
   "source": [
    "# imports\n",
    "\n",
    "import numpy as np\n",
    "import pandas as pd\n",
    "from selenium import webdriver\n",
    "import time # this is for sleeping"
   ]
  },
  {
   "cell_type": "code",
   "execution_count": null,
   "metadata": {},
   "outputs": [],
   "source": [
    "# initializing the browser and going to a web page\n",
    "\n",
    "# open Firefox\n",
    "browser = webdriver.Firefox()\n",
    "\n",
    "# go to the web page that we want to scrape from\n",
    "browser.get('http://www.imdb.com/title/tt1490017/')\n",
    "\n",
    "# wait for browser/page to load before doing anything else\n",
    "'''\n",
    "If you don't do this, selenium may get confused while running \n",
    "the next command because whatever object it looks for may not yet be there.\n",
    "So when running a command that will open a new web page it is usually\n",
    "a good idea to sleep for a few seconds.\n",
    "''' \n",
    "time.sleep(2)"
   ]
  },
  {
   "cell_type": "markdown",
   "metadata": {},
   "source": [
    "Selenium allows you to select web page elements in a variety of ways:\n",
    "                                    1. .find_element_by_class_name\n",
    "                                    2. .find_element_by_css_selector\n",
    "                                    3. .find_element_by_id\n",
    "                                    4. .find_element_by_link_text\n",
    "                                    5. .find_element_by_name\n",
    "                                    6. .find_element_by_partial_link_text\n",
    "                                    7. .find_element_by_tag_name\n",
    "                                    8. .find_element_by_xpath"
   ]
  },
  {
   "cell_type": "code",
   "execution_count": 2,
   "metadata": {},
   "outputs": [
    {
     "ename": "NameError",
     "evalue": "name 'browser' is not defined",
     "output_type": "error",
     "traceback": [
      "\u001b[0;31m---------------------------------------------------------------------------\u001b[0m",
      "\u001b[0;31mNameError\u001b[0m                                 Traceback (most recent call last)",
      "\u001b[0;32m<ipython-input-2-3d1420cceae2>\u001b[0m in \u001b[0;36m<module>\u001b[0;34m()\u001b[0m\n\u001b[1;32m      1\u001b[0m \u001b[0;31m# Select the table of cast members using \"inspect element\" in your browser\u001b[0m\u001b[0;34m\u001b[0m\u001b[0;34m\u001b[0m\u001b[0m\n\u001b[0;32m----> 2\u001b[0;31m \u001b[0mtable\u001b[0m \u001b[0;34m=\u001b[0m \u001b[0mbrowser\u001b[0m\u001b[0;34m.\u001b[0m\u001b[0mfind_element_by_class_name\u001b[0m\u001b[0;34m(\u001b[0m\u001b[0;34m\"cast_list\"\u001b[0m\u001b[0;34m)\u001b[0m\u001b[0;34m.\u001b[0m\u001b[0mget_attribute\u001b[0m\u001b[0;34m(\u001b[0m\u001b[0;34m'outerHTML'\u001b[0m\u001b[0;34m)\u001b[0m\u001b[0;34m\u001b[0m\u001b[0m\n\u001b[0m\u001b[1;32m      3\u001b[0m \u001b[0;34m\u001b[0m\u001b[0m\n\u001b[1;32m      4\u001b[0m \u001b[0;31m# use pd.read_html() to read the table in python\u001b[0m\u001b[0;34m\u001b[0m\u001b[0;34m\u001b[0m\u001b[0m\n\u001b[1;32m      5\u001b[0m \u001b[0mcast\u001b[0m \u001b[0;34m=\u001b[0m \u001b[0mpd\u001b[0m\u001b[0;34m.\u001b[0m\u001b[0mread_html\u001b[0m\u001b[0;34m(\u001b[0m\u001b[0mtable\u001b[0m\u001b[0;34m)\u001b[0m\u001b[0;34m\u001b[0m\u001b[0m\n",
      "\u001b[0;31mNameError\u001b[0m: name 'browser' is not defined"
     ]
    }
   ],
   "source": [
    "# Select the table of cast members using \"inspect element\" in your browser\n",
    "table = browser.find_element_by_class_name(\"cast_list\").get_attribute('outerHTML')\n",
    "\n",
    "# use pd.read_html() to read the table in python\n",
    "cast = pd.read_html(table)\n",
    "# returns as a list of one object………\n",
    "print(type(cast))\n",
    "print(len(cast))\n",
    "# ……… that object being, convenienthy, a pandas data frame!\n",
    "print(type(cast[0]))\n",
    "\n",
    "cast_df = cast[0]\n",
    "cast_df"
   ]
  },
  {
   "cell_type": "code",
   "execution_count": 4,
   "metadata": {},
   "outputs": [],
   "source": [
    "# close the browser now that we've got the data we need\n",
    "'''\n",
    "just for convenience sake because Selenium opens up a new \n",
    "iteration of Firefox everytime you run it which can get annoying\n",
    "'''\n",
    "browser.close()"
   ]
  },
  {
   "cell_type": "code",
   "execution_count": 15,
   "metadata": {},
   "outputs": [
    {
     "data": {
      "text/html": [
       "<div>\n",
       "<style>\n",
       "    .dataframe thead tr:only-child th {\n",
       "        text-align: right;\n",
       "    }\n",
       "\n",
       "    .dataframe thead th {\n",
       "        text-align: left;\n",
       "    }\n",
       "\n",
       "    .dataframe tbody tr th {\n",
       "        vertical-align: top;\n",
       "    }\n",
       "</style>\n",
       "<table border=\"1\" class=\"dataframe\">\n",
       "  <thead>\n",
       "    <tr style=\"text-align: right;\">\n",
       "      <th></th>\n",
       "      <th>Actor</th>\n",
       "      <th>Role</th>\n",
       "    </tr>\n",
       "  </thead>\n",
       "  <tbody>\n",
       "    <tr>\n",
       "      <th>1</th>\n",
       "      <td>Will Arnett</td>\n",
       "      <td>Batman / Bruce Wayne (voice)</td>\n",
       "    </tr>\n",
       "    <tr>\n",
       "      <th>2</th>\n",
       "      <td>Elizabeth Banks</td>\n",
       "      <td>Wyldstyle / Lucy (voice)</td>\n",
       "    </tr>\n",
       "    <tr>\n",
       "      <th>3</th>\n",
       "      <td>Craig Berry</td>\n",
       "      <td>Blake / Additional Voices (voice)</td>\n",
       "    </tr>\n",
       "    <tr>\n",
       "      <th>4</th>\n",
       "      <td>Alison Brie</td>\n",
       "      <td>Unikitty (voice)</td>\n",
       "    </tr>\n",
       "    <tr>\n",
       "      <th>5</th>\n",
       "      <td>David Burrows</td>\n",
       "      <td>Octan Robot / Additional Voices (voice)</td>\n",
       "    </tr>\n",
       "    <tr>\n",
       "      <th>6</th>\n",
       "      <td>Anthony Daniels</td>\n",
       "      <td>C-3PO (voice)</td>\n",
       "    </tr>\n",
       "    <tr>\n",
       "      <th>7</th>\n",
       "      <td>Charlie Day</td>\n",
       "      <td>Benny (voice)</td>\n",
       "    </tr>\n",
       "    <tr>\n",
       "      <th>8</th>\n",
       "      <td>Amanda Farinos</td>\n",
       "      <td>Mom (voice)</td>\n",
       "    </tr>\n",
       "    <tr>\n",
       "      <th>9</th>\n",
       "      <td>Keith Ferguson</td>\n",
       "      <td>Han Solo (voice)</td>\n",
       "    </tr>\n",
       "    <tr>\n",
       "      <th>10</th>\n",
       "      <td>Will Ferrell</td>\n",
       "      <td>Lord Business (voice) / President Business (vo...</td>\n",
       "    </tr>\n",
       "    <tr>\n",
       "      <th>11</th>\n",
       "      <td>Will Forte</td>\n",
       "      <td>Abraham Lincoln (voice) (as Orville Forte)</td>\n",
       "    </tr>\n",
       "    <tr>\n",
       "      <th>12</th>\n",
       "      <td>Dave Franco</td>\n",
       "      <td>Wally (voice)</td>\n",
       "    </tr>\n",
       "    <tr>\n",
       "      <th>13</th>\n",
       "      <td>Morgan Freeman</td>\n",
       "      <td>Vitruvius (voice)</td>\n",
       "    </tr>\n",
       "    <tr>\n",
       "      <th>14</th>\n",
       "      <td>Todd Hansen</td>\n",
       "      <td>Gandalf / Additional Voices (voice)</td>\n",
       "    </tr>\n",
       "    <tr>\n",
       "      <th>15</th>\n",
       "      <td>Jonah Hill</td>\n",
       "      <td>Green Lantern (voice)</td>\n",
       "    </tr>\n",
       "  </tbody>\n",
       "</table>\n",
       "</div>"
      ],
      "text/plain": [
       "              Actor                                               Role\n",
       "1       Will Arnett                       Batman / Bruce Wayne (voice)\n",
       "2   Elizabeth Banks                           Wyldstyle / Lucy (voice)\n",
       "3       Craig Berry                  Blake / Additional Voices (voice)\n",
       "4       Alison Brie                                   Unikitty (voice)\n",
       "5     David Burrows            Octan Robot / Additional Voices (voice)\n",
       "6   Anthony Daniels                                      C-3PO (voice)\n",
       "7       Charlie Day                                      Benny (voice)\n",
       "8    Amanda Farinos                                        Mom (voice)\n",
       "9    Keith Ferguson                                   Han Solo (voice)\n",
       "10     Will Ferrell  Lord Business (voice) / President Business (vo...\n",
       "11       Will Forte         Abraham Lincoln (voice) (as Orville Forte)\n",
       "12      Dave Franco                                      Wally (voice)\n",
       "13   Morgan Freeman                                  Vitruvius (voice)\n",
       "14      Todd Hansen                Gandalf / Additional Voices (voice)\n",
       "15       Jonah Hill                              Green Lantern (voice)"
      ]
     },
     "execution_count": 15,
     "metadata": {},
     "output_type": "execute_result"
    }
   ],
   "source": [
    "# a little cleaning to make our data frame pretty…\n",
    "\n",
    "# drop the columns with useless information\n",
    "cast_df = cast_df.drop([0,2], 1)\n",
    "\n",
    "# drop the first row of NaN's\n",
    "cast_df = cast_df.drop(cast_df.index[0])\n",
    "\n",
    "# name the columns something descriptive\n",
    "cast_df.columns = ['Actor', 'Role']\n",
    "\n",
    "# voila!\n",
    "cast_df"
   ]
  },
  {
   "cell_type": "markdown",
   "metadata": {},
   "source": [
    "# Example 2: Slack Bot"
   ]
  },
  {
   "cell_type": "code",
   "execution_count": 5,
   "metadata": {
    "collapsed": true
   },
   "outputs": [],
   "source": [
    "# first, let's pick a channel and a message to send to that channel\n",
    "\n",
    "# pick your channel\n",
    "channel = 'bot_world'\n",
    "# write a message\n",
    "message = 'Hi there Slack!'"
   ]
  },
  {
   "cell_type": "code",
   "execution_count": 6,
   "metadata": {},
   "outputs": [],
   "source": [
    "# open Firefox\n",
    "browser = webdriver.Firefox()\n",
    "\n",
    "# go to the web page that we want to scrape from\n",
    "browser.get('http://slack.com/signin')\n",
    "\n",
    "# wait for browser/page to load before doing anything else\n",
    "time.sleep(2)"
   ]
  },
  {
   "cell_type": "code",
   "execution_count": 7,
   "metadata": {
    "collapsed": true
   },
   "outputs": [],
   "source": [
    "# LOGIN\n",
    "\n",
    "# type the slack team name\n",
    "browser.find_element_by_id(\"domain\").send_keys(\"hackcville\")\n",
    "\n",
    "# press continue button\n",
    "browser.find_element_by_id(\"submit_team_domain\").click()\n",
    "\n",
    "# wait for next page to load\n",
    "time.sleep(2)"
   ]
  },
  {
   "cell_type": "code",
   "execution_count": 8,
   "metadata": {},
   "outputs": [
    {
     "name": "stdout",
     "output_type": "stream",
     "text": [
      "Email: ct3fb@virginia.edu\n",
      "Password: Whisper\n"
     ]
    }
   ],
   "source": [
    "# supply username and password for slack\n",
    "email = input(\"Email: \")\n",
    "password = input(\"Password: \")\n",
    "\n",
    "# type username\n",
    "browser.find_element_by_id(\"email\").send_keys(email)\n",
    "# type password\n",
    "browser.find_element_by_id(\"password\").send_keys(password)\n",
    "# click sign in button\n",
    "browser.find_element_by_id(\"signin_btn\").click()\n",
    "\n",
    "# wait for the next page to load\n",
    "time.sleep(15)"
   ]
  },
  {
   "cell_type": "code",
   "execution_count": 9,
   "metadata": {},
   "outputs": [
    {
     "data": {
      "text/plain": [
       "'\\n\\t\\t\\t\\t\\t\\tannouncements\\n\\t\\t\\t\\t'"
      ]
     },
     "execution_count": 9,
     "metadata": {},
     "output_type": "execute_result"
    }
   ],
   "source": [
    "# navigate to the channel you want to write in\n",
    "\n",
    "'''\n",
    "This finds the elements with class name = \"overflow_ellipse\" \n",
    "whithin the element with id = \"channels\" and puts them all in a list.\n",
    "'''\n",
    "channels = browser.find_element_by_id('channels').find_elements_by_class_name('overflow_ellipsis')\n",
    "\n",
    "# lets see what the inner HTML elements look like\n",
    "channels[0].get_attribute('innerHTML')"
   ]
  },
  {
   "cell_type": "code",
   "execution_count": 10,
   "metadata": {},
   "outputs": [],
   "source": [
    "# that is ugly ^^^\n",
    "# let's clean it up with .strip() to clear the whitespace in the for loop\n",
    "\n",
    "'''\n",
    "this just iterates through the stripped inner HTML of the items \n",
    "in the 'channels' list until it finds the one we want then clicks it\n",
    "'''\n",
    "for i in range(len(channels)):\n",
    "    if (channels[i].get_attribute('innerHTML').strip() == channel):\n",
    "        # click on the 'bot_world' channel\n",
    "        channels[i].click()\n",
    "        \n",
    "        # break out of the for loop\n",
    "        break"
   ]
  },
  {
   "cell_type": "code",
   "execution_count": 11,
   "metadata": {},
   "outputs": [],
   "source": [
    "# find the element for the text bar\n",
    "text_bar = browser.find_element_by_class_name('ql-editor.ql-blank').find_element_by_css_selector('p')\n",
    "# type your message\n",
    "text_bar.send_keys(message)\n",
    "# press enter\n",
    "text_bar.send_keys(u'\\ue007')\n",
    "\n",
    "#you can repeat this cell with different messages to send multiple messages to the channel"
   ]
  },
  {
   "cell_type": "markdown",
   "metadata": {},
   "source": [
    "So if you ever want to write a message to Slack but you're in class and don't want to get called out for not working, just whip out this script and no one will suspect anything."
   ]
  },
  {
   "cell_type": "markdown",
   "metadata": {},
   "source": [
    "## Challenge\n",
    "1. Scrape the entire table by making Selenium press the \"See full cast >>\" button at the bottom of the table which opens up the full cast list, not just the first 15 members.\n",
    "\n",
    "2. Scrape the full cast list from multiple imdb pages by using the search bar to navigate between the pages."
   ]
  },
  {
   "cell_type": "code",
   "execution_count": null,
   "metadata": {
    "collapsed": true
   },
   "outputs": [],
   "source": []
  }
 ],
 "metadata": {
  "kernelspec": {
   "display_name": "Python 3",
   "language": "python",
   "name": "python3"
  },
  "language_info": {
   "codemirror_mode": {
    "name": "ipython",
    "version": 3
   },
   "file_extension": ".py",
   "mimetype": "text/x-python",
   "name": "python",
   "nbconvert_exporter": "python",
   "pygments_lexer": "ipython3",
   "version": "3.6.1"
  }
 },
 "nbformat": 4,
 "nbformat_minor": 2
}
