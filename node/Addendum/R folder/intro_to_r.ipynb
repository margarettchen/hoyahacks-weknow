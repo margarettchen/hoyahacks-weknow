{
 "cells": [
  {
   "cell_type": "markdown",
   "metadata": {},
   "source": [
    "# Intro To R"
   ]
  },
  {
   "cell_type": "markdown",
   "metadata": {},
   "source": [
    "This is an *Introduction to Importing and Cleaning Data in R*! If you have any questions please reach out to [me](vikram.sesh2016@gmail.com)"
   ]
  },
  {
   "cell_type": "markdown",
   "metadata": {},
   "source": [
    "## Working Directory"
   ]
  },
  {
   "cell_type": "markdown",
   "metadata": {},
   "source": [
    "A Working Directory refers to where and how files can be acessed from a users computer. If you are unsure what your current working directory, you can simply run"
   ]
  },
  {
   "cell_type": "code",
   "execution_count": 5,
   "metadata": {},
   "outputs": [
    {
     "data": {
      "text/html": [
       "'/Users/nikhil/Documents/Node/Week_1'"
      ],
      "text/latex": [
       "'/Users/nikhil/Documents/Node/Week\\_1'"
      ],
      "text/markdown": [
       "'/Users/nikhil/Documents/Node/Week_1'"
      ],
      "text/plain": [
       "[1] \"/Users/nikhil/Documents/Node/Week_1\""
      ]
     },
     "metadata": {},
     "output_type": "display_data"
    }
   ],
   "source": [
    "getwd()"
   ]
  },
  {
   "cell_type": "markdown",
   "metadata": {},
   "source": [
    "Notice the output that you receive when you run this. It shows a pathway that the computer is using to acess the files on your computer. However, I want to change my directory to directly access my desktop. If, the directory presented above isn't what your accustomed to, I recommend you do the same using the function below."
   ]
  },
  {
   "cell_type": "code",
   "execution_count": 2,
   "metadata": {},
   "outputs": [
    {
     "ename": "ERROR",
     "evalue": "Error in setwd(): argument \"dir\" is missing, with no default\n",
     "output_type": "error",
     "traceback": [
      "Error in setwd(): argument \"dir\" is missing, with no default\nTraceback:\n",
      "1. setwd()"
     ]
    }
   ],
   "source": [
    "setwd()"
   ]
  },
  {
   "cell_type": "markdown",
   "metadata": {},
   "source": [
    "## Importing Data"
   ]
  },
  {
   "cell_type": "markdown",
   "metadata": {},
   "source": [
    "There are multiple ways to import a data set.  Ultimately, this is a multifacetted skill, and is simply a foundational skill for data science. When importing data there are multiple types of data sets to import: CSVs, Excel Spreadsheets; etc. You can view the imported data set in the global environment."
   ]
  },
  {
   "cell_type": "markdown",
   "metadata": {},
   "source": [
    "### Global Environment Import DataSet"
   ]
  },
  {
   "cell_type": "markdown",
   "metadata": {},
   "source": [
    "This is a very easy simple task to complete to import data.  There are a few ways to go about importing datasets. "
   ]
  },
  {
   "cell_type": "markdown",
   "metadata": {},
   "source": [
    "### Tool Bar"
   ]
  },
  {
   "cell_type": "markdown",
   "metadata": {},
   "source": [
    "You can import the dataset using some of the basic data sets... Wasn't sure if this was the way to continue this direction?"
   ]
  },
  {
   "cell_type": "markdown",
   "metadata": {},
   "source": [
    "### Saving the Data as a Data Frame"
   ]
  },
  {
   "cell_type": "markdown",
   "metadata": {},
   "source": [
    "The best way to clean and manipulate is to first be able to saved as a variable in your workspace.  One of the best ways to this is to use the read function, which can be used to CSVs, such as the one we plan to use for the practice in this workbook."
   ]
  },
  {
   "cell_type": "code",
   "execution_count": 6,
   "metadata": {},
   "outputs": [
    {
     "name": "stderr",
     "output_type": "stream",
     "text": [
      "Warning message in file(file, \"rt\"):\n",
      "“cannot open file 'CauseDeath.csv': No such file or directory”"
     ]
    },
    {
     "ename": "ERROR",
     "evalue": "Error in file(file, \"rt\"): cannot open the connection\n",
     "output_type": "error",
     "traceback": [
      "Error in file(file, \"rt\"): cannot open the connection\nTraceback:\n",
      "1. read.csv(\"CauseDeath.csv\")",
      "2. read.table(file = file, header = header, sep = sep, quote = quote, \n .     dec = dec, fill = fill, comment.char = comment.char, ...)",
      "3. file(file, \"rt\")"
     ]
    }
   ],
   "source": [
    "#setwd(\"/Users/Vikram/Desktop/\")\n",
    "practice <- read.csv(\"CauseDeath.csv\")"
   ]
  },
  {
   "cell_type": "markdown",
   "metadata": {},
   "source": [
    "Now if you go to your local workspace, you will notice that there is now a data table called \"practice\".  If you click on the variable, you will be able to pull up the table and be able to see some of the parameters in the data frame. \n",
    "\n",
    "However, before I start diving into cleaning, I recommend trying to try reading another type of data file such as Excel (read.xls) or just a regular table (read.table).  \n",
    "\n",
    "Furthermore, if you are wondering what the difference between read.csv() and read.csv2() look no further.  read.csv2() allows the user to make better tables when commas are involved in the data frame. You most likely won't experience instances where you will need read.csv2()."
   ]
  },
  {
   "cell_type": "markdown",
   "metadata": {},
   "source": [
    "## Variable Assigment"
   ]
  },
  {
   "cell_type": "code",
   "execution_count": 6,
   "metadata": {},
   "outputs": [
    {
     "data": {
      "text/html": [
       "45"
      ],
      "text/latex": [
       "45"
      ],
      "text/markdown": [
       "45"
      ],
      "text/plain": [
       "[1] 45"
      ]
     },
     "metadata": {},
     "output_type": "display_data"
    }
   ],
   "source": [
    "# This has three parts: Variable name, the store function, and the contents within the variable.\n",
    "number <- 45\n",
    "#To display a variable just print the variable name\n",
    "number"
   ]
  },
  {
   "cell_type": "code",
   "execution_count": null,
   "metadata": {
    "collapsed": true
   },
   "outputs": [],
   "source": [
    "# Practice: save your name as the variable 'name' and print name\n"
   ]
  },
  {
   "cell_type": "markdown",
   "metadata": {},
   "source": [
    "## Looking through a dataframe"
   ]
  },
  {
   "cell_type": "markdown",
   "metadata": {},
   "source": [
    "### head()"
   ]
  },
  {
   "cell_type": "markdown",
   "metadata": {},
   "source": [
    "This is similar to the print funciton in python, and it will display the dataframe that you put within it's argument."
   ]
  },
  {
   "cell_type": "markdown",
   "metadata": {},
   "source": [
    "### Indexing"
   ]
  },
  {
   "cell_type": "markdown",
   "metadata": {},
   "source": [
    "This is used to reference a specific column or row in a dataframe"
   ]
  },
  {
   "cell_type": "code",
   "execution_count": 10,
   "metadata": {},
   "outputs": [
    {
     "data": {
      "text/plain": [
       "NULL"
      ]
     },
     "metadata": {},
     "output_type": "display_data"
    }
   ],
   "source": [
    "# Example: Highlighting the State Column \n",
    "columnState <- practice$State\n",
    "# If you check your Working Environment you should now see the variable columnState."
   ]
  },
  {
   "cell_type": "code",
   "execution_count": null,
   "metadata": {
    "collapsed": true
   },
   "outputs": [],
   "source": [
    "# Practice: Try Saving making a subset of this data set with only Year and Deaths"
   ]
  },
  {
   "cell_type": "markdown",
   "metadata": {},
   "source": [
    "### Brackets"
   ]
  },
  {
   "cell_type": "markdown",
   "metadata": {},
   "source": [
    "This is used to reference a specific entry in a row or column."
   ]
  },
  {
   "cell_type": "code",
   "execution_count": 12,
   "metadata": {},
   "outputs": [
    {
     "data": {
      "text/plain": [
       "NULL"
      ]
     },
     "metadata": {},
     "output_type": "display_data"
    }
   ],
   "source": [
    "# Example:\n",
    "practice$State[2]"
   ]
  },
  {
   "cell_type": "code",
   "execution_count": null,
   "metadata": {
    "collapsed": true
   },
   "outputs": [],
   "source": [
    "# Practice: Try replacing the state etnry for California with Canada\n"
   ]
  },
  {
   "cell_type": "code",
   "execution_count": null,
   "metadata": {
    "collapsed": true
   },
   "outputs": [],
   "source": [
    "## Explore/Review:\n",
    "# Store the sum of all single digit odd numbers as the variable odd"
   ]
  },
  {
   "cell_type": "markdown",
   "metadata": {},
   "source": [
    "### class()"
   ]
  },
  {
   "cell_type": "markdown",
   "metadata": {},
   "source": [
    "As you reviewed in the introductory handouts, class is a very useful to see the data type that your working with, such as logical (Boolean), or character etc. "
   ]
  },
  {
   "cell_type": "code",
   "execution_count": null,
   "metadata": {
    "collapsed": true
   },
   "outputs": [],
   "source": [
    "# Explore: What would the 4 classes produce?\n",
    "class(TRUE)\n",
    "class(3.2)\n",
    "class(\"Bananas\")\n",
    "class(36363.3)"
   ]
  },
  {
   "cell_type": "markdown",
   "metadata": {},
   "source": [
    "## Creating Data"
   ]
  },
  {
   "cell_type": "markdown",
   "metadata": {},
   "source": [
    "### Vectors"
   ]
  },
  {
   "cell_type": "markdown",
   "metadata": {},
   "source": [
    "This is used to name a vector.  Not that vectors can only hold inputs of one-type. c() is a function that can be specifically used for combining variables into a vector."
   ]
  },
  {
   "cell_type": "code",
   "execution_count": 13,
   "metadata": {
    "collapsed": true
   },
   "outputs": [],
   "source": [
    "# An example of how to use c()\n",
    "node <- c(\"Vik\", \"Cam\", \"Nik\")\n",
    "# A more advanced Vector can be made like below\n",
    "roles.ex <- c(boyta = \"Vik\", girlta = \"Cam\", teacher = \"Nik\")"
   ]
  },
  {
   "cell_type": "markdown",
   "metadata": {},
   "source": [
    "#### names()"
   ]
  },
  {
   "cell_type": "markdown",
   "metadata": {},
   "source": [
    "Let's go back to the way we assigned the roles.ex. This could have also been done very easily..."
   ]
  },
  {
   "cell_type": "code",
   "execution_count": 14,
   "metadata": {
    "collapsed": true
   },
   "outputs": [],
   "source": [
    "names(node) <- c(\"boyta\", \"girlta\", \"teacher\")"
   ]
  },
  {
   "cell_type": "markdown",
   "metadata": {},
   "source": [
    "#### sum()"
   ]
  },
  {
   "cell_type": "code",
   "execution_count": null,
   "metadata": {
    "collapsed": true
   },
   "outputs": [],
   "source": [
    "# Sum all the variables in a vector, but only works with numeric data types\n",
    "numbas <- c(1, 2, 3, 4, 5, 6)\n",
    "sum(numbas)"
   ]
  },
  {
   "cell_type": "markdown",
   "metadata": {},
   "source": [
    "#### Indexing a Vector"
   ]
  },
  {
   "cell_type": "markdown",
   "metadata": {},
   "source": [
    "Indexing is the way of accessing data within a vector. It is a huge skill to have and can be very helpful in manipulating specific values. "
   ]
  },
  {
   "cell_type": "code",
   "execution_count": null,
   "metadata": {
    "collapsed": true
   },
   "outputs": [],
   "source": [
    "roles.ex[\"boyta\"]\n",
    "roles.ex[roles.ex == \"Cam\"]"
   ]
  },
  {
   "cell_type": "markdown",
   "metadata": {},
   "source": [
    "#### Referencing a series of variables within a vector"
   ]
  },
  {
   "cell_type": "code",
   "execution_count": null,
   "metadata": {
    "collapsed": true
   },
   "outputs": [],
   "source": [
    "numbas[2:4]"
   ]
  },
  {
   "cell_type": "markdown",
   "metadata": {},
   "source": [
    "### write.csv()"
   ]
  },
  {
   "cell_type": "markdown",
   "metadata": {},
   "source": [
    "What if you want to make your own data.  "
   ]
  },
  {
   "cell_type": "code",
   "execution_count": null,
   "metadata": {
    "collapsed": true
   },
   "outputs": [],
   "source": [
    "#Basic Functionality; Two arguments the data to be saved and the name of the output file\n",
    "write.csv(practice, file = \"example.csv\")"
   ]
  },
  {
   "cell_type": "markdown",
   "metadata": {},
   "source": [
    "#### Columns and Rows"
   ]
  },
  {
   "cell_type": "markdown",
   "metadata": {},
   "source": [
    "There are several other arguments. For row and column names, the arguments are automatically to true.  For rows, means that it will only have row and column numbers."
   ]
  },
  {
   "cell_type": "code",
   "execution_count": null,
   "metadata": {
    "collapsed": true
   },
   "outputs": [],
   "source": [
    "# To remove row numbers and add row.names\n",
    "write.csv(practice, file = \"example.csv\", row.names = FALSE)\n",
    "\n",
    "# To add a specific column name use \"colClasses\". The inputted argument would be a vector of all the headers."
   ]
  },
  {
   "cell_type": "markdown",
   "metadata": {},
   "source": [
    "#### NA"
   ]
  },
  {
   "cell_type": "code",
   "execution_count": null,
   "metadata": {
    "collapsed": true
   },
   "outputs": [],
   "source": [
    "#To replace a value as NA\n",
    "practice$Alcohol.Impaired.Driving.Deaths[3] <- NA\n",
    "head(practice)"
   ]
  },
  {
   "cell_type": "markdown",
   "metadata": {},
   "source": [
    "## Data Type Manipulations"
   ]
  },
  {
   "cell_type": "markdown",
   "metadata": {},
   "source": [
    "### Comparators"
   ]
  },
  {
   "cell_type": "markdown",
   "metadata": {},
   "source": [
    "By using the basic comparators like ==, <, > !=, vectors can be very easily compared and stored as a logical variable."
   ]
  },
  {
   "cell_type": "markdown",
   "metadata": {},
   "source": [
    "### Type Conversion"
   ]
  },
  {
   "cell_type": "markdown",
   "metadata": {},
   "source": [
    "There are several options: as.numeric, as.logical, as.integer, as.factor, as.character, as.ordered"
   ]
  },
  {
   "cell_type": "code",
   "execution_count": 7,
   "metadata": {},
   "outputs": [
    {
     "data": {
      "text/html": [
       "7"
      ],
      "text/latex": [
       "7"
      ],
      "text/markdown": [
       "7"
      ],
      "text/plain": [
       "[1] 7"
      ]
     },
     "metadata": {},
     "output_type": "display_data"
    }
   ],
   "source": [
    "as.numeric(\"7\", \"7*\", \"7.0\", \"7,0\")"
   ]
  },
  {
   "cell_type": "markdown",
   "metadata": {},
   "source": [
    "### String Manipulation"
   ]
  },
  {
   "cell_type": "markdown",
   "metadata": {},
   "source": [
    "#### str_trim"
   ]
  },
  {
   "cell_type": "markdown",
   "metadata": {},
   "source": [
    "This is a function that can trim the whitespace"
   ]
  },
  {
   "cell_type": "code",
   "execution_count": null,
   "metadata": {
    "collapsed": true
   },
   "outputs": [],
   "source": [
    "library(stringr)\n",
    "str_trim(\" hello world \")\n",
    "str_trim(\" hello world \", side = \"left\")\n",
    "str_trim(\" hello world \", side = \"right\")"
   ]
  },
  {
   "cell_type": "markdown",
   "metadata": {},
   "source": [
    "#### str_pad"
   ]
  },
  {
   "cell_type": "markdown",
   "metadata": {},
   "source": [
    "Can be used to add additional numbers to others. "
   ]
  },
  {
   "cell_type": "code",
   "execution_count": null,
   "metadata": {
    "collapsed": true
   },
   "outputs": [],
   "source": [
    "library(stringr)\n",
    "str_pad(112, width = 6, side = \"left\", pad = 0)"
   ]
  },
  {
   "cell_type": "markdown",
   "metadata": {},
   "source": [
    "### toupper and tolower"
   ]
  },
  {
   "cell_type": "markdown",
   "metadata": {},
   "source": [
    "Makes all the character cases either all upper case or all lower case."
   ]
  },
  {
   "cell_type": "code",
   "execution_count": null,
   "metadata": {
    "collapsed": true
   },
   "outputs": [],
   "source": [
    "exstring <- \"I'm a little teapot.\"\n",
    "print(toupper(exstring))\n",
    "print(tolower(exstring))"
   ]
  },
  {
   "cell_type": "markdown",
   "metadata": {},
   "source": [
    "#### Practice: Create your own dataframe"
   ]
  },
  {
   "cell_type": "markdown",
   "metadata": {},
   "source": [
    "Use write.csv to create a new dataframe that discusses your favorite types of food. "
   ]
  },
  {
   "cell_type": "code",
   "execution_count": null,
   "metadata": {
    "collapsed": true
   },
   "outputs": [],
   "source": []
  },
  {
   "cell_type": "markdown",
   "metadata": {},
   "source": [
    "## Matrix\n",
    "This is a data type that presents variables across both columns and vectors.  These are much more involved data types. "
   ]
  },
  {
   "cell_type": "code",
   "execution_count": null,
   "metadata": {
    "collapsed": true
   },
   "outputs": [],
   "source": [
    "#Examples 3x3 matrix\n",
    "nummatrix <- matrix(1:9, byrow = TRUE, nrow = 3)"
   ]
  },
  {
   "cell_type": "markdown",
   "metadata": {},
   "source": [
    "### Combining Vectors into Matrices"
   ]
  },
  {
   "cell_type": "code",
   "execution_count": null,
   "metadata": {
    "collapsed": true
   },
   "outputs": [],
   "source": [
    "# Example vectors\n",
    "nfl <- c(\"Redskins\", \"Giants\", \"Cowboys\")\n",
    "nba <- c(\"Wizards\", \"Raptors\", \"Celtics\")\n",
    "mlb <- c(\"Nationals\", \"Maple Leafs\", \"Orioles\")\n",
    "\n",
    "teams <- c(nfl, nba, mlb)\n",
    "# Combining Vectors into Matrixes\n",
    "teams_matrix <- matrix(teams, byrow = TRUE, nrow = 3)"
   ]
  },
  {
   "cell_type": "markdown",
   "metadata": {},
   "source": [
    "### cbind() and rbind()\n",
    "These are powerful functions that are used to not only add more columns/rows but combine matrixes. Their inputs work simply by adding making larger matrixes."
   ]
  },
  {
   "cell_type": "code",
   "execution_count": null,
   "metadata": {
    "collapsed": true
   },
   "outputs": [],
   "source": [
    "randommatrix1 <- cbind(nummatrix, nfl)\n",
    "randommatrix1\n",
    "randommatrix2 <- cbind(teams_matrix, nummatrix)\n",
    "randommatrix2\n",
    "randommatrix3 <- rbind(nummatrix, nba)\n",
    "randommatrix3\n",
    "randommatrix4 <- rbind(nummatrix, teams_matrix)\n",
    "randommatrix4"
   ]
  },
  {
   "cell_type": "markdown",
   "metadata": {},
   "source": [
    "### Functions that have Vector Parallels\n",
    "#### Arithmetic Functions \n",
    "These can be applied to vectors very simply. For instance try adding five to nummatrix. "
   ]
  },
  {
   "cell_type": "code",
   "execution_count": null,
   "metadata": {
    "collapsed": true
   },
   "outputs": [],
   "source": [
    "fivenum <- nummatrix + 5\n",
    "fivenum"
   ]
  },
  {
   "cell_type": "markdown",
   "metadata": {},
   "source": [
    "Likewise, matrices of the same dimensions can have arithmetic functions applied between themeselves. \n",
    "\n",
    "#### colnames() and rownames()\n",
    "These functions work exactly names() and can be applied for labelling classes. \n",
    "\n",
    "#### rowSums()\n",
    "rowSums() works exactly like the sum function in that it sums all the variables within a row. "
   ]
  },
  {
   "cell_type": "code",
   "execution_count": null,
   "metadata": {
    "collapsed": true
   },
   "outputs": [],
   "source": [
    "rowSums(nummatrix)"
   ]
  },
  {
   "cell_type": "markdown",
   "metadata": {},
   "source": [
    "### Indexing a vector\n",
    "#### Remember it's rows by columns"
   ]
  },
  {
   "cell_type": "code",
   "execution_count": null,
   "metadata": {
    "collapsed": true
   },
   "outputs": [],
   "source": [
    "teams_matrix[2:3, 2:3]\n",
    "\n",
    "teams_matrix[2,]\n",
    "\n",
    "teams_matrix[,2]"
   ]
  },
  {
   "cell_type": "markdown",
   "metadata": {},
   "source": [
    "## Factors\n",
    "A factor is the last new thing that we will go over in this unit.  Unlike the variables and vectors we have encountered so far, a factor is considered a continuous variable.  A continuous variable is one that can be represented by an infinite amount of different variables.  A good example of this is the idea of colors. \n",
    "### factor() as a function\n",
    "This is a very effective way of listing out the various categories in a known dataframe or vector. This is an effective way of isolating all of the various factors/possible options within a vector/dataframe."
   ]
  },
  {
   "cell_type": "code",
   "execution_count": null,
   "metadata": {
    "collapsed": true
   },
   "outputs": [],
   "source": [
    "# Let's take the colors of cars in a random parking lot for instance\n",
    "parking_lot <- c(\"Brown\", \"Blue\", \"Brown\", \"Black\", \"White\", \"Black\", \"Blue\")\n",
    "\n",
    "# Now let's see just how factor() works\n",
    "factor_parking_lot <- factor(parking_lot)\n",
    "\n",
    "factor_parking_lot"
   ]
  },
  {
   "cell_type": "markdown",
   "metadata": {},
   "source": [
    "#### factor() can value various factors\n",
    "factor() as a function is extremely versatile.  It gives users the ability value various factors.  Take  for instance:"
   ]
  },
  {
   "cell_type": "code",
   "execution_count": null,
   "metadata": {
    "collapsed": true
   },
   "outputs": [],
   "source": [
    "# Temperature\n",
    "temperature_vector <- c(\"High\", \"Low\", \"High\",\"Low\", \"Medium\")\n",
    "factor_temperature_vector <- factor(temperature_vector, order = TRUE, levels = c(\"Low\", \"Medium\", \"High\"))\n",
    "factor_temperature_vector"
   ]
  },
  {
   "cell_type": "markdown",
   "metadata": {},
   "source": [
    "You can even specify the levels by using the levels() function"
   ]
  },
  {
   "cell_type": "code",
   "execution_count": null,
   "metadata": {
    "collapsed": true
   },
   "outputs": [],
   "source": [
    "# Let's take Weather as an example\n",
    "weather_vector <- c(\"S\", \"R\", \"C\", \"S\", \"C\")\n",
    "factor_weather_vector <- factor(weather_vector)\n",
    "\n",
    "# Specify the levels of factor_survey_vector\n",
    "levels(factor_weather_vector) <- c(\"Sunny\", \"Rainy\", \"Cloudy\")\n",
    "\n",
    "factor_weather_vector"
   ]
  }
 ],
 "metadata": {
  "kernelspec": {
   "display_name": "R",
   "language": "R",
   "name": "ir"
  },
  "language_info": {
   "codemirror_mode": "r",
   "file_extension": ".r",
   "mimetype": "text/x-r-source",
   "name": "R",
   "pygments_lexer": "r",
   "version": "3.2.4"
  }
 },
 "nbformat": 4,
 "nbformat_minor": 2
}
