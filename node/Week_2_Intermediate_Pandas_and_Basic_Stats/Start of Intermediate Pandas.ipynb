{
 "cells": [
  {
   "cell_type": "markdown",
   "metadata": {
    "collapsed": true
   },
   "source": [
    "# Intermediate Pandas\n",
    "\n",
    "The purpose of this lesson is to show some interesting and useful capabilities that Pandas offers for data analysis. \n",
    "\n",
    "Let's first import the cars.csv that we used last week:\n"
   ]
  },
  {
   "cell_type": "code",
   "execution_count": 16,
   "metadata": {},
   "outputs": [
    {
     "name": "stdout",
     "output_type": "stream",
     "text": [
      "  Unnamed: 0    Model    Price  Quantity   Revenue Door_Style  High_rev\n",
      "0      Honda    Civic   699.99       100   69999.0      Sedan     False\n",
      "1     Toyota    Camry   999.99       300  199998.0      Sedan      True\n",
      "2    Hyundai  Elantra   799.99       300  239997.0      Sedan      True\n",
      "3       Ford    Focus   899.99       400  359996.0      Sedan      True\n",
      "4   Mercedes  S Class  1299.99       300  389997.0      Coupe      True\n",
      "5   Infiniti      Q60  1099.99       100  109999.0      Coupe     False\n"
     ]
    }
   ],
   "source": [
    "import pandas as pd\n",
    "\n",
    "cars_df = pd.read_csv(\"cars.csv\")\n",
    "\n",
    "print(cars_df.head(6))"
   ]
  },
  {
   "cell_type": "code",
   "execution_count": 17,
   "metadata": {},
   "outputs": [
    {
     "name": "stdout",
     "output_type": "stream",
     "text": [
      "             Price    Quantity        Revenue\n",
      "count     7.000000    7.000000       7.000000\n",
      "mean   1042.847143  242.857143  238569.142857\n",
      "std     281.999662  113.389342  121026.394214\n",
      "min     699.990000  100.000000   69999.000000\n",
      "25%     849.990000  150.000000  154998.500000\n",
      "50%     999.990000  300.000000  239997.000000\n",
      "75%    1199.990000  300.000000  329997.000000\n",
      "max    1499.990000  400.000000  389997.000000\n",
      "\n",
      "0      CIVIC\n",
      "1      CAMRY\n",
      "2    ELANTRA\n",
      "3      FOCUS\n",
      "4    S CLASS\n",
      "5        Q60\n",
      "6       370Z\n",
      "Name: Model, dtype: object\n"
     ]
    }
   ],
   "source": [
    "# Prints the mean of all the numeric columns\n",
    "# print(cars_df.mean())\n",
    "# print()\n",
    "\n",
    "# Print summary statistics\n",
    "# Very useful for exploratory data analysis! \n",
    "print(cars_df.describe())\n",
    "# ?pd.DataFrame.describe()\n",
    "print()\n",
    "\n",
    "# You can apply lambda(anonymous) functions to certain columns in your dataframe for quick manipulations\n",
    "print(cars_df[\"Model\"].apply(lambda x: x.upper()))"
   ]
  },
  {
   "cell_type": "code",
   "execution_count": 18,
   "metadata": {},
   "outputs": [
    {
     "name": "stdout",
     "output_type": "stream",
     "text": [
      "  Unnamed: 0    Model    Price  Quantity   Revenue Door_Style  High_rev\n",
      "0      Honda    Civic   699.99       100   69999.0      Sedan     False\n",
      "1     Toyota    Camry   999.99       300  199998.0      Sedan      True\n",
      "2    Hyundai  Elantra   799.99       300  239997.0      Sedan      True\n",
      "3       Ford    Focus   899.99       400  359996.0      Sedan      True\n",
      "4   Mercedes  S Class  1299.99       300  389997.0      Coupe      True\n",
      "5   Infiniti      Q60  1099.99       100  109999.0      Coupe     False\n",
      "6     Nissan     370Z  1499.99       200  299998.0      Coupe      True\n",
      "\n",
      "  Unnamed: 0    Model   Price  Quantity   Revenue Door_Style  High_rev\n",
      "0      Honda    Civic  699.99       100   69999.0      Sedan     False\n",
      "1     Toyota    Camry  999.99       300  199998.0      Sedan      True\n",
      "2    Hyundai  Elantra  799.99       300  239997.0      Sedan      True\n",
      "3       Ford    Focus  899.99       400  359996.0      Sedan      True\n",
      "\n"
     ]
    }
   ],
   "source": [
    "# Querying / Filtering\n",
    "print(cars_df)\n",
    "print()\n",
    "# Select car models that are 'coupe' styled and earn high revenue\n",
    "print(cars_df.query('Door_Style==\"Sedan\" | Price<1000'))\n",
    "print()"
   ]
  },
  {
   "cell_type": "code",
   "execution_count": 19,
   "metadata": {},
   "outputs": [
    {
     "name": "stdout",
     "output_type": "stream",
     "text": [
      "              Price  Quantity        Revenue  High_rev\n",
      "Door_Style                                            \n",
      "Coupe       1299.99       200  266664.666667  0.666667\n",
      "Sedan        849.99       275  217497.500000  0.750000\n",
      "\n",
      "Door_Style\n",
      "Coupe    266664.666667\n",
      "Sedan    217497.500000\n",
      "Name: Revenue, dtype: float64\n",
      "\n",
      "                       Price    Quantity        Revenue\n",
      "Door_Style High_rev                                    \n",
      "Coupe      False     1099.99  100.000000  109999.000000\n",
      "           True      1399.99  250.000000  344997.500000\n",
      "Sedan      False      699.99  100.000000   69999.000000\n",
      "           True       899.99  333.333333  266663.666667\n"
     ]
    }
   ],
   "source": [
    "# Grouping summaries\n",
    "print(cars_df.groupby('Door_Style').mean())\n",
    "print()\n",
    "\n",
    "# Just the mean of the revenues for each door_style\n",
    "print(cars_df.groupby('Door_Style')[\"Revenue\"].mean())\n",
    "print()\n",
    "\n",
    "# Multiple grouping options\n",
    "print(cars_df.groupby(['Door_Style', \"High_rev\"]).mean())\n"
   ]
  },
  {
   "cell_type": "code",
   "execution_count": 20,
   "metadata": {},
   "outputs": [
    {
     "name": "stdout",
     "output_type": "stream",
     "text": [
      "  Unnamed: 0    Model    Price  Quantity   Revenue Door_Style  High_rev  \\\n",
      "0      Honda    Civic   699.99       100   69999.0      Sedan     False   \n",
      "1     Toyota    Camry   999.99       300  199998.0      Sedan      True   \n",
      "2    Hyundai  Elantra   799.99       300  239997.0      Sedan      True   \n",
      "3       Ford    Focus   899.99       400  359996.0      Sedan      True   \n",
      "4   Mercedes  S Class  1299.99       300  389997.0      Coupe      True   \n",
      "5   Infiniti      Q60  1099.99       100  109999.0      Coupe     False   \n",
      "6     Nissan     370Z  1499.99       200  299998.0      Coupe      True   \n",
      "\n",
      "    Price_type  \n",
      "0  Inexpensive  \n",
      "1     Midrange  \n",
      "2  Inexpensive  \n",
      "3     Midrange  \n",
      "4       Luxury  \n",
      "5     Midrange  \n",
      "6       Luxury  \n"
     ]
    }
   ],
   "source": [
    "# Binning data into categories\n",
    "percentiles = [0, cars_df[\"Price\"].quantile(0.25), cars_df[\"Price\"].quantile(0.75), cars_df[\"Price\"].max()]\n",
    "price_type = [\"Inexpensive\", \"Midrange\", \"Luxury\"]\n",
    "\n",
    "# The cut function is useful for taking continuous variables, like price, and making them categorical!\n",
    "cars_df[\"Price_type\"] = pd.cut(cars_df['Price'], percentiles, labels=price_type)\n",
    "print(cars_df)\n",
    "\n",
    "# But the values in \"Price_type\" aren't true categories yet..."
   ]
  },
  {
   "cell_type": "code",
   "execution_count": 21,
   "metadata": {},
   "outputs": [
    {
     "name": "stdout",
     "output_type": "stream",
     "text": [
      "0    Inexpensive\n",
      "1       Midrange\n",
      "2    Inexpensive\n",
      "3       Midrange\n",
      "4         Luxury\n",
      "5       Midrange\n",
      "6         Luxury\n",
      "Name: Price_type, dtype: category\n",
      "Categories (3, object): [Inexpensive < Midrange < Luxury]\n",
      "\n",
      "Is the Series ordered? True\n",
      "Is the Series ordered? False\n"
     ]
    }
   ],
   "source": [
    "# Take the price_type values and turn them into categories (faster operations under the hood)\n",
    "# Notice the order of the categoricals\n",
    "cars_df[\"Price_type\"] = cars_df[\"Price_type\"].astype(\"category\")\n",
    "print(cars_df[\"Price_type\"])\n",
    "print()\n",
    "print(\"Is the Series ordered? \" + str(cars_df[\"Price_type\"].cat.ordered))\n",
    "\n",
    "cars_df[\"Price_type\"] = cars_df[\"Price_type\"].cat.as_unordered()\n",
    "print(\"Is the Series ordered? \" + str(cars_df[\"Price_type\"].cat.ordered))\n"
   ]
  },
  {
   "cell_type": "code",
   "execution_count": 22,
   "metadata": {},
   "outputs": [
    {
     "name": "stdout",
     "output_type": "stream",
     "text": [
      "0    Inexpensive\n",
      "1       Midrange\n",
      "2    Inexpensive\n",
      "3       Midrange\n",
      "4         Luxury\n",
      "5       Midrange\n",
      "6         Luxury\n",
      "Name: Price_type, dtype: category\n",
      "Categories (3, object): [Inexpensive < Midrange < Luxury]\n",
      "\n",
      "  Unnamed: 0    Model    Price  Quantity   Revenue Door_Style  High_rev  \\\n",
      "0      Honda    Civic   699.99       100   69999.0      Sedan     False   \n",
      "2    Hyundai  Elantra   799.99       300  239997.0      Sedan      True   \n",
      "1     Toyota    Camry   999.99       300  199998.0      Sedan      True   \n",
      "3       Ford    Focus   899.99       400  359996.0      Sedan      True   \n",
      "5   Infiniti      Q60  1099.99       100  109999.0      Coupe     False   \n",
      "4   Mercedes  S Class  1299.99       300  389997.0      Coupe      True   \n",
      "6     Nissan     370Z  1499.99       200  299998.0      Coupe      True   \n",
      "\n",
      "    Price_type  \n",
      "0  Inexpensive  \n",
      "2  Inexpensive  \n",
      "1     Midrange  \n",
      "3     Midrange  \n",
      "5     Midrange  \n",
      "4       Luxury  \n",
      "6       Luxury  \n"
     ]
    }
   ],
   "source": [
    "# We are currently in the wrong order! \n",
    "    # Inexpensive < Luxury < Midrange\n",
    "# Let's change it to the right order:\n",
    "    # Inexpensive < Midrange < Luxury\n",
    "cars_df[\"Price_type\"] = cars_df[\"Price_type\"].cat.reorder_categories([\"Inexpensive\",\"Midrange\",\"Luxury\"], ordered=True)\n",
    "\n",
    "print(cars_df[\"Price_type\"])\n",
    "print()\n",
    "print(cars_df.sort_values(by=\"Price_type\")) # Try changing \"Price_type\" to \"Revenue\"! \n"
   ]
  },
  {
   "cell_type": "code",
   "execution_count": 23,
   "metadata": {},
   "outputs": [
    {
     "name": "stdout",
     "output_type": "stream",
     "text": [
      "Midrange       3\n",
      "Luxury         2\n",
      "Inexpensive    2\n",
      "Name: Price_type, dtype: int64\n",
      "\n",
      "count            7\n",
      "unique           3\n",
      "top       Midrange\n",
      "freq             3\n",
      "Name: Price_type, dtype: object\n",
      "\n",
      "Price_type\n",
      "Inexpensive    309996.0\n",
      "Midrange       669993.0\n",
      "Luxury         689995.0\n",
      "Name: Revenue, dtype: float64\n"
     ]
    }
   ],
   "source": [
    "print(cars_df[\"Price_type\"].value_counts())\n",
    "print()\n",
    "print(cars_df[\"Price_type\"].describe())\n",
    "print()\n",
    "print(cars_df.groupby(\"Price_type\")[\"Revenue\"].sum())"
   ]
  },
  {
   "cell_type": "code",
   "execution_count": null,
   "metadata": {
    "collapsed": true
   },
   "outputs": [],
   "source": []
  }
 ],
 "metadata": {
  "kernelspec": {
   "display_name": "Python 3",
   "language": "python",
   "name": "python3"
  },
  "language_info": {
   "codemirror_mode": {
    "name": "ipython",
    "version": 3
   },
   "file_extension": ".py",
   "mimetype": "text/x-python",
   "name": "python",
   "nbconvert_exporter": "python",
   "pygments_lexer": "ipython3",
   "version": "3.6.1"
  }
 },
 "nbformat": 4,
 "nbformat_minor": 2
}
